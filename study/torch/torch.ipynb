{
 "cells": [
  {
   "cell_type": "code",
   "execution_count": 1,
   "id": "87989de8",
   "metadata": {},
   "outputs": [],
   "source": [
    "import torch"
   ]
  },
  {
   "cell_type": "code",
   "execution_count": 2,
   "id": "79f58192",
   "metadata": {},
   "outputs": [],
   "source": [
    "data_list = [1,2,3]\n",
    "\n",
    "tensor = torch.tensor(data_list)"
   ]
  },
  {
   "cell_type": "code",
   "execution_count": 3,
   "id": "5d9ee6c9",
   "metadata": {},
   "outputs": [
    {
     "name": "stdout",
     "output_type": "stream",
     "text": [
      "<class 'torch.Tensor'>\n",
      "tensor([1, 2, 3])\n"
     ]
    }
   ],
   "source": [
    "print(type(tensor))\n",
    "\n",
    "print(tensor)"
   ]
  },
  {
   "cell_type": "code",
   "execution_count": 4,
   "id": "2a96138b",
   "metadata": {},
   "outputs": [
    {
     "name": "stdout",
     "output_type": "stream",
     "text": [
      "data type: torch.int64\n",
      "number of dimensions: 1\n",
      "shape: torch.Size([3])\n",
      "device: cpu\n",
      "requires_grad: False\n"
     ]
    }
   ],
   "source": [
    "print(f'data type: {tensor.dtype}')\n",
    "print(f'number of dimensions: {tensor.ndim}')\n",
    "print(f'shape: {tensor.shape}')\n",
    "print(f'device: {tensor.device}')\n",
    "print(f'requires_grad: {tensor.requires_grad}')"
   ]
  },
  {
   "cell_type": "code",
   "execution_count": 5,
   "id": "480770a9",
   "metadata": {},
   "outputs": [
    {
     "name": "stdout",
     "output_type": "stream",
     "text": [
      "size: torch.Size([3])\n"
     ]
    }
   ],
   "source": [
    "print(f'size: {tensor.size()}')"
   ]
  },
  {
   "cell_type": "code",
   "execution_count": 8,
   "id": "a28841c1",
   "metadata": {},
   "outputs": [
    {
     "name": "stdout",
     "output_type": "stream",
     "text": [
      "[[1 2 3]\n",
      " [4 5 6]]\n",
      "tensor([[1, 2, 3],\n",
      "        [4, 5, 6]])\n"
     ]
    }
   ],
   "source": [
    "import numpy as np\n",
    "\n",
    "data_np = np.array([[1,2,3],[4,5,6]])\n",
    "print(data_np)\n",
    "\n",
    "tensor_np = torch.tensor(data_np)\n",
    "print(tensor_np)"
   ]
  },
  {
   "cell_type": "code",
   "execution_count": 9,
   "id": "85521066",
   "metadata": {},
   "outputs": [
    {
     "name": "stdout",
     "output_type": "stream",
     "text": [
      "tensor([[1, 2, 3],\n",
      "        [4, 5, 6]])\n"
     ]
    }
   ],
   "source": [
    "tensor_from_np = torch.from_numpy(data_np)\n",
    "print(tensor_from_np)"
   ]
  },
  {
   "cell_type": "code",
   "execution_count": 10,
   "id": "bdcdf9e3",
   "metadata": {},
   "outputs": [
    {
     "name": "stdout",
     "output_type": "stream",
     "text": [
      "tensor([[1, 2, 3],\n",
      "        [4, 5, 6]])\n"
     ]
    }
   ],
   "source": [
    "tensor_as_tensor = torch.as_tensor(data_np)\n",
    "print(tensor_as_tensor)"
   ]
  },
  {
   "cell_type": "code",
   "execution_count": 11,
   "id": "891de3c0",
   "metadata": {},
   "outputs": [
    {
     "name": "stdout",
     "output_type": "stream",
     "text": [
      "torch.tensor() result\n",
      "tensor([[1, 2, 3],\n",
      "        [4, 5, 6]])\n",
      "\n",
      "torch.from_numpy() result\n",
      "tensor([[-1,  2,  3],\n",
      "        [ 4,  5,  6]])\n",
      "\n",
      "torch.as_tensor() result\n",
      "tensor([[-1,  2,  3],\n",
      "        [ 4,  5,  6]])\n",
      "\n"
     ]
    }
   ],
   "source": [
    "data_np[0, 0] = -1\n",
    "\n",
    "print(f'torch.tensor() result\\n{tensor_np}\\n')\n",
    "print(f'torch.from_numpy() result\\n{tensor_from_np}\\n')\n",
    "print(f'torch.as_tensor() result\\n{tensor_as_tensor}\\n')"
   ]
  },
  {
   "cell_type": "code",
   "execution_count": null,
   "id": "b5c9e9e6",
   "metadata": {},
   "outputs": [
    {
     "ename": "TypeError",
     "evalue": "expected np.ndarray (got list)",
     "output_type": "error",
     "traceback": [
      "\u001b[0;31m---------------------------------------------------------------------------\u001b[0m",
      "\u001b[0;31mTypeError\u001b[0m                                 Traceback (most recent call last)",
      "Cell \u001b[0;32mIn[13], line 1\u001b[0m\n\u001b[0;32m----> 1\u001b[0m torch_as_tensor2 \u001b[38;5;241m=\u001b[39m \u001b[43mtorch\u001b[49m\u001b[38;5;241;43m.\u001b[39;49m\u001b[43mfrom_numpy\u001b[49m\u001b[43m(\u001b[49m\u001b[43m[\u001b[49m\u001b[43m[\u001b[49m\u001b[38;5;241;43m1\u001b[39;49m\u001b[43m,\u001b[49m\u001b[43m \u001b[49m\u001b[38;5;241;43m2\u001b[39;49m\u001b[43m,\u001b[49m\u001b[43m \u001b[49m\u001b[38;5;241;43m3\u001b[39;49m\u001b[43m]\u001b[49m\u001b[43m,\u001b[49m\u001b[43m \u001b[49m\u001b[43m[\u001b[49m\u001b[38;5;241;43m4\u001b[39;49m\u001b[43m,\u001b[49m\u001b[43m \u001b[49m\u001b[38;5;241;43m5\u001b[39;49m\u001b[43m,\u001b[49m\u001b[43m \u001b[49m\u001b[38;5;241;43m6\u001b[39;49m\u001b[43m]\u001b[49m\u001b[43m]\u001b[49m\u001b[43m)\u001b[49m\n\u001b[1;32m      2\u001b[0m \u001b[38;5;28mprint\u001b[39m(torch_as_tensor2)\n",
      "\u001b[0;31mTypeError\u001b[0m: expected np.ndarray (got list)"
     ]
    }
   ],
   "source": [
    "torch_as_tensor2 = torch.from_numpy([[1, 2, 3], [4, 5, 6]]) # call by reference\n",
    "print(torch_as_tensor2)"
   ]
  },
  {
   "cell_type": "code",
   "execution_count": null,
   "id": "3c9ce2e1",
   "metadata": {},
   "outputs": [
    {
     "name": "stdout",
     "output_type": "stream",
     "text": [
      "tensor([[1, 2, 3],\n",
      "        [4, 5, 6]])\n"
     ]
    }
   ],
   "source": [
    "torch_as_tensor2 = torch.as_tensor([[1, 2, 3], [4, 5, 6]]) # call by value\n",
    "print(torch_as_tensor2)"
   ]
  },
  {
   "cell_type": "code",
   "execution_count": 15,
   "id": "282bc96e",
   "metadata": {},
   "outputs": [
    {
     "name": "stdout",
     "output_type": "stream",
     "text": [
      "torch.int64\n",
      "torch.int64\n",
      "torch.int64\n"
     ]
    }
   ],
   "source": [
    "print(tensor.dtype)\n",
    "print(tensor_np.dtype)\n",
    "print(tensor_from_np.dtype)"
   ]
  },
  {
   "cell_type": "code",
   "execution_count": 17,
   "id": "d1bf1734",
   "metadata": {},
   "outputs": [
    {
     "name": "stdout",
     "output_type": "stream",
     "text": [
      "tensor([1, 2, 3], device='mps:0')\n"
     ]
    }
   ],
   "source": [
    "gpu_tensor = torch.tensor([1, 2, 3], device='mps')\n",
    "print(gpu_tensor)"
   ]
  },
  {
   "cell_type": "code",
   "execution_count": 19,
   "id": "fe9b6f2c",
   "metadata": {},
   "outputs": [
    {
     "name": "stdout",
     "output_type": "stream",
     "text": [
      "tensor([[-1.7680, -0.1913,  1.3199],\n",
      "        [ 0.5889,  1.2801,  0.3704]])\n",
      "tensor([[ 0.3264,  0.2390, -0.7926],\n",
      "        [-1.1257, -0.4737,  0.2456]], device='mps:0')\n",
      "tensor([[ 0.0365,  1.3243, -1.6031],\n",
      "        [ 0.9364, -1.3994, -0.4926]])\n",
      "tensor([[-0.3285, -1.5224,  2.3481],\n",
      "        [-0.8357, -2.3443,  0.9032]], device='mps:0')\n"
     ]
    }
   ],
   "source": [
    "print(torch.randn(2, 3))  # Random tensor with shape (2, 3)\n",
    "print(torch.randn(2, 3, device='mps'))  # Random tensor with shape (2, 3) on GPU\n",
    "print(torch.randn(2, 3, dtype=torch.float32))  # Random tensor with shape (2, 3) and float32 type\n",
    "print(torch.randn(2, 3, dtype=torch.float32, device='mps'))  # Random tensor with shape (2, 3), float32 type on GPU"
   ]
  },
  {
   "cell_type": "code",
   "execution_count": 22,
   "id": "fe4504a0",
   "metadata": {},
   "outputs": [
    {
     "data": {
      "text/plain": [
       "tensor([[6.2598, 5.0397, 9.5922],\n",
       "        [9.8051, 1.2733, 8.8206]])"
      ]
     },
     "execution_count": 22,
     "metadata": {},
     "output_type": "execute_result"
    }
   ],
   "source": [
    "min_val, max_val = 0, 10\n",
    "min_val + (max_val - min_val) * torch.rand(2, 3)"
   ]
  },
  {
   "cell_type": "code",
   "execution_count": 25,
   "id": "ec90c0ed",
   "metadata": {},
   "outputs": [
    {
     "data": {
      "text/plain": [
       "tensor([[ -7.0732,   0.7229,  19.1884],\n",
       "        [  6.6672,   7.1621, -16.9839]])"
      ]
     },
     "execution_count": 25,
     "metadata": {},
     "output_type": "execute_result"
    }
   ],
   "source": [
    "mu, sigma = 1, 10\n",
    "mu + sigma * torch.randn(2, 3)"
   ]
  },
  {
   "cell_type": "code",
   "execution_count": 27,
   "id": "d1099f04",
   "metadata": {},
   "outputs": [
    {
     "name": "stdout",
     "output_type": "stream",
     "text": [
      "tensor([[0., 0., 0.],\n",
      "        [0., 0., 0.]])\n",
      "tensor([[1., 1., 1.],\n",
      "        [1., 1., 1.]])\n"
     ]
    }
   ],
   "source": [
    "print(torch.zeros(2, 3))  # Tensor filled with zeros\n",
    "print(torch.ones(2, 3))  # Tensor filled with zeros"
   ]
  },
  {
   "cell_type": "code",
   "execution_count": 28,
   "id": "faba0455",
   "metadata": {},
   "outputs": [
    {
     "name": "stdout",
     "output_type": "stream",
     "text": [
      "tensor([[5., 5., 5.],\n",
      "        [5., 5., 5.]])\n",
      "tensor([[5, 5, 5],\n",
      "        [5, 5, 5]])\n"
     ]
    }
   ],
   "source": [
    "print(torch.ones(2,3) * 5)\n",
    "print(torch.full((2, 3), 5))  # Tensor filled with a specific value"
   ]
  },
  {
   "cell_type": "code",
   "execution_count": 30,
   "id": "632198cd",
   "metadata": {},
   "outputs": [
    {
     "name": "stdout",
     "output_type": "stream",
     "text": [
      "torch.float32\n",
      "torch.float32\n"
     ]
    }
   ],
   "source": [
    "one_sample = torch.ones(2,3) * 5\n",
    "full_sample = torch.full((2, 3), 5.0)\n",
    "print(one_sample.dtype)\n",
    "print(full_sample.dtype)"
   ]
  },
  {
   "cell_type": "code",
   "execution_count": null,
   "id": "0ed6f94b",
   "metadata": {},
   "outputs": [
    {
     "name": "stdout",
     "output_type": "stream",
     "text": [
      "tensor([[ 1,  1],\n",
      "        [-1, -1]])\n",
      "tensor([[3, 4],\n",
      "        [5, 6]])\n"
     ]
    }
   ],
   "source": [
    "data_list = [[1,1], [-1,-1]]\n",
    "data_np = np.array([[3,4],[5,6]])\n",
    "\n",
    "tensor_from_list = torch.tensor(data_list)\n",
    "tensor_from_np_array = torch.tensor(data_np)\n",
    "\n",
    "print(tensor_from_list)\n",
    "print(tensor_from_np_array)"
   ]
  },
  {
   "cell_type": "code",
   "execution_count": 32,
   "id": "36fba01b",
   "metadata": {},
   "outputs": [
    {
     "name": "stdout",
     "output_type": "stream",
     "text": [
      "torch.float32\n",
      "<class 'numpy.ndarray'>\n"
     ]
    }
   ],
   "source": [
    "tensor = torch.ones(2,2)\n",
    "\n",
    "np_arr = tensor.numpy()\n",
    "print(tensor.dtype)\n",
    "print(type(np_arr))"
   ]
  },
  {
   "cell_type": "code",
   "execution_count": 40,
   "id": "b7ab6526",
   "metadata": {},
   "outputs": [],
   "source": [
    "a = torch.tensor([[1,2],[3,4]])\n",
    "b = torch.tensor([[5,6],[7,8]])"
   ]
  },
  {
   "cell_type": "code",
   "execution_count": 34,
   "id": "d59e0ac4",
   "metadata": {},
   "outputs": [
    {
     "data": {
      "text/plain": [
       "tensor([[ 6,  8],\n",
       "        [10, 12]])"
      ]
     },
     "execution_count": 34,
     "metadata": {},
     "output_type": "execute_result"
    }
   ],
   "source": [
    "a+b"
   ]
  },
  {
   "cell_type": "code",
   "execution_count": 35,
   "id": "67a41647",
   "metadata": {},
   "outputs": [
    {
     "data": {
      "text/plain": [
       "tensor([[ 6,  8],\n",
       "        [10, 12]])"
      ]
     },
     "execution_count": 35,
     "metadata": {},
     "output_type": "execute_result"
    }
   ],
   "source": [
    "torch.add(a, b)"
   ]
  },
  {
   "cell_type": "code",
   "execution_count": 36,
   "id": "5fdf84c7",
   "metadata": {},
   "outputs": [
    {
     "data": {
      "text/plain": [
       "tensor([[ 5, 12],\n",
       "        [21, 32]])"
      ]
     },
     "execution_count": 36,
     "metadata": {},
     "output_type": "execute_result"
    }
   ],
   "source": [
    "a * b"
   ]
  },
  {
   "cell_type": "code",
   "execution_count": 37,
   "id": "6293eb67",
   "metadata": {},
   "outputs": [
    {
     "data": {
      "text/plain": [
       "tensor([[ 5, 12],\n",
       "        [21, 32]])"
      ]
     },
     "execution_count": 37,
     "metadata": {},
     "output_type": "execute_result"
    }
   ],
   "source": [
    "torch.multiply(a, b)"
   ]
  },
  {
   "cell_type": "code",
   "execution_count": 38,
   "id": "34c1a25d",
   "metadata": {},
   "outputs": [
    {
     "data": {
      "text/plain": [
       "tensor([[19, 22],\n",
       "        [43, 50]])"
      ]
     },
     "execution_count": 38,
     "metadata": {},
     "output_type": "execute_result"
    }
   ],
   "source": [
    "torch.matmul(a, b)  # Matrix multiplication"
   ]
  },
  {
   "cell_type": "code",
   "execution_count": 43,
   "id": "e9d3b109",
   "metadata": {},
   "outputs": [],
   "source": [
    "a = torch.tensor(\n",
    "    [\n",
    "        [1,2],\n",
    "        [3,4],\n",
    "\t\t[5,6],\n",
    "        [7,8]\n",
    "\t]\n",
    ")\n",
    "\n",
    "b = torch.tensor(\n",
    "    [\n",
    "        [1,0,0],\n",
    "        [0,0,1],\n",
    "\t]\n",
    ")"
   ]
  },
  {
   "cell_type": "code",
   "execution_count": 44,
   "id": "80a298f4",
   "metadata": {},
   "outputs": [
    {
     "data": {
      "text/plain": [
       "tensor([[1, 0, 2],\n",
       "        [3, 0, 4],\n",
       "        [5, 0, 6],\n",
       "        [7, 0, 8]])"
      ]
     },
     "execution_count": 44,
     "metadata": {},
     "output_type": "execute_result"
    }
   ],
   "source": [
    "torch.matmul(a, b)  # Matrix multiplication"
   ]
  },
  {
   "cell_type": "code",
   "execution_count": 45,
   "id": "7a414778",
   "metadata": {},
   "outputs": [
    {
     "data": {
      "text/plain": [
       "tensor([[1, 0, 2],\n",
       "        [3, 0, 4],\n",
       "        [5, 0, 6],\n",
       "        [7, 0, 8]])"
      ]
     },
     "execution_count": 45,
     "metadata": {},
     "output_type": "execute_result"
    }
   ],
   "source": [
    "a @ b"
   ]
  },
  {
   "cell_type": "markdown",
   "id": "3a1c2c10",
   "metadata": {},
   "source": [
    "- 실습 설명\n",
    "\n",
    "세 개의 텐서 tensor0, tensor1, tensor2가 주어져 있습니다. 다음 단계를 따라 코드를 작성해 주세요.\n",
    "\n",
    "1. tensor0과 tensor1을 더합니다.\n",
    "2. 1번 결과와 tensor2를 행렬곱합니다.\n",
    "3. 2번 결과에서 첫 번째 열에는 2를 더하고, 두 번째 열에서는 2를 뺍니다.\n",
    "4. 3번 결과를 NumPy array로 변환합니다. 이때 변수 이름은 final_np_array로 설정합니다.\n",
    "\n",
    "실습 결과\n",
    "\n",
    "코드 마지막 부분에서 print() 함수로 출력한 결과가 아래처럼 나와야 합니다.\n",
    "\n",
    "```\n",
    "[[6 -6]\n",
    "[0 0]]\n",
    "```"
   ]
  },
  {
   "cell_type": "code",
   "execution_count": 56,
   "id": "b9d4e162",
   "metadata": {},
   "outputs": [
    {
     "name": "stdout",
     "output_type": "stream",
     "text": [
      "[[ 6 -6]\n",
      " [ 0  0]]\n",
      "<class 'numpy.ndarray'>\n"
     ]
    }
   ],
   "source": [
    "tensor0 = torch.tensor(\n",
    "    [\n",
    "        [1,1],\n",
    "        [-1, -1]\n",
    "\t]\n",
    ")\n",
    "\n",
    "tensor1 = torch.tensor(\n",
    "    [\n",
    "        [1,1],\n",
    "        [0,0]\n",
    "\t]\n",
    ")\n",
    "\n",
    "tensor2 = torch.tensor(\n",
    "    [\n",
    "        [1,-1],\n",
    "        [1,-1]\n",
    "\t]\n",
    ")\n",
    "\n",
    "final_np_array = (((tensor0 + tensor1) @ tensor2) + torch.tensor([2,-2])).numpy()\n",
    "print(final_np_array)\n",
    "print(type(final_np_array))\n",
    "\n",
    "\n"
   ]
  },
  {
   "cell_type": "code",
   "execution_count": 57,
   "id": "1409a231",
   "metadata": {},
   "outputs": [
    {
     "name": "stdout",
     "output_type": "stream",
     "text": [
      "torch.Size([4, 2, 3])\n"
     ]
    }
   ],
   "source": [
    "x = torch.randn(2,3,4)\n",
    "permuted = x.permute(2, 0, 1)  # Change the order of dimensions\n",
    "print(permuted.size())"
   ]
  },
  {
   "cell_type": "code",
   "execution_count": 59,
   "id": "f144f73d",
   "metadata": {},
   "outputs": [
    {
     "name": "stdout",
     "output_type": "stream",
     "text": [
      "tensor([[[ 0.8168, -0.7544, -1.6806,  0.1625],\n",
      "         [ 0.3338, -1.2003,  0.8216, -1.6143],\n",
      "         [-0.2981, -1.4509,  1.6540,  0.3604]],\n",
      "\n",
      "        [[ 0.8285, -0.1001, -0.1716,  2.2248],\n",
      "         [ 0.5789, -0.4503,  0.1843,  1.6029],\n",
      "         [-2.2948,  1.4153, -0.3670,  0.6782]]])\n",
      "tensor([[[ 0.8168,  0.3338, -0.2981],\n",
      "         [ 0.8285,  0.5789, -2.2948]],\n",
      "\n",
      "        [[-0.7544, -1.2003, -1.4509],\n",
      "         [-0.1001, -0.4503,  1.4153]],\n",
      "\n",
      "        [[-1.6806,  0.8216,  1.6540],\n",
      "         [-0.1716,  0.1843, -0.3670]],\n",
      "\n",
      "        [[ 0.1625, -1.6143,  0.3604],\n",
      "         [ 2.2248,  1.6029,  0.6782]]])\n"
     ]
    }
   ],
   "source": [
    "print(x)\n",
    "print(permuted)"
   ]
  },
  {
   "cell_type": "code",
   "execution_count": 60,
   "id": "9275203b",
   "metadata": {},
   "outputs": [
    {
     "name": "stdout",
     "output_type": "stream",
     "text": [
      "tensor([[-0.9025,  0.1493, -0.3046],\n",
      "        [-0.7238, -0.3083, -1.7261]])\n",
      "tensor([[-0.9025, -0.7238],\n",
      "        [ 0.1493, -0.3083],\n",
      "        [-0.3046, -1.7261]])\n"
     ]
    }
   ],
   "source": [
    "x1 = torch.randn(2, 3)\n",
    "x2 = x1.T\n",
    "\n",
    "print(x1)\n",
    "print(x2)"
   ]
  },
  {
   "cell_type": "code",
   "execution_count": 62,
   "id": "dac93f55",
   "metadata": {},
   "outputs": [
    {
     "name": "stdout",
     "output_type": "stream",
     "text": [
      "tensor([[[ 0.4290,  0.4886, -0.0110],\n",
      "         [ 0.2603, -0.0799,  0.0978],\n",
      "         [ 2.1691, -0.1703,  1.1170],\n",
      "         [-0.6673,  0.1638, -0.1148]]])\n",
      "tensor([[ 0.4290,  0.4886, -0.0110],\n",
      "        [ 0.2603, -0.0799,  0.0978],\n",
      "        [ 2.1691, -0.1703,  1.1170],\n",
      "        [-0.6673,  0.1638, -0.1148]])\n"
     ]
    }
   ],
   "source": [
    "x = torch.randn(1,4,3)\n",
    "print(x)\n",
    "x = x.squeeze()\n",
    "print(x)"
   ]
  },
  {
   "cell_type": "code",
   "execution_count": 68,
   "id": "d4fe6fe1",
   "metadata": {},
   "outputs": [
    {
     "name": "stdout",
     "output_type": "stream",
     "text": [
      "torch.Size([1, 28, 1, 28])\n",
      "torch.Size([28, 1, 28])\n",
      "torch.Size([28, 28])\n"
     ]
    }
   ],
   "source": [
    "x = torch.randn(1,28,1,28)\n",
    "print(x.size())\n",
    "x = x.squeeze(0)\n",
    "print(x.size())\n",
    "x = x.squeeze(1)\n",
    "print(x.size())"
   ]
  },
  {
   "cell_type": "code",
   "execution_count": null,
   "id": "6b4c47f9",
   "metadata": {},
   "outputs": [
    {
     "name": "stdout",
     "output_type": "stream",
     "text": [
      "torch.Size([28, 28, 1])\n"
     ]
    }
   ],
   "source": [
    "x = torch.randn(28,28)\n",
    "x = x.unsqueeze(-1)  # Add a new dimension\n",
    "print(x.size())"
   ]
  },
  {
   "cell_type": "code",
   "execution_count": 72,
   "id": "43b57aa4",
   "metadata": {},
   "outputs": [
    {
     "name": "stdout",
     "output_type": "stream",
     "text": [
      "torch.Size([2, 6])\n"
     ]
    }
   ],
   "source": [
    "x = torch.randn(3,4)\n",
    "res = x.view(2,6)\n",
    "\n",
    "print(res.size())"
   ]
  },
  {
   "cell_type": "code",
   "execution_count": 74,
   "id": "1e2d1af2",
   "metadata": {},
   "outputs": [
    {
     "data": {
      "text/plain": [
       "True"
      ]
     },
     "execution_count": 74,
     "metadata": {},
     "output_type": "execute_result"
    }
   ],
   "source": [
    "x.is_contiguous()"
   ]
  },
  {
   "cell_type": "code",
   "execution_count": 77,
   "id": "b296854f",
   "metadata": {},
   "outputs": [
    {
     "name": "stdout",
     "output_type": "stream",
     "text": [
      "False\n",
      "False\n"
     ]
    }
   ],
   "source": [
    "x = torch.ones(3,16,28)\n",
    "x_permued = x.permute(2,1,0)\n",
    "x_sliced = x[:,:,:10]\n",
    "\n",
    "print(x_permued.is_contiguous())\n",
    "print(x_sliced.is_contiguous())"
   ]
  },
  {
   "cell_type": "code",
   "execution_count": null,
   "id": "a573bf5b",
   "metadata": {},
   "outputs": [
    {
     "name": "stdout",
     "output_type": "stream",
     "text": [
      "False\n",
      "True\n"
     ]
    },
    {
     "ename": "RuntimeError",
     "evalue": "view size is not compatible with input tensor's size and stride (at least one dimension spans across two contiguous subspaces). Use .reshape(...) instead.",
     "output_type": "error",
     "traceback": [
      "\u001b[0;31m---------------------------------------------------------------------------\u001b[0m",
      "\u001b[0;31mRuntimeError\u001b[0m                              Traceback (most recent call last)",
      "Cell \u001b[0;32mIn[80], line 6\u001b[0m\n\u001b[1;32m      3\u001b[0m \u001b[38;5;28mprint\u001b[39m(xx\u001b[38;5;241m.\u001b[39mis_contiguous())\n\u001b[1;32m      5\u001b[0m xx\u001b[38;5;241m.\u001b[39mview(\u001b[38;5;241m16\u001b[39m,\u001b[38;5;241m3\u001b[39m,\u001b[38;5;241m28\u001b[39m)\n\u001b[0;32m----> 6\u001b[0m \u001b[43mx_permued\u001b[49m\u001b[38;5;241;43m.\u001b[39;49m\u001b[43mview\u001b[49m\u001b[43m(\u001b[49m\u001b[38;5;241;43m16\u001b[39;49m\u001b[43m,\u001b[49m\u001b[38;5;241;43m3\u001b[39;49m\u001b[43m,\u001b[49m\u001b[38;5;241;43m28\u001b[39;49m\u001b[43m)\u001b[49m  \u001b[38;5;66;03m# This will raise an error if x_permued is not contiguous\u001b[39;00m\n",
      "\u001b[0;31mRuntimeError\u001b[0m: view size is not compatible with input tensor's size and stride (at least one dimension spans across two contiguous subspaces). Use .reshape(...) instead."
     ]
    }
   ],
   "source": [
    "xx = x_permued.contiguous()\n",
    "print(x_permued.is_contiguous())\n",
    "print(xx.is_contiguous())\n",
    "\n",
    "xx.view(16,3,28)\n",
    "x_permued.view(16,3,28)  # This will raise an error if x_permued is not contiguous"
   ]
  },
  {
   "cell_type": "code",
   "execution_count": null,
   "id": "1f88a63c",
   "metadata": {},
   "outputs": [
    {
     "name": "stdout",
     "output_type": "stream",
     "text": [
      "torch.Size([10, 3, 4, 5])\n",
      "torch.Size([10, 4, 3, 5])\n"
     ]
    }
   ],
   "source": [
    "x = torch.ones(10,3,4,5)\n",
    "print(x.size())\n",
    "print(torch.transpose(x,1,2).size()) # 사이즈 교환"
   ]
  },
  {
   "cell_type": "code",
   "execution_count": null,
   "id": "4d2e36d8",
   "metadata": {},
   "outputs": [],
   "source": [
    "x = torch.ones(2,3,4)\n",
    "\n",
    "# h, w, c -> c, h, w  pytorch = chw, opencv = hwc \n",
    "# height, width, channels -> channels, height, width\n",
    "permuted = x.permute(2, 0, 1)"
   ]
  },
  {
   "cell_type": "code",
   "execution_count": null,
   "id": "cb726b9e",
   "metadata": {},
   "outputs": [
    {
     "name": "stdout",
     "output_type": "stream",
     "text": [
      "tensor([[0., 0., 0.],\n",
      "        [0., 0., 0.]])\n",
      "tensor([[1., 1., 1.],\n",
      "        [1., 1., 1.]])\n",
      "tensor([[0., 0., 0.],\n",
      "        [0., 0., 0.],\n",
      "        [1., 1., 1.],\n",
      "        [1., 1., 1.]])\n",
      "tensor([[0., 0., 0., 1., 1., 1.],\n",
      "        [0., 0., 0., 1., 1., 1.]])\n"
     ]
    }
   ],
   "source": [
    "x = torch.zeros(2,3)\n",
    "y = torch.ones(2,3)\n",
    "\n",
    "# concatenate\n",
    "cat0 = torch.cat([x,y], dim=0)  # Concatenate along the first dimension\n",
    "cat1 = torch.cat([x,y], dim=1)  # Concatenate along the second dimension\n",
    "\n",
    "print(x)\n",
    "print(y)\n",
    "\n",
    "print(cat0)\n",
    "print(cat1)"
   ]
  },
  {
   "cell_type": "code",
   "execution_count": 87,
   "id": "d9763931",
   "metadata": {},
   "outputs": [
    {
     "name": "stdout",
     "output_type": "stream",
     "text": [
      "tensor([[0., 0., 0.],\n",
      "        [0., 0., 0.]])\n",
      "tensor([[1., 1., 1.],\n",
      "        [1., 1., 1.]])\n",
      "tensor([[[0., 0., 0.],\n",
      "         [0., 0., 0.]],\n",
      "\n",
      "        [[1., 1., 1.],\n",
      "         [1., 1., 1.]]])\n",
      "tensor([[[0., 0., 0.],\n",
      "         [1., 1., 1.]],\n",
      "\n",
      "        [[0., 0., 0.],\n",
      "         [1., 1., 1.]]])\n"
     ]
    }
   ],
   "source": [
    "st0 = torch.stack([x,y], dim=0)  # Stack along a new dimension\n",
    "st1 = torch.stack([x,y], dim=1)  # Stack along a new dimension\n",
    "\n",
    "print(x)\n",
    "print(y)\n",
    "\n",
    "print(st0)\n",
    "print(st1)"
   ]
  },
  {
   "cell_type": "code",
   "execution_count": 88,
   "id": "0eaf6435",
   "metadata": {},
   "outputs": [
    {
     "name": "stdout",
     "output_type": "stream",
     "text": [
      "torch.Size([4, 3])\n",
      "torch.Size([2, 6])\n",
      "torch.Size([2, 2, 3])\n",
      "torch.Size([2, 2, 3])\n"
     ]
    }
   ],
   "source": [
    "print(cat0.size())\n",
    "print(cat1.size())\n",
    "print(st0.size())\n",
    "print(st1.size())"
   ]
  },
  {
   "cell_type": "code",
   "execution_count": null,
   "id": "4d8580d4",
   "metadata": {},
   "outputs": [],
   "source": []
  }
 ],
 "metadata": {
  "kernelspec": {
   "display_name": "myvenv",
   "language": "python",
   "name": "python3"
  },
  "language_info": {
   "codemirror_mode": {
    "name": "ipython",
    "version": 3
   },
   "file_extension": ".py",
   "mimetype": "text/x-python",
   "name": "python",
   "nbconvert_exporter": "python",
   "pygments_lexer": "ipython3",
   "version": "3.9.6"
  }
 },
 "nbformat": 4,
 "nbformat_minor": 5
}
