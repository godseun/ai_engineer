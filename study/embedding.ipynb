{
 "cells": [
  {
   "cell_type": "code",
   "execution_count": 1,
   "id": "ab223931",
   "metadata": {},
   "outputs": [
    {
     "name": "stderr",
     "output_type": "stream",
     "text": [
      "/Users/kimjaeyong/Documents/study/toy_projects/codeit/myvenv/lib/python3.9/site-packages/urllib3/__init__.py:35: NotOpenSSLWarning: urllib3 v2 only supports OpenSSL 1.1.1+, currently the 'ssl' module is compiled with 'LibreSSL 2.8.3'. See: https://github.com/urllib3/urllib3/issues/3020\n",
      "  warnings.warn(\n",
      "/Users/kimjaeyong/Documents/study/toy_projects/codeit/myvenv/lib/python3.9/site-packages/tqdm/auto.py:21: TqdmWarning: IProgress not found. Please update jupyter and ipywidgets. See https://ipywidgets.readthedocs.io/en/stable/user_install.html\n",
      "  from .autonotebook import tqdm as notebook_tqdm\n"
     ]
    },
    {
     "name": "stdout",
     "output_type": "stream",
     "text": [
      "지금 실행중인 하드웨어 장치 : mps\n"
     ]
    }
   ],
   "source": [
    "import torch\n",
    "from sentence_transformers import SentenceTransformer\n",
    "from sklearn.metrics.pairwise import cosine_similarity\n",
    "\n",
    "# window\n",
    "# device = torch.device('cuda' if torch.cuda.is_available() else 'cpu') # 내 장치가 GPU 인지 CPU 인지 확인\n",
    "\n",
    "# mac\n",
    "device = torch.device('mps' if torch.backends.mps.is_available() else 'cpu') # 내 장치가 GPU 인지 CPU 인지 확인\n",
    "\n",
    "print(f\"지금 실행중인 하드웨어 장치 : {device}\")\n",
    "\n",
    "model = SentenceTransformer('snunlp/KR-SBERT-V40K-klueNLI-augSTS', device=device)"
   ]
  },
  {
   "cell_type": "code",
   "execution_count": 2,
   "id": "e26b8221",
   "metadata": {},
   "outputs": [
    {
     "name": "stdout",
     "output_type": "stream",
     "text": [
      "(6, 768)\n"
     ]
    }
   ],
   "source": [
    "sentences =[\n",
    "    '코드잇 강의 좋아요',\n",
    "    '코드잇 학생들 좋아요',\n",
    "    '코드잇 강의는 정말 좋아요',\n",
    "\t'코드잇 강의는 정말 재미있어요',\n",
    "    '삼성동에서 공부하고 있습니다.'\n",
    "\t'삼성동에서 근무하고 있습니다.',\n",
    "    '오늘 날씨가 좋습니다.',\n",
    "]\n",
    "\n",
    "# 문장 임베딩\n",
    "embeddings = model.encode(sentences, device=device)\n",
    "print(embeddings.shape)"
   ]
  },
  {
   "cell_type": "code",
   "execution_count": 3,
   "id": "fbf5c163",
   "metadata": {},
   "outputs": [
    {
     "name": "stdout",
     "output_type": "stream",
     "text": [
      "<class 'numpy.ndarray'>\n"
     ]
    }
   ],
   "source": [
    "print(type(embeddings))"
   ]
  },
  {
   "cell_type": "code",
   "execution_count": 5,
   "id": "7570f540",
   "metadata": {},
   "outputs": [
    {
     "name": "stdout",
     "output_type": "stream",
     "text": [
      "[[0.161403]]\n",
      "[[1.0000001  0.71295434 0.91886854 0.83026135 0.16140299 0.3438565 ]\n",
      " [0.71295434 0.9999998  0.7195976  0.6114042  0.12963414 0.41728717]\n",
      " [0.91886854 0.7195976  0.9999999  0.93531    0.18543841 0.450109  ]\n",
      " [0.83026135 0.6114042  0.93531    1.0000002  0.18890287 0.39236322]\n",
      " [0.16140299 0.12963414 0.18543841 0.18890287 1.         0.10391874]\n",
      " [0.3438565  0.41728717 0.450109   0.39236322 0.10391874 0.9999999 ]]\n"
     ]
    }
   ],
   "source": [
    "sim = cosine_similarity(\n",
    "    [embeddings[0]],\n",
    "    [embeddings[4]],\n",
    ")\n",
    "\n",
    "print(sim)\n",
    "\n",
    "sim_matrix = cosine_similarity(embeddings,embeddings)\n",
    "print(sim_matrix)"
   ]
  },
  {
   "cell_type": "code",
   "execution_count": 7,
   "id": "d9783b82",
   "metadata": {},
   "outputs": [
    {
     "name": "stdout",
     "output_type": "stream",
     "text": [
      "[['코드잇', '강의', '좋아요'], ['코드잇', '학생들', '좋아요'], ['코드잇', '강의는', '정말', '좋아요'], ['코드잇', '강의는', '정말', '재미있어요'], ['삼성동에서', '공부하고', '있습니다.삼성동에서', '근무하고', '있습니다.'], ['오늘', '날씨가', '좋습니다.']]\n"
     ]
    }
   ],
   "source": [
    "tokenized_sentences = [doc.split() for doc in sentences]\n",
    "print(tokenized_sentences)"
   ]
  },
  {
   "cell_type": "code",
   "execution_count": null,
   "id": "dc8bf8d1",
   "metadata": {},
   "outputs": [
    {
     "ename": "ModuleNotFoundError",
     "evalue": "No module named 'gensim'",
     "output_type": "error",
     "traceback": [
      "\u001b[0;31m---------------------------------------------------------------------------\u001b[0m",
      "\u001b[0;31mModuleNotFoundError\u001b[0m                       Traceback (most recent call last)",
      "Cell \u001b[0;32mIn[22], line 1\u001b[0m\n\u001b[0;32m----> 1\u001b[0m \u001b[38;5;28;01mfrom\u001b[39;00m\u001b[38;5;250m \u001b[39m\u001b[38;5;21;01mgensim\u001b[39;00m\u001b[38;5;21;01m.\u001b[39;00m\u001b[38;5;21;01mmodels\u001b[39;00m\u001b[38;5;250m \u001b[39m\u001b[38;5;28;01mimport\u001b[39;00m Word2Vec\n\u001b[1;32m      3\u001b[0m \u001b[38;5;66;03m# Word2Vec 모델 학습\u001b[39;00m\n\u001b[1;32m      4\u001b[0m word2vec_model \u001b[38;5;241m=\u001b[39m Word2Vec(\n\u001b[1;32m      5\u001b[0m     sentences\u001b[38;5;241m=\u001b[39mtokenized_sentences, \n\u001b[1;32m      6\u001b[0m     vector_size\u001b[38;5;241m=\u001b[39m\u001b[38;5;241m100\u001b[39m, \n\u001b[1;32m      7\u001b[0m     window\u001b[38;5;241m=\u001b[39m\u001b[38;5;241m2\u001b[39m, \n\u001b[1;32m      8\u001b[0m     min_count\u001b[38;5;241m=\u001b[39m\u001b[38;5;241m1\u001b[39m, \n\u001b[1;32m      9\u001b[0m     workers\u001b[38;5;241m=\u001b[39m\u001b[38;5;241m4\u001b[39m)\n",
      "\u001b[0;31mModuleNotFoundError\u001b[0m: No module named 'gensim'"
     ]
    }
   ],
   "source": []
  },
  {
   "cell_type": "code",
   "execution_count": null,
   "id": "b7a1d14c",
   "metadata": {},
   "outputs": [],
   "source": []
  }
 ],
 "metadata": {
  "kernelspec": {
   "display_name": "myvenv",
   "language": "python",
   "name": "python3"
  },
  "language_info": {
   "codemirror_mode": {
    "name": "ipython",
    "version": 3
   },
   "file_extension": ".py",
   "mimetype": "text/x-python",
   "name": "python",
   "nbconvert_exporter": "python",
   "pygments_lexer": "ipython3",
   "version": "3.9.6"
  }
 },
 "nbformat": 4,
 "nbformat_minor": 5
}
