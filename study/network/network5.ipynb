{
 "cells": [
  {
   "cell_type": "code",
   "execution_count": 2,
   "id": "5b6193f6",
   "metadata": {},
   "outputs": [],
   "source": [
    "import numpy as np\n",
    "import torch\n",
    "from torch import nn, optim\n",
    "from torch.nn import functional as F\n",
    "from torch.utils.data import DataLoader, random_split\n",
    "from torchvision import datasets, transforms\n",
    "from torchvision.transforms import v2\n",
    "\n",
    "from PIL import Image\n",
    "\n",
    "import matplotlib.pyplot as plt\n",
    "\n",
    "from torchinfo import summary"
   ]
  },
  {
   "cell_type": "code",
   "execution_count": 3,
   "id": "be07c982",
   "metadata": {},
   "outputs": [
    {
     "name": "stdout",
     "output_type": "stream",
     "text": [
      "60000 10000\n"
     ]
    }
   ],
   "source": [
    "train_dataset = datasets.FashionMNIST(\n",
    "    root='./fashion_mnist',\n",
    "    train=True,\n",
    "    download=True\n",
    ")\n",
    "test_dataset = datasets.FashionMNIST(\n",
    "    root='./fashion_mnist',\n",
    "    train=False,\n",
    "    download=True\n",
    ")\n",
    "\n",
    "print(len(train_dataset), len(test_dataset))"
   ]
  },
  {
   "cell_type": "code",
   "execution_count": 4,
   "id": "ebddc29d",
   "metadata": {},
   "outputs": [
    {
     "data": {
      "image/png": "[encoded data removed]",
      "text/plain": [
       "<Figure size 100x100 with 1 Axes>"
      ]
     },
     "metadata": {},
     "output_type": "display_data"
    },
    {
     "data": {
      "image/png": "[encoded data removed]",
      "text/plain": [
       "<Figure size 100x100 with 1 Axes>"
      ]
     },
     "metadata": {},
     "output_type": "display_data"
    },
    {
     "data": {
      "image/png": "[encoded data removed]",
      "text/plain": [
       "<Figure size 100x100 with 1 Axes>"
      ]
     },
     "metadata": {},
     "output_type": "display_data"
    }
   ],
   "source": [
    "def visualize_data(image, label):\n",
    "\tclass_names= ['T-shirt/top', 'Trouser', 'Pullover', 'Dress', 'Coat',\n",
    "                   'Sandal', 'Shirt', 'Sneaker', 'Bag', 'Ankle boot']\n",
    "\tplt.figure(figsize=(1, 1))\n",
    "\tplt.imshow(image, cmap='gray')\n",
    "\tplt.title(f'Label: {class_names[label]}')\n",
    "\tplt.axis('off')\n",
    "\tplt.show()\n",
    "\n",
    "for i in range(3):\n",
    "\timage, label = train_dataset[i]\n",
    "\tvisualize_data(image, label)"
   ]
  },
  {
   "cell_type": "code",
   "execution_count": 5,
   "id": "da98f5de",
   "metadata": {},
   "outputs": [
    {
     "name": "stdout",
     "output_type": "stream",
     "text": [
      "[[  0   0   0   0   0   0   0   0   0   0   0   0   0   0   0   0   0   0\n",
      "    0   0   0   0   0   0   0   0   0   0]\n",
      " [  0   0   0   0   0   0   0   0   0   0   0   0   0   0   0   0   0   0\n",
      "    0   0   0   0   0   0   0   0   0   0]\n",
      " [  0   0   0   0   0   0   0   0   0   0   0   0   0   0   0   0   0   0\n",
      "    0   0   0   0   0   0   0   0   0   0]\n",
      " [  0   0   0   0   0   0   0   0   0   0   0   0   1   0   0  13  73   0\n",
      "    0   1   4   0   0   0   0   1   1   0]\n",
      " [  0   0   0   0   0   0   0   0   0   0   0   0   3   0  36 136 127  62\n",
      "   54   0   0   0   1   3   4   0   0   3]\n",
      " [  0   0   0   0   0   0   0   0   0   0   0   0   6   0 102 204 176 134\n",
      "  144 123  23   0   0   0   0  12  10   0]\n",
      " [  0   0   0   0   0   0   0   0   0   0   0   0   0   0 155 236 207 178\n",
      "  107 156 161 109  64  23  77 130  72  15]\n",
      " [  0   0   0   0   0   0   0   0   0   0   0   1   0  69 207 223 218 216\n",
      "  216 163 127 121 122 146 141  88 172  66]\n",
      " [  0   0   0   0   0   0   0   0   0   1   1   1   0 200 232 232 233 229\n",
      "  223 223 215 213 164 127 123 196 229   0]\n",
      " [  0   0   0   0   0   0   0   0   0   0   0   0   0 183 225 216 223 228\n",
      "  235 227 224 222 224 221 223 245 173   0]\n",
      " [  0   0   0   0   0   0   0   0   0   0   0   0   0 193 228 218 213 198\n",
      "  180 212 210 211 213 223 220 243 202   0]\n",
      " [  0   0   0   0   0   0   0   0   0   1   3   0  12 219 220 212 218 192\n",
      "  169 227 208 218 224 212 226 197 209  52]\n",
      " [  0   0   0   0   0   0   0   0   0   0   6   0  99 244 222 220 218 203\n",
      "  198 221 215 213 222 220 245 119 167  56]\n",
      " [  0   0   0   0   0   0   0   0   0   4   0   0  55 236 228 230 228 240\n",
      "  232 213 218 223 234 217 217 209  92   0]\n",
      " [  0   0   1   4   6   7   2   0   0   0   0   0 237 226 217 223 222 219\n",
      "  222 221 216 223 229 215 218 255  77   0]\n",
      " [  0   3   0   0   0   0   0   0   0  62 145 204 228 207 213 221 218 208\n",
      "  211 218 224 223 219 215 224 244 159   0]\n",
      " [  0   0   0   0  18  44  82 107 189 228 220 222 217 226 200 205 211 230\n",
      "  224 234 176 188 250 248 233 238 215   0]\n",
      " [  0  57 187 208 224 221 224 208 204 214 208 209 200 159 245 193 206 223\n",
      "  255 255 221 234 221 211 220 232 246   0]\n",
      " [  3 202 228 224 221 211 211 214 205 205 205 220 240  80 150 255 229 221\n",
      "  188 154 191 210 204 209 222 228 225   0]\n",
      " [ 98 233 198 210 222 229 229 234 249 220 194 215 217 241  65  73 106 117\n",
      "  168 219 221 215 217 223 223 224 229  29]\n",
      " [ 75 204 212 204 193 205 211 225 216 185 197 206 198 213 240 195 227 245\n",
      "  239 223 218 212 209 222 220 221 230  67]\n",
      " [ 48 203 183 194 213 197 185 190 194 192 202 214 219 221 220 236 225 216\n",
      "  199 206 186 181 177 172 181 205 206 115]\n",
      " [  0 122 219 193 179 171 183 196 204 210 213 207 211 210 200 196 194 191\n",
      "  195 191 198 192 176 156 167 177 210  92]\n",
      " [  0   0  74 189 212 191 175 172 175 181 185 188 189 188 193 198 204 209\n",
      "  210 210 211 188 188 194 192 216 170   0]\n",
      " [  2   0   0   0  66 200 222 237 239 242 246 243 244 221 220 193 191 179\n",
      "  182 182 181 176 166 168  99  58   0   0]\n",
      " [  0   0   0   0   0   0   0  40  61  44  72  41  35   0   0   0   0   0\n",
      "    0   0   0   0   0   0   0   0   0   0]\n",
      " [  0   0   0   0   0   0   0   0   0   0   0   0   0   0   0   0   0   0\n",
      "    0   0   0   0   0   0   0   0   0   0]\n",
      " [  0   0   0   0   0   0   0   0   0   0   0   0   0   0   0   0   0   0\n",
      "    0   0   0   0   0   0   0   0   0   0]]\n",
      "(28, 28)\n"
     ]
    }
   ],
   "source": [
    "image, label = train_dataset[0]\n",
    "print(np.array(image))\n",
    "print(np.array(image).shape)"
   ]
  },
  {
   "cell_type": "code",
   "execution_count": 6,
   "id": "3cb93b96",
   "metadata": {},
   "outputs": [
    {
     "name": "stderr",
     "output_type": "stream",
     "text": [
      "/Users/kimjaeyong/Documents/study/toy_projects/codeit/myvenv/lib/python3.9/site-packages/torchvision/transforms/v2/_deprecated.py:42: UserWarning: The transform `ToTensor()` is deprecated and will be removed in a future release. Instead, please use `v2.Compose([v2.ToImage(), v2.ToDtype(torch.float32, scale=True)])`.Output is equivalent up to float precision.\n",
      "  warnings.warn(\n"
     ]
    }
   ],
   "source": [
    "transform = v2.Compose([\n",
    "\tv2.ToTensor(),\n",
    "    v2.ToDtype(torch.float32, scale=True)\n",
    "])"
   ]
  },
  {
   "cell_type": "code",
   "execution_count": 7,
   "id": "f5caeea3",
   "metadata": {},
   "outputs": [
    {
     "name": "stdout",
     "output_type": "stream",
     "text": [
      "60000 10000\n"
     ]
    }
   ],
   "source": [
    "train_dataset = datasets.FashionMNIST(\n",
    "\troot='./fashion_mnist',\n",
    "\ttrain=True,\n",
    "\tdownload=True,\n",
    "\ttransform=transform\n",
    ")\n",
    "test_dataset = datasets.FashionMNIST(\n",
    "\troot='./fashion_mnist',\n",
    "\ttrain=False,\n",
    "\tdownload=True,\n",
    "\ttransform=transform\n",
    ")\n",
    "\n",
    "print(len(train_dataset), len(test_dataset))"
   ]
  },
  {
   "cell_type": "code",
   "execution_count": 8,
   "id": "111360dd",
   "metadata": {},
   "outputs": [
    {
     "name": "stdout",
     "output_type": "stream",
     "text": [
      "[[[0.         0.         0.         0.         0.         0.\n",
      "   0.         0.         0.         0.         0.         0.\n",
      "   0.         0.         0.         0.         0.         0.\n",
      "   0.         0.         0.         0.         0.         0.\n",
      "   0.         0.         0.         0.        ]\n",
      "  [0.         0.         0.         0.         0.         0.\n",
      "   0.         0.         0.         0.         0.         0.\n",
      "   0.         0.         0.         0.         0.         0.\n",
      "   0.         0.         0.         0.         0.         0.\n",
      "   0.         0.         0.         0.        ]\n",
      "  [0.         0.         0.         0.         0.         0.\n",
      "   0.         0.         0.         0.         0.         0.\n",
      "   0.         0.         0.         0.         0.         0.\n",
      "   0.         0.         0.         0.         0.         0.\n",
      "   0.         0.         0.         0.        ]\n",
      "  [0.         0.         0.         0.         0.         0.\n",
      "   0.         0.         0.         0.         0.         0.\n",
      "   0.00392157 0.         0.         0.05098039 0.28627452 0.\n",
      "   0.         0.00392157 0.01568628 0.         0.         0.\n",
      "   0.         0.00392157 0.00392157 0.        ]\n",
      "  [0.         0.         0.         0.         0.         0.\n",
      "   0.         0.         0.         0.         0.         0.\n",
      "   0.01176471 0.         0.14117648 0.53333336 0.49803922 0.24313726\n",
      "   0.21176471 0.         0.         0.         0.00392157 0.01176471\n",
      "   0.01568628 0.         0.         0.01176471]\n",
      "  [0.         0.         0.         0.         0.         0.\n",
      "   0.         0.         0.         0.         0.         0.\n",
      "   0.02352941 0.         0.4        0.8        0.6901961  0.5254902\n",
      "   0.5647059  0.48235294 0.09019608 0.         0.         0.\n",
      "   0.         0.04705882 0.03921569 0.        ]\n",
      "  [0.         0.         0.         0.         0.         0.\n",
      "   0.         0.         0.         0.         0.         0.\n",
      "   0.         0.         0.60784316 0.9254902  0.8117647  0.69803923\n",
      "   0.41960785 0.6117647  0.6313726  0.42745098 0.2509804  0.09019608\n",
      "   0.3019608  0.50980395 0.28235295 0.05882353]\n",
      "  [0.         0.         0.         0.         0.         0.\n",
      "   0.         0.         0.         0.         0.         0.00392157\n",
      "   0.         0.27058825 0.8117647  0.8745098  0.85490197 0.84705883\n",
      "   0.84705883 0.6392157  0.49803922 0.4745098  0.47843137 0.57254905\n",
      "   0.5529412  0.34509805 0.6745098  0.25882354]\n",
      "  [0.         0.         0.         0.         0.         0.\n",
      "   0.         0.         0.         0.00392157 0.00392157 0.00392157\n",
      "   0.         0.78431374 0.9098039  0.9098039  0.9137255  0.8980392\n",
      "   0.8745098  0.8745098  0.84313726 0.8352941  0.6431373  0.49803922\n",
      "   0.48235294 0.76862746 0.8980392  0.        ]\n",
      "  [0.         0.         0.         0.         0.         0.\n",
      "   0.         0.         0.         0.         0.         0.\n",
      "   0.         0.7176471  0.88235295 0.84705883 0.8745098  0.89411765\n",
      "   0.92156863 0.8901961  0.8784314  0.87058824 0.8784314  0.8666667\n",
      "   0.8745098  0.9607843  0.6784314  0.        ]\n",
      "  [0.         0.         0.         0.         0.         0.\n",
      "   0.         0.         0.         0.         0.         0.\n",
      "   0.         0.75686276 0.89411765 0.85490197 0.8352941  0.7764706\n",
      "   0.7058824  0.83137256 0.8235294  0.827451   0.8352941  0.8745098\n",
      "   0.8627451  0.9529412  0.7921569  0.        ]\n",
      "  [0.         0.         0.         0.         0.         0.\n",
      "   0.         0.         0.         0.00392157 0.01176471 0.\n",
      "   0.04705882 0.85882354 0.8627451  0.83137256 0.85490197 0.7529412\n",
      "   0.6627451  0.8901961  0.8156863  0.85490197 0.8784314  0.83137256\n",
      "   0.8862745  0.77254903 0.81960785 0.20392157]\n",
      "  [0.         0.         0.         0.         0.         0.\n",
      "   0.         0.         0.         0.         0.02352941 0.\n",
      "   0.3882353  0.95686275 0.87058824 0.8627451  0.85490197 0.79607844\n",
      "   0.7764706  0.8666667  0.84313726 0.8352941  0.87058824 0.8627451\n",
      "   0.9607843  0.46666667 0.654902   0.21960784]\n",
      "  [0.         0.         0.         0.         0.         0.\n",
      "   0.         0.         0.         0.01568628 0.         0.\n",
      "   0.21568628 0.9254902  0.89411765 0.9019608  0.89411765 0.9411765\n",
      "   0.9098039  0.8352941  0.85490197 0.8745098  0.91764706 0.8509804\n",
      "   0.8509804  0.81960785 0.36078432 0.        ]\n",
      "  [0.         0.         0.00392157 0.01568628 0.02352941 0.02745098\n",
      "   0.00784314 0.         0.         0.         0.         0.\n",
      "   0.92941177 0.8862745  0.8509804  0.8745098  0.87058824 0.85882354\n",
      "   0.87058824 0.8666667  0.84705883 0.8745098  0.8980392  0.84313726\n",
      "   0.85490197 1.         0.3019608  0.        ]\n",
      "  [0.         0.01176471 0.         0.         0.         0.\n",
      "   0.         0.         0.         0.24313726 0.5686275  0.8\n",
      "   0.89411765 0.8117647  0.8352941  0.8666667  0.85490197 0.8156863\n",
      "   0.827451   0.85490197 0.8784314  0.8745098  0.85882354 0.84313726\n",
      "   0.8784314  0.95686275 0.62352943 0.        ]\n",
      "  [0.         0.         0.         0.         0.07058824 0.17254902\n",
      "   0.32156864 0.41960785 0.7411765  0.89411765 0.8627451  0.87058824\n",
      "   0.8509804  0.8862745  0.78431374 0.8039216  0.827451   0.9019608\n",
      "   0.8784314  0.91764706 0.6901961  0.7372549  0.98039216 0.972549\n",
      "   0.9137255  0.93333334 0.84313726 0.        ]\n",
      "  [0.         0.22352941 0.73333335 0.8156863  0.8784314  0.8666667\n",
      "   0.8784314  0.8156863  0.8        0.8392157  0.8156863  0.81960785\n",
      "   0.78431374 0.62352943 0.9607843  0.75686276 0.80784315 0.8745098\n",
      "   1.         1.         0.8666667  0.91764706 0.8666667  0.827451\n",
      "   0.8627451  0.9098039  0.9647059  0.        ]\n",
      "  [0.01176471 0.7921569  0.89411765 0.8784314  0.8666667  0.827451\n",
      "   0.827451   0.8392157  0.8039216  0.8039216  0.8039216  0.8627451\n",
      "   0.9411765  0.3137255  0.5882353  1.         0.8980392  0.8666667\n",
      "   0.7372549  0.6039216  0.7490196  0.8235294  0.8        0.81960785\n",
      "   0.87058824 0.89411765 0.88235295 0.        ]\n",
      "  [0.38431373 0.9137255  0.7764706  0.8235294  0.87058824 0.8980392\n",
      "   0.8980392  0.91764706 0.9764706  0.8627451  0.7607843  0.84313726\n",
      "   0.8509804  0.94509804 0.25490198 0.28627452 0.41568628 0.45882353\n",
      "   0.65882355 0.85882354 0.8666667  0.84313726 0.8509804  0.8745098\n",
      "   0.8745098  0.8784314  0.8980392  0.11372549]\n",
      "  [0.29411766 0.8        0.83137256 0.8        0.75686276 0.8039216\n",
      "   0.827451   0.88235295 0.84705883 0.7254902  0.77254903 0.80784315\n",
      "   0.7764706  0.8352941  0.9411765  0.7647059  0.8901961  0.9607843\n",
      "   0.9372549  0.8745098  0.85490197 0.83137256 0.81960785 0.87058824\n",
      "   0.8627451  0.8666667  0.9019608  0.2627451 ]\n",
      "  [0.1882353  0.79607844 0.7176471  0.7607843  0.8352941  0.77254903\n",
      "   0.7254902  0.74509805 0.7607843  0.7529412  0.7921569  0.8392157\n",
      "   0.85882354 0.8666667  0.8627451  0.9254902  0.88235295 0.84705883\n",
      "   0.78039217 0.80784315 0.7294118  0.70980394 0.69411767 0.6745098\n",
      "   0.70980394 0.8039216  0.80784315 0.4509804 ]\n",
      "  [0.         0.47843137 0.85882354 0.75686276 0.7019608  0.67058825\n",
      "   0.7176471  0.76862746 0.8        0.8235294  0.8352941  0.8117647\n",
      "   0.827451   0.8235294  0.78431374 0.76862746 0.7607843  0.7490196\n",
      "   0.7647059  0.7490196  0.7764706  0.7529412  0.6901961  0.6117647\n",
      "   0.654902   0.69411767 0.8235294  0.36078432]\n",
      "  [0.         0.         0.2901961  0.7411765  0.83137256 0.7490196\n",
      "   0.6862745  0.6745098  0.6862745  0.70980394 0.7254902  0.7372549\n",
      "   0.7411765  0.7372549  0.75686276 0.7764706  0.8        0.81960785\n",
      "   0.8235294  0.8235294  0.827451   0.7372549  0.7372549  0.7607843\n",
      "   0.7529412  0.84705883 0.6666667  0.        ]\n",
      "  [0.00784314 0.         0.         0.         0.25882354 0.78431374\n",
      "   0.87058824 0.92941177 0.9372549  0.9490196  0.9647059  0.9529412\n",
      "   0.95686275 0.8666667  0.8627451  0.75686276 0.7490196  0.7019608\n",
      "   0.7137255  0.7137255  0.70980394 0.6901961  0.6509804  0.65882355\n",
      "   0.3882353  0.22745098 0.         0.        ]\n",
      "  [0.         0.         0.         0.         0.         0.\n",
      "   0.         0.15686275 0.23921569 0.17254902 0.28235295 0.16078432\n",
      "   0.13725491 0.         0.         0.         0.         0.\n",
      "   0.         0.         0.         0.         0.         0.\n",
      "   0.         0.         0.         0.        ]\n",
      "  [0.         0.         0.         0.         0.         0.\n",
      "   0.         0.         0.         0.         0.         0.\n",
      "   0.         0.         0.         0.         0.         0.\n",
      "   0.         0.         0.         0.         0.         0.\n",
      "   0.         0.         0.         0.        ]\n",
      "  [0.         0.         0.         0.         0.         0.\n",
      "   0.         0.         0.         0.         0.         0.\n",
      "   0.         0.         0.         0.         0.         0.\n",
      "   0.         0.         0.         0.         0.         0.\n",
      "   0.         0.         0.         0.        ]]]\n"
     ]
    }
   ],
   "source": [
    "image, label = train_dataset[0]\n",
    "print(np.array(image))"
   ]
  },
  {
   "cell_type": "code",
   "execution_count": 9,
   "id": "dbdffe5a",
   "metadata": {},
   "outputs": [],
   "source": [
    "train_loader = DataLoader(\n",
    "\ttrain_dataset,\n",
    "\tbatch_size=128,\n",
    "\tshuffle=True,\n",
    "\tdrop_last=True\n",
    ")\n",
    "test_loader = DataLoader(\n",
    "\ttest_dataset,\n",
    "\tbatch_size=128,\n",
    "\tshuffle=False,\n",
    ")"
   ]
  },
  {
   "cell_type": "code",
   "execution_count": 10,
   "id": "1251d21e",
   "metadata": {},
   "outputs": [],
   "source": [
    "class BasicAutoencoder(nn.Module):\n",
    "    def __init__(self):\n",
    "        super().__init__()\n",
    "        self.encoder = nn.Sequential(\n",
    "\t\t\tnn.Linear(28 * 28, 128),\n",
    "\t\t\tnn.ReLU(),\n",
    "\t\t\tnn.Linear(128, 64),\n",
    "\t\t\tnn.ReLU()\n",
    "\t\t)\n",
    "        self.decoder = nn.Sequential(\n",
    "\t\t\tnn.Linear(64, 128),\n",
    "\t\t\tnn.ReLU(),\n",
    "\t\t\tnn.Linear(128, 28 * 28),\n",
    "\t\t\tnn.Sigmoid()\n",
    "\t\t)\n",
    "        \n",
    "    def forward(self, x):\n",
    "        encoded = self.encoder(x)\n",
    "        x = self.decoder(encoded)\n",
    "        return x"
   ]
  },
  {
   "cell_type": "code",
   "execution_count": 11,
   "id": "480a9a40",
   "metadata": {},
   "outputs": [],
   "source": [
    "model = BasicAutoencoder()\n",
    "loss_fn = nn.MSELoss()\n",
    "opt = optim.Adam(model.parameters(), lr=0.001)"
   ]
  },
  {
   "cell_type": "code",
   "execution_count": 12,
   "id": "d079b24c",
   "metadata": {},
   "outputs": [
    {
     "name": "stdout",
     "output_type": "stream",
     "text": [
      "Using device: mps\n"
     ]
    },
    {
     "data": {
      "text/plain": [
       "BasicAutoencoder(\n",
       "  (encoder): Sequential(\n",
       "    (0): Linear(in_features=784, out_features=128, bias=True)\n",
       "    (1): ReLU()\n",
       "    (2): Linear(in_features=128, out_features=64, bias=True)\n",
       "    (3): ReLU()\n",
       "  )\n",
       "  (decoder): Sequential(\n",
       "    (0): Linear(in_features=64, out_features=128, bias=True)\n",
       "    (1): ReLU()\n",
       "    (2): Linear(in_features=128, out_features=784, bias=True)\n",
       "    (3): Sigmoid()\n",
       "  )\n",
       ")"
      ]
     },
     "execution_count": 12,
     "metadata": {},
     "output_type": "execute_result"
    }
   ],
   "source": [
    "device = torch.device('mps' if torch.backends.mps.is_available() else 'cpu')\n",
    "print(f'Using device: {device}')\n",
    "\n",
    "model.to(device)"
   ]
  },
  {
   "cell_type": "code",
   "execution_count": 13,
   "id": "abae361a",
   "metadata": {},
   "outputs": [
    {
     "name": "stdout",
     "output_type": "stream",
     "text": [
      "Epoch [1/10], Loss: 0.0383\n",
      "Epoch [2/10], Loss: 0.0202\n",
      "Epoch [3/10], Loss: 0.0175\n",
      "Epoch [4/10], Loss: 0.0157\n",
      "Epoch [5/10], Loss: 0.0145\n",
      "Epoch [6/10], Loss: 0.0137\n",
      "Epoch [7/10], Loss: 0.0131\n",
      "Epoch [8/10], Loss: 0.0126\n",
      "Epoch [9/10], Loss: 0.0122\n",
      "Epoch [10/10], Loss: 0.0118\n"
     ]
    }
   ],
   "source": [
    "epochs = 10\n",
    "for epoch in range(epochs):\n",
    "\tmodel.train()\n",
    "\ttotal_loss = 0.0\n",
    "\tfor images, _ in train_loader:\n",
    "\t\topt.zero_grad()\n",
    "\t\timages = images.view(images.size(0), -1).to(device)\n",
    "\n",
    "\t\toutputs = model(images)\n",
    "\t\tloss = loss_fn(outputs, images)\n",
    "\t\tloss.backward()\n",
    "\t\topt.step()\n",
    "\n",
    "\t\ttotal_loss += loss.item()\n",
    "\t\t\n",
    "\tprint(f'Epoch [{epoch+1}/{epochs}], Loss: {total_loss/len(train_loader):.4f}')"
   ]
  },
  {
   "cell_type": "code",
   "execution_count": 14,
   "id": "dbaf0310",
   "metadata": {},
   "outputs": [],
   "source": [
    "model.eval()\n",
    "with torch.no_grad():\n",
    "\tfor images, _ in test_loader:\n",
    "\t\timages = images.view(images.size(0), -1).to(device)\n",
    "\t\toutputs = model(images)\n",
    "\n",
    "\t\tbreak"
   ]
  },
  {
   "cell_type": "code",
   "execution_count": 15,
   "id": "67946ea9",
   "metadata": {},
   "outputs": [
    {
     "data": {
      "image/png": "[encoded data removed]",
      "text/plain": [
       "<Figure size 1200x400 with 20 Axes>"
      ]
     },
     "metadata": {},
     "output_type": "display_data"
    }
   ],
   "source": [
    "images = images.view(-1, 28, 28)\n",
    "outputs = outputs.view(-1, 28, 28)\n",
    "\n",
    "fig, axes = plt.subplots(2, 10, figsize=(12, 4))\n",
    "for i in range(10):\n",
    "\taxes[0, i].imshow(images[i].cpu(), cmap='gray')\n",
    "\taxes[0, i].axis('off')\n",
    "\taxes[1, i].imshow(outputs[i].cpu(), cmap='gray')\n",
    "\taxes[1, i].axis('off')"
   ]
  },
  {
   "cell_type": "code",
   "execution_count": 16,
   "id": "40638bea",
   "metadata": {},
   "outputs": [],
   "source": [
    "class CNNAutoencoder(nn.Module):\n",
    "\tdef __init__(self):\n",
    "\t\tsuper().__init__()\n",
    "\t\tself.encoder = nn.Sequential(\n",
    "            nn.Linear(28 * 28, 128),\n",
    "            nn.ReLU(),\n",
    "            nn.Linear(128, 64),\n",
    "            nn.ReLU(),\n",
    "            nn.Linear(64, 12),\n",
    "            nn.ReLU(),\n",
    "            nn.Linear(12, 3)  # latent vector dimension = 3\n",
    "        )\n",
    "\t\tself.decoder = nn.Sequential(\n",
    "            nn.Linear(3, 12),\n",
    "            nn.ReLU(),\n",
    "            nn.Linear(12, 64),\n",
    "            nn.ReLU(),\n",
    "            nn.Linear(64, 128),\n",
    "            nn.ReLU(),\n",
    "            nn.Linear(128, 28 * 28),\n",
    "            nn.Sigmoid()\n",
    "        )\n",
    "\t\t# self.encoder = nn.Sequential( # input size: (b, 1, 28, 28)\n",
    "\t\t# \tnn.Conv2d(1, 32, kernel_size=3, stride=1, padding=1), # output size: (b, 32, 28, 28)\n",
    "\t\t# \tnn.ReLU(),\n",
    "\t\t# \tnn.MaxPool2d(kernel_size=2, stride=2), # output size: (b, 32, 14, 14)\n",
    "\t\t# \tnn.Conv2d(32, 64, kernel_size=3, stride=1, padding=1), # output size: (b, 64, 14, 14)\n",
    "\t\t# \tnn.ReLU(),\n",
    "\t\t# \tnn.MaxPool2d(kernel_size=2, stride=2) # output size: (b, 64, 7, 7)\n",
    "\t\t# )\n",
    "\t\t# self.decoder = nn.Sequential(\n",
    "\t\t# \tnn.ConvTranspose2d(64, 32, kernel_size=2, stride=2), # output size: (b, 32, 14, 14)\n",
    "\t\t# \tnn.ReLU(),\n",
    "\t\t# \tnn.ConvTranspose2d(32, 1, kernel_size=2, stride=2), # output size: (b, 1, 28, 28)\n",
    "\t\t# \tnn.Sigmoid()\n",
    "\t\t# )\n",
    "\n",
    "\tdef forward(self, x):\n",
    "\t\tencoded = self.encoder(x)\n",
    "\t\tx = self.decoder(encoded)\n",
    "\t\treturn x\n",
    "\t\n",
    "\tdef encode(self, x):\n",
    "\t\treturn self.encoder(x)\t\n"
   ]
  },
  {
   "cell_type": "code",
   "execution_count": 17,
   "id": "4ba156a1",
   "metadata": {},
   "outputs": [
    {
     "data": {
      "text/plain": [
       "CNNAutoencoder(\n",
       "  (encoder): Sequential(\n",
       "    (0): Linear(in_features=784, out_features=128, bias=True)\n",
       "    (1): ReLU()\n",
       "    (2): Linear(in_features=128, out_features=64, bias=True)\n",
       "    (3): ReLU()\n",
       "    (4): Linear(in_features=64, out_features=12, bias=True)\n",
       "    (5): ReLU()\n",
       "    (6): Linear(in_features=12, out_features=3, bias=True)\n",
       "  )\n",
       "  (decoder): Sequential(\n",
       "    (0): Linear(in_features=3, out_features=12, bias=True)\n",
       "    (1): ReLU()\n",
       "    (2): Linear(in_features=12, out_features=64, bias=True)\n",
       "    (3): ReLU()\n",
       "    (4): Linear(in_features=64, out_features=128, bias=True)\n",
       "    (5): ReLU()\n",
       "    (6): Linear(in_features=128, out_features=784, bias=True)\n",
       "    (7): Sigmoid()\n",
       "  )\n",
       ")"
      ]
     },
     "execution_count": 17,
     "metadata": {},
     "output_type": "execute_result"
    }
   ],
   "source": [
    "model = CNNAutoencoder().to(device)\n",
    "loss_fn = nn.MSELoss()\n",
    "opt = optim.Adam(model.parameters(), lr=0.001)\n",
    "\n",
    "model"
   ]
  },
  {
   "cell_type": "code",
   "execution_count": 18,
   "id": "7f94f19e",
   "metadata": {},
   "outputs": [
    {
     "name": "stdout",
     "output_type": "stream",
     "text": [
      "Epoch [1/10], Loss: 0.0532\n",
      "Epoch [2/10], Loss: 0.0315\n",
      "Epoch [3/10], Loss: 0.0280\n",
      "Epoch [4/10], Loss: 0.0264\n",
      "Epoch [5/10], Loss: 0.0257\n",
      "Epoch [6/10], Loss: 0.0252\n",
      "Epoch [7/10], Loss: 0.0248\n",
      "Epoch [8/10], Loss: 0.0245\n",
      "Epoch [9/10], Loss: 0.0241\n",
      "Epoch [10/10], Loss: 0.0239\n"
     ]
    }
   ],
   "source": [
    "epochs = 10\n",
    "for epoch in range(epochs):\n",
    "\tmodel.train()\n",
    "\ttotal_loss = 0.0\n",
    "\tfor images, _ in train_loader:\n",
    "\t\topt.zero_grad()\n",
    "\t\t# images = images.to(device)\n",
    "\t\timages = images.view(images.size(0), -1).to(device)\n",
    "\n",
    "\t\toutputs = model(images)\n",
    "\t\tloss = loss_fn(outputs, images)\n",
    "\t\tloss.backward()\n",
    "\t\topt.step()\n",
    "\n",
    "\t\ttotal_loss += loss.item()\n",
    "\t\t\n",
    "\tprint(f'Epoch [{epoch+1}/{epochs}], Loss: {total_loss/len(train_loader):.4f}')"
   ]
  },
  {
   "cell_type": "code",
   "execution_count": 19,
   "id": "f0a98545",
   "metadata": {},
   "outputs": [
    {
     "data": {
      "image/png": "[encoded data removed]",
      "text/plain": [
       "<Figure size 1200x1000 with 1 Axes>"
      ]
     },
     "metadata": {},
     "output_type": "display_data"
    }
   ],
   "source": [
    "# latent 공간 시각화를 위한 데이터 추출\n",
    "model.eval()\n",
    "all_latents = []\n",
    "all_labels = []\n",
    "with torch.no_grad():\n",
    "    for images, labels in test_loader:\n",
    "        images = images.view(images.size(0), -1).to(device)\n",
    "        # latent 벡터만 추출 (model.encode() 사용)\n",
    "        latent = model.encode(images)\n",
    "        all_latents.append(latent.cpu().numpy())\n",
    "        all_labels.append(labels.cpu().numpy())\n",
    "\n",
    "all_latents = np.concatenate(all_latents, axis=0)\n",
    "all_labels = np.concatenate(all_labels, axis=0)\n",
    "\n",
    "# 3D 시각화: 전체 분포와 일부 샘플에 텍스트 어노테이션 추가\n",
    "fig = plt.figure(figsize=(12, 10))\n",
    "ax = fig.add_subplot(111, projection='3d')\n",
    "\n",
    "# 전체 latent 벡터에 대해 scatter plot (작은 크기와 낮은 불투명도로 분포 확인)\n",
    "scatter = ax.scatter(all_latents[:, 0], all_latents[:, 1], all_latents[:, 2],\n",
    "                     c=all_labels, cmap='tab10', s=10, alpha=0.3)\n",
    "\n",
    "# 각 digit별로 일부 포인트만 선택하여 텍스트 어노테이션 추가\n",
    "for digit in range(10):\n",
    "    # 현재 클래스(digit)에 해당하는 인덱스 찾기\n",
    "    indices = np.where(all_labels == digit)[0]\n",
    "    # 전체 포인트 중 최대 50개를 무작위로 샘플링 (포인트가 50개 미만인 경우 전체 사용)\n",
    "    sample_indices = np.random.choice(indices, size=min(50, len(indices)), replace=False)\n",
    "\n",
    "    for idx in sample_indices:\n",
    "        x, y, z = all_latents[idx, 0], all_latents[idx, 1], all_latents[idx, 2]\n",
    "        ax.text(x, y, z, str(digit),\n",
    "                color=plt.cm.tab10(digit),\n",
    "                fontsize=10,\n",
    "                fontweight='bold',\n",
    "                ha='center', va='center')\n",
    "\n",
    "ax.set_xlabel(\"Latent Dimension 1\")\n",
    "ax.set_ylabel(\"Latent Dimension 2\")\n",
    "ax.set_zlabel(\"Latent Dimension 3\")\n",
    "plt.title(\"3D Visualization of MNIST Latent Space with Sampled Labels\")\n",
    "plt.show()\n"
   ]
  },
  {
   "cell_type": "code",
   "execution_count": null,
   "id": "78a0b825",
   "metadata": {},
   "outputs": [
    {
     "data": {
      "application/vnd.plotly.v1+json": {
       "config": {
        "plotlyServerURL": "https://plot.ly"
       },
       "data": [
        {
         "mode": "text",
         "name": "Digit 0",
         "text": [
          "0",
          "0",
          "0",
          "0",
          "0",
          "0",
          "0",
          "0",
          "0",
          "0",
          "0",
          "0",
          "0",
          "0",
          "0",
          "0",
          "0",
          "0",
          "0",
          "0",
          "0",
          "0",
          "0",
          "0",
          "0",
          "0",
          "0",
          "0",
          "0",
          "0",
          "0",
          "0",
          "0",
          "0",
          "0",
          "0",
          "0",
          "0",
          "0",
          "0",
          "0",
          "0",
          "0",
          "0",
          "0",
          "0",
          "0",
          "0",
          "0",
          "0"
         ],
         "textfont": {
          "color": "#1f77b4",
          "size": 12
         },
         "textposition": "middle center",
         "type": "scatter3d",
         "x": {
          "bdata": "k/OMP4W6fD4RTCg/qAhVwBePKMDkb/q/bQQFPyEfCD/QXLrAwULevmVrjT+zOoA+peNiPmc2ib8rrP+//oe4v6k6yL6J6z4/bkMWwA91K7+JuW6/fapGvzWlG8B8tsm/ny3av7NVmD417VK/DuD1vzXFVcBuK6PAG/eyPvGisz9kAXa/T2+QP5Hbgb8h3Ya/90U4v4Yjo72r4Jw+UoscPI2S9L+rkJ6/N9qfwOHVk78ozos/vXzNvn7m6sAnTdq/E7ICP/+CC78=",
          "dtype": "f4"
         },
         "y": {
          "bdata": "9VGAwFANuMBxfsnAF9QtwTJRI8GTIRPBOd6TwNERkcDnWI3BqZBNwJoU9b+xtZ/Ak+KMwHQrosDFA/LAxx4gweAvDsF/LbvA3aUIwbigC8EP2bLAmaB4wNgbKcDufRzBvPgJwVBhtr+P7Q/BZ3yhwO6lS8F0rALBso/RwOJUTMCMJLfAR0j+wNy8KMGTDe7Ac1YswLCMmL8Oh8bAm564wMWU8cCG2+fAX+R8wf1SusAOSwHB+sYXwd358MDhvlzAvUqLwJSh2cA=",
          "dtype": "f4"
         },
         "z": {
          "bdata": "oeVqQTiTaUF3W4JBb1ohQRhyd0HIVmJB680vQd3TckHRcopBtmrBQPnff0BeWVZBvZ12QSXiYkGzMXJBWilwQTkuW0GxfIBBdYJCQeB4i0EO2s5ANpnvQHapoEBIs2NB8PR7QTle7UCV3l5Bjag/Qf14KUH2wUdB2kxPQauFWUEXwAVBW36HQee4gEFQQkFBKRAiQEtdnEBHNTpBbRRRQfP1b0GFhG5Bnt1cQe0lXEGMjEhBGH6QQQMltUCEakNB7UgMQRJScUE=",
          "dtype": "f4"
         }
        },
        {
         "mode": "text",
         "name": "Digit 1",
         "text": [
          "1",
          "1",
          "1",
          "1",
          "1",
          "1",
          "1",
          "1",
          "1",
          "1",
          "1",
          "1",
          "1",
          "1",
          "1",
          "1",
          "1",
          "1",
          "1",
          "1",
          "1",
          "1",
          "1",
          "1",
          "1",
          "1",
          "1",
          "1",
          "1",
          "1",
          "1",
          "1",
          "1",
          "1",
          "1",
          "1",
          "1",
          "1",
          "1",
          "1",
          "1",
          "1",
          "1",
          "1",
          "1",
          "1",
          "1",
          "1",
          "1",
          "1"
         ],
         "textfont": {
          "color": "#ff7f0e",
          "size": 12
         },
         "textposition": "middle center",
         "type": "scatter3d",
         "x": {
          "bdata": "7N/YQNVWi0AHcR9A81Knv/dRm0DLwB5B8D8KQXSf/EAtJz9BikjcQLf+LUEFQilAQkXIQIVXPb4YUgJB26j6Pz0VAEE6CaRALbOOQMi0QMDjUBhB63P6QKObVkAwnA5BoZDOQAsy9r8KV5JA4w+CQHKnCUFGocg/T640QSeyA0HxdoRAhlxKQdgXqUBQY69A6ZE6QIr80kCKxB9BNGqDQAXiKEAbYRRBkIhFQKBBi0B/jVhAid2mQM9vTkDuqg1B8ZFnQM0fsEA=",
          "dtype": "f4"
         },
         "y": {
          "bdata": "tcXPwUr9+8F/v8XBl2X+wDBvpsH+oo7Bmh4cwjpvDMKI1s3BIWbBwSR76sHBmmnB1EHowVfkTMEKruTBP2oRwqiM08GSj6bBl9+9wQf0XMH4shnCw0jYwUiXi8FgNR7C/ryswULiFcEkjLPBuw6+wS5w6cEFA57BRB7swQMjqsHw8tvBT+UGwgluAsL0uwfCQhPgwRlTucGvtszBmn3GweMvqsGxO+LB91UCwtdIs8E63pXB/pGAwSrPCMI1QuPBfM1LwUJ3fsE=",
          "dtype": "f4"
         },
         "z": {
          "bdata": "upKeQT4xl0Ho8JhBfYzWQLViWUEoiZ5Bg0e0QdnHwkGgs7xBD1iGQWlos0EB2oNBZrayQVAPPkH3DLxBniqAQQ6uvkGslHVB0Kq2QbDFQ0F0k8tBzlucQdDRnEGprbNBLUqeQbmaOkEUI2RBWf97QQ2joEHmv1ZBKyCyQXVPgUGRUaJB6Y7KQX7tu0Gphb9Bw7qZQZ6OfkFQBZRBTJpgQaiHrEEx359BraWlQZWvs0ES9G1BnV1CQZ8rhUEVgq1BrtJpQWlySEE=",
          "dtype": "f4"
         }
        },
        {
         "mode": "text",
         "name": "Digit 2",
         "text": [
          "2",
          "2",
          "2",
          "2",
          "2",
          "2",
          "2",
          "2",
          "2",
          "2",
          "2",
          "2",
          "2",
          "2",
          "2",
          "2",
          "2",
          "2",
          "2",
          "2",
          "2",
          "2",
          "2",
          "2",
          "2",
          "2",
          "2",
          "2",
          "2",
          "2",
          "2",
          "2",
          "2",
          "2",
          "2",
          "2",
          "2",
          "2",
          "2",
          "2",
          "2",
          "2",
          "2",
          "2",
          "2",
          "2",
          "2",
          "2",
          "2",
          "2"
         ],
         "textfont": {
          "color": "#2ca02c",
          "size": 12
         },
         "textposition": "middle center",
         "type": "scatter3d",
         "x": {
          "bdata": "kplEwQlPMsHSZE3BKrX0wN9ExMDMk+bAat9SwWHQJ8Fz5ZjAFLs0wSOFD8F1LGHACiO6wAbRE8DZHjzBLIEbwZDn4sDO/1rAWMg0wXsVAMD2fNTAqR1zwPrLSMEDPLrA5abUwBZ3KcFdTOTAe+j6wGVZAsGq0i7BmHiVwAKmv8De6BzBs0s9wLYvUcHJu9nAEKHDwARP0sBhVBzBgy18wFjBRcFWhA3BmCNGwRfj88BFtObAC55twZz0BcFbAuHAwonSwEdwbsA=",
          "dtype": "f4"
         },
         "y": {
          "bdata": "rsaCwRHqNMH6OFfBbvB7wanSs8B2NkHBq/9Dwe8ofMFT+FfAHNAtwbrFW8H4imTA/b2xwFJS/b+mbGjBUeGDwe3iIMFcyITA/0mEwZfO+r8tLDLBkXvLwLHQjMGjBHbAVFQtwRxRSMHtVU3BODhcwQsS/8CAZGHBlVGdwAtOBcGGBlbBc5txwNudo8Fvb0DBnKQnwcLaA8GBW0HBRJ6NwA8KR8Hsc3jBhd+cwcELpcCS7AvBAiijwUy0KMEE4JbAZQsdwbxCjMA=",
          "dtype": "f4"
         },
         "z": {
          "bdata": "g1wTQbwNDUEnDh5BpvY6QVPKzEDw1TtBMSwJQWS/FkELyCpB1A0QQcdl3EDnTYBAqQqhQAstpUBUKT1B1089QcFn6ECSxUZAkrdBQZMoCEEJlOpApHrfQDSHJ0EvqMJAuvgOQSEABkEY0iJBkL4cQTWQ8kC2HTBBvG2jQLEoHEFlkgVBQf1OQCWbN0EC4QVBjpXxQOW9AkHMyBlBW1CBQMuGFEEy3zVBuQI3QYdgIUFZlehAEgodQRFy/kAiVyFBcg8HQZW3eUA=",
          "dtype": "f4"
         }
        },
        {
         "mode": "text",
         "name": "Digit 3",
         "text": [
          "3",
          "3",
          "3",
          "3",
          "3",
          "3",
          "3",
          "3",
          "3",
          "3",
          "3",
          "3",
          "3",
          "3",
          "3",
          "3",
          "3",
          "3",
          "3",
          "3",
          "3",
          "3",
          "3",
          "3",
          "3",
          "3",
          "3",
          "3",
          "3",
          "3",
          "3",
          "3",
          "3",
          "3",
          "3",
          "3",
          "3",
          "3",
          "3",
          "3",
          "3",
          "3",
          "3",
          "3",
          "3",
          "3",
          "3",
          "3",
          "3",
          "3"
         ],
         "textfont": {
          "color": "#d62728",
          "size": 12
         },
         "textposition": "middle center",
         "type": "scatter3d",
         "x": {
          "bdata": "qzaCwMpqDMG78qzAYnKtwDg+AMH7jPu/UcMlwdLeIcEEk5XAZJqUwGaFCMGrsUHACTX3wBU6LcALfmvA/WL0vw4nXMCuzx0/fmSzwM8VHb7zjAPA8pXpwHweksC1GXvAV0gWwbIWhsA2s4jAK2RMwIYPQ8DmZC3AJNXqwISjr8BWzLa/YTk1wPqJccBcgYHAYFDHwNNbPcAYEe+//zDbwB7LIsHVui3Adyndvxangr8Tdsu/vD8lwWbNBsFUGWLA6yZBwF4Y/MA=",
          "dtype": "f4"
         },
         "y": {
          "bdata": "JisNwZjno8GyKbTB2X6swcy0mME+/oLBpNqxwawnssGINMDB6TGMwQE/mcEk42zB4LeOwbBx8sFuUAHBRpFuwXWMdMHyVCbB9XAywRqtR8FUbU7BmxytwbAywsGc/5fBDTnZwakDpcFzFprBcC/pwZRb6cEB8jXBV2W5wcAkecFTWgnB8pNCwWyKAcFA+1PByGZ4wZ0kh8C3QobBp0ihwfo8u8EOJ43BSqJtwW7ngsEP3dLAhcPjwUrlysGMwbTBdS+ZwXlfp8E=",
          "dtype": "f4"
         },
         "z": {
          "bdata": "+q/JQACQVEFj9INBwHuLQU5uQ0FSBx9BcliAQX3EW0ESVohBCPlVQS6OTEEOGiBB3pU0QWYmckEkWlRBLagOQYaXUEGJIg1Bq7b0QPB2KkHxZihBcr9IQT5UhkE29W9B2JyJQcuiZkHJ5G1BStuhQXY8h0FC9gFBUuR+Qc5tZUErMVdBCOUSQc/3zEDg3QtBBmEoQc81fUCHmT5BhHZTQdzsf0HazXZBWlNLQTi+okFsGJJAjdiQQZyEhkFGLnlBiid4QUoSUUE=",
          "dtype": "f4"
         }
        },
        {
         "mode": "text",
         "name": "Digit 4",
         "text": [
          "4",
          "4",
          "4",
          "4",
          "4",
          "4",
          "4",
          "4",
          "4",
          "4",
          "4",
          "4",
          "4",
          "4",
          "4",
          "4",
          "4",
          "4",
          "4",
          "4",
          "4",
          "4",
          "4",
          "4",
          "4",
          "4",
          "4",
          "4",
          "4",
          "4",
          "4",
          "4",
          "4",
          "4",
          "4",
          "4",
          "4",
          "4",
          "4",
          "4",
          "4",
          "4",
          "4",
          "4",
          "4",
          "4",
          "4",
          "4",
          "4",
          "4"
         ],
         "textfont": {
          "color": "#9467bd",
          "size": 12
         },
         "textposition": "middle center",
         "type": "scatter3d",
         "x": {
          "bdata": "ehUSwa/7tMCa9sLAFH5fwC7kQ8G48RTB6tAjwZjbDMEHtxrBCFlDwcb/BsGSpwvBNLftwKAjAcEWnjPBassRwSJq2MBsWmTBBILVwJiDEMEitwbBpoTRwHbKS8F4/Y3AUzvGwB59q8A5JRzBBo4cwe5ON8HMXALBu41EweJPRsHosdnAemAlwcPzWcEUUQ7BfSCNwNkQosDGB1TBtNk2wRKWmsDkvhTBL4IgwRiDIMEm6xzBOlYnwdJNDsEygv/AaqoPwUT6GsE=",
          "dtype": "f4"
         },
         "y": {
          "bdata": "aU+CwWSj08CovBDBR+6zwB+Qd8Gd+qPB9F5VwY7CTMEMtmLBBl6AwcDsiMGZzvjA2aMawVRxAsEAMFfBuHEgwQabS8GvkLDBmMkRwUcGisEUKlvBqtTywIwWgMGSRZbANecWwcxeJcG2pjvBMBhawTIuncFc7yjBwIR3wdDFZcF2vmfBG0DFwSWCgcHGVKPBhDzSwG6L08CHfofBDMqVwW8N1cDkO2zBACVhwXOmbcEm21/Bvl9JwQD8G8Eu30fBlrFGwR/XbME=",
          "dtype": "f4"
         },
         "z": {
          "bdata": "Eww4Qc9WdUAh48lALiaBQEI9FUH4lWVBmvUdQQv/G0EhXiJBxjY4QT0CTkENWddAOGIfQZqMKkF0gCJBdAoRQRLtHUGMtShBq/YMQZ22RkEp7jpBa4vDQEDDD0HNJZ9A0TbjQKFb1UBMXhZBAUMTQczRV0F1z+JABbf/QEECJEFINSBBp6x6QeiMGUFEtmRB3XJdQMfpWUDa2xRBwjlEQS9QpEDZPTRBJI4SQWehLEF3Ly9BUJ8PQVgfEkF9EghBa1knQcAXNEE=",
          "dtype": "f4"
         }
        },
        {
         "mode": "text",
         "name": "Digit 5",
         "text": [
          "5",
          "5",
          "5",
          "5",
          "5",
          "5",
          "5",
          "5",
          "5",
          "5",
          "5",
          "5",
          "5",
          "5",
          "5",
          "5",
          "5",
          "5",
          "5",
          "5",
          "5",
          "5",
          "5",
          "5",
          "5",
          "5",
          "5",
          "5",
          "5",
          "5",
          "5",
          "5",
          "5",
          "5",
          "5",
          "5",
          "5",
          "5",
          "5",
          "5",
          "5",
          "5",
          "5",
          "5",
          "5",
          "5",
          "5",
          "5",
          "5",
          "5"
         ],
         "textfont": {
          "color": "#8c564b",
          "size": 12
         },
         "textposition": "middle center",
         "type": "scatter3d",
         "x": {
          "bdata": "9q4MwT2QC8FgJynBAvmswJNJmMDhHL7A+sjywElsjcAEOS3AYLSFwHBjzMDldYHAYnzDwE8j8MCQm7HAznC3wEHlMsG82unAKC8kwfCbhMC8HIjA0w4EwVDwBMGBc9TA8GPlwGg7ycDD3MzA5G29wOsGq8C3PaDAS9YDwRpbH8GoZDnA5IydwC4EJMH0DMHASivIwPMSx8CFD6HAIgRqwGRdxcBu443AigiewB1QK8GsIqjArCzqwILvE8GUS5/A+k5HwYJE/MA=",
          "dtype": "f4"
         },
         "y": {
          "bdata": "zN4owbdJ8MBO23zBfeVqwKNHX8C3rZrAeenuwAvbwMA6ybq+IZCWwKMLpcATyJLANJm8wAdzx8AJHYXBhZbMwIQNBT6/k4XAsHMewZE3w8ChVwTBaJwowaAmAsF0a3nB5ucNwauqAcHlZhTA1U/awHVft8B0fpe/VI8hwd9IB8E5MDZAMh/CwFux0sBB307AmVwCQOYjub7lkrnAjcKKv4aFuz/v07DAE1bFwG4ZV8Hh+7vAweYGwdbem76hwqQ/ZeozwUqVzT8=",
          "dtype": "f4"
         },
         "z": {
          "bdata": "w8UTwKgk4jzxdlTAxSk5P+/LjT+VIyk/J2Ogv7Mtyb/QXhm/64dWv4LD7T5B3Hu/fqGdvspjoD4qqLTAg89Ov+5mbcCtXNy/ltvqviobAMCuLRLAgzeBPxNBNL9L6LTAA5eOvwuGd7/vWuS/uSOmvyrn4j7AOM8/awEVwFaOir5Ksam/x1WqvxEJwb8vt4o/tdU5wHcWx7+ECJC/SF6Ov/WaED7ArZ+/25JSv+dUGcAOCau+sWXzv78HWsDacQXAK9eZP2cZQMA=",
          "dtype": "f4"
         }
        },
        {
         "mode": "text",
         "name": "Digit 6",
         "text": [
          "6",
          "6",
          "6",
          "6",
          "6",
          "6",
          "6",
          "6",
          "6",
          "6",
          "6",
          "6",
          "6",
          "6",
          "6",
          "6",
          "6",
          "6",
          "6",
          "6",
          "6",
          "6",
          "6",
          "6",
          "6",
          "6",
          "6",
          "6",
          "6",
          "6",
          "6",
          "6",
          "6",
          "6",
          "6",
          "6",
          "6",
          "6",
          "6",
          "6",
          "6",
          "6",
          "6",
          "6",
          "6",
          "6",
          "6",
          "6",
          "6",
          "6"
         ],
         "textfont": {
          "color": "#e377c2",
          "size": 12
         },
         "textposition": "middle center",
         "type": "scatter3d",
         "x": {
          "bdata": "sEoIwVk0hcAArMDA8EJNwciwH8GB5lPBai9PwCiXwsADMci/LSYxwQ58jsAIDLfAon67wENOT8AmEuLAV61RwI5gwsCOEa/AGlUmv3yHj8DI+77ARUFNwKOxs8A0OQPAEEuBv7PWEcDSOvbAvnmUP1e9ScFrm6jAFyQCwI6tdsAsD3G9KDwjwDdbz79m0NDAouH/wMmIHMEYYAjBZQkOwdCoAMF6+4TAtwwUwb4vxr/nwETAv1AnwIHm3MCqXTnB++sIwbXSSL8=",
          "dtype": "f4"
         },
         "y": {
          "bdata": "FVU4weCuJsEIWNfA4I5pwRW0qsGK8HzB3wOAwHHVXMBqixHB6vBhwTyAVcDQKzzAGi2awOz3e8Dh4vLA3YyYwK223cC/8pfA4c2jwMB12sCjDNfAgbYKwMJDjsD/G9LAzDGKv5f/J8C08qbAgtHDwJjeU8El7xDB0XWZwLNFyMC08bPADkP1v6no9L/OE0nBdO4BwVK4LsFy7Q/BvTg1wWVTH8GV1K3AfmiNweuV88A04XDA6VxBwJBFCcHhFkLBfmVewdxc2cA=",
          "dtype": "f4"
         },
         "z": {
          "bdata": "KQ/tQPIjSkEaROVAyrkMQV0hckFCxgBB+pyfQHYjB0F48XVBVqMVQT7VD0FAhx1Bn3jhQO8zAkD4DQNByMZdQAvVF0HDpMdAOOLcQP64PEH9aYo/87jVQK+GLkG8YP1AtasbQBXXDEGcbRhB+6U0QZJNCUELM9tAuBxeQWeUl0Be/RhBckuHQHvuyT8MsXRB6TJ5QH+ceEA8uxlBEzQrQd5PCkFnaodAelxEQQ+a50D89U5Ah8AjQKvDCUGfYeVAYfAxQaBlIEE=",
          "dtype": "f4"
         }
        },
        {
         "mode": "text",
         "name": "Digit 7",
         "text": [
          "7",
          "7",
          "7",
          "7",
          "7",
          "7",
          "7",
          "7",
          "7",
          "7",
          "7",
          "7",
          "7",
          "7",
          "7",
          "7",
          "7",
          "7",
          "7",
          "7",
          "7",
          "7",
          "7",
          "7",
          "7",
          "7",
          "7",
          "7",
          "7",
          "7",
          "7",
          "7",
          "7",
          "7",
          "7",
          "7",
          "7",
          "7",
          "7",
          "7",
          "7",
          "7",
          "7",
          "7",
          "7",
          "7",
          "7",
          "7",
          "7",
          "7"
         ],
         "textfont": {
          "color": "#7f7f7f",
          "size": 12
         },
         "textposition": "middle center",
         "type": "scatter3d",
         "x": {
          "bdata": "LL8MwbN0BsH15jPBBOJBwVh/ScHtV1TBqZhUwbJHD8HIVt3AcvsvwU91NcEcqUHBmmRCwfqI4cAvWE3BXMwxwcABQ8HIFkXBbiIxwbwhM8FjVmHBS99cwXf4zcAS7EPBAp0RwQJ4TMGOnQ7Bz2wFwePG2cCISDvBaTwwwSF7Q8FvBDDBWGkVwVSPAcGaFEbBNKhFwcSIUMF69A3BTZ1gwc7DH8EFWh/BGEMzwWfhBcHamkDBkwUBwdjJNsECMVTBIR75wGAjKsE=",
          "dtype": "f4"
         },
         "y": {
          "bdata": "cAozwVUjFsH4eZXBqUmCwZxuWsEsSpLBngNawX0rj8BkMgDB92dQwb3dMsEYLXfB2vhdwRDuO8ERumfBiXNawRriMcG0X3bBGCuTwdyiJ8EuTKvBvEdZwXXl0cByLynBG1FdwYBqbsHwW3TBWLEbwaqiEcFUSEjB12z6wDpOkcHZ3JXB2A05weJNLMGsBTvBNGMiweDFK8FwvWrBCjCAwR3IU8HoIRDBT6xowX246MAwhyfB8t0iwckKDcEfbGTBWwHVwI96LME=",
          "dtype": "f4"
         },
         "z": {
          "bdata": "k+YBv4twYr8zkC/ASXtCwNFojr/JLL+/Y0cBvwHUoL8PmX+/MV+LvwvWEL7vQijASZjdvx46PcC99aa/O9Nlvyssgj/v3TbAwQHWv5FLsr8t9L3AD9ebP/uZX79P0wLA+sw2wHmC7r9g1GLADf+qv4YUxb7NwrK/7RxGP451ssADdF3Ae8Rxv+M1D7+hjMO/PY/tv8m6z7+bIR3A285nv9svOb8mUbe+nfEbwCu9oT8RneS/MR0RwLow7j7DL1zAVVR9PjEEnL8=",
          "dtype": "f4"
         }
        },
        {
         "mode": "text",
         "name": "Digit 8",
         "text": [
          "8",
          "8",
          "8",
          "8",
          "8",
          "8",
          "8",
          "8",
          "8",
          "8",
          "8",
          "8",
          "8",
          "8",
          "8",
          "8",
          "8",
          "8",
          "8",
          "8",
          "8",
          "8",
          "8",
          "8",
          "8",
          "8",
          "8",
          "8",
          "8",
          "8",
          "8",
          "8",
          "8",
          "8",
          "8",
          "8",
          "8",
          "8",
          "8",
          "8",
          "8",
          "8",
          "8",
          "8",
          "8",
          "8",
          "8",
          "8",
          "8",
          "8"
         ],
         "textfont": {
          "color": "#bcbd22",
          "size": 12
         },
         "textposition": "middle center",
         "type": "scatter3d",
         "x": {
          "bdata": "ViTJwJ3zBMCAxr3AKUI/wHM7RcFfG8/AFM9DwK2gcMCMZWvBou7JwFalrMD2YiHBNCV4wCpKWsE/vVHA3GsvwSvbe8A55ovAqmiGwL+dccBevFnBZ6aNwRpzAsFAzBvBK5RFwRuJ879mZebAV2oswXfp+cC0iUvBn7l4wVLnScDVBIjA5gI0wBB2HcFQoy7Ba4t0wJzmScByVIzA7VNfwf9HhsC0JR3BWjNTwcrN8cBzH47AFhCCwFCjt8DKQGLBXBaJwJ0npMA=",
          "dtype": "f4"
         },
         "y": {
          "bdata": "E8qowH3+tsC0MHfBJBOPwAoROMEUD07AF7ADwT5RucAEVmfBC9k9wEz5RsGvOyXBtqQjwdSgasH4vtC//i0owZn1YcBc6AnAIzD6vwGoFMBsWFDBpJCKwTf2oMB6FxvBSJY4wSNzpMD1cm/ASXIdweEt5MClXjTBRpuCwSkHosDe5P+/OOy8v1Y8EcEHpCLBcvS+wMT3r79WiQXB0xBbwRSpCcGoySbBorpKwSUtwcDFow7A1YMgwCcpWMFBSE/BD5HVwKCSIMA=",
          "dtype": "f4"
         },
         "z": {
          "bdata": "heASQDpAlUDedE5BG2ebQD2wd0A8aKpANdjfQIlIw0Dmt4RAsEKrQOpQwUAHppJAAJIDQQ92WUCVa0ZAjWhVQJ/OqT9VbQpBEwBdQE8mdkB2FIRA7d6ZQNlZ3kBnDTtADVZ8QHzIgUDSOqtA1Qp2QIPxCUDo95dAKcM7QIpBokCFSH1AyV/WQH+PP0BdqmpA4cjIQAGnOECVxwFBBg2NQO7/AUHdR2BARZRaQKf0WEBE1oZA0QGEQCleO0GjPKBA13zhQBC6l0A=",
          "dtype": "f4"
         }
        },
        {
         "mode": "text",
         "name": "Digit 9",
         "text": [
          "9",
          "9",
          "9",
          "9",
          "9",
          "9",
          "9",
          "9",
          "9",
          "9",
          "9",
          "9",
          "9",
          "9",
          "9",
          "9",
          "9",
          "9",
          "9",
          "9",
          "9",
          "9",
          "9",
          "9",
          "9",
          "9",
          "9",
          "9",
          "9",
          "9",
          "9",
          "9",
          "9",
          "9",
          "9",
          "9",
          "9",
          "9",
          "9",
          "9",
          "9",
          "9",
          "9",
          "9",
          "9",
          "9",
          "9",
          "9",
          "9",
          "9"
         ],
         "textfont": {
          "color": "#17becf",
          "size": 12
         },
         "textposition": "middle center",
         "type": "scatter3d",
         "x": {
          "bdata": "IoNkwRBdL8Gh6jLBnsPLwAWuB8GnF2nBMJtWwbUOJ8EiplzBzk07wVkxDcHUa/jAZq4/wbWZKsEi4QbBXD2zwGZnKMFx3YTA/EMBwWTrGsEm4v3AUuIRwVI2McEGWDXBwBcwwXo+JcGTSSXBxvYtwdDbPMFDGSPBrHLqwAhTO8H8R0TB1y88wU74HcHat7nAlExmwRR8yMDcyUzB8BwNwRDeVMGt4CjBTlgZwQDkF8FSlyrB8q4dwZ6WIMHuCkLBOjQ3wWVIXcE=",
          "dtype": "f4"
         },
         "y": {
          "bdata": "mh1KwRFFJMClwwDBttccv70vNcBjVWzA1DocwT/j/cDTiAvB7kERwaevr8A/b5TAO5b7wFRTzcAUI/g9o1ItwOyjiMALWPq/uzWNwNOiWsBMpDU/+FV/PQle5MCp4o/AWZWTwNTnu8DNi4TAk7NTwGmT0sAZNMTA4bBNwFyTT7/wfag/2y/4wK5m0r//kXrAJncpwWzmLj9c8sa/jRYZwH/gXsHUWADBkZM8wBaQt8Dcsb3AGHvtwJrSCMCwhVk9WGybwNm0AME=",
          "dtype": "f4"
         },
         "z": {
          "bdata": "t24twA04DD99AE4/eT2Iv4mJ1z8FPci/OlrKPtWZMz4rwwq+1aYIP2oEhz6ZiyM/ptyrvidF7T+lKJ0/k268PysrKb/IG5I/MTzUP5b8M0D/W7U/TTmIPyqY1z5fPaY/YyzVP31Icz8b2h5AOf9hQNtdC0A2MNK+IcGrP7ZHyL5Tixq/dfIGPosTzj9B9mU/de4pPpo65D79M5W/4Rx8P2rLgz2sKEa9ZxeaP3u3pD+XJ5k/rDskveMXKb/lmUc/lS8LQJMzkz8=",
          "dtype": "f4"
         }
        }
       ],
       "layout": {
        "margin": {
         "b": 10,
         "l": 10,
         "r": 20,
         "t": 10
        },
        "scene": {
         "xaxis": {
          "title": {
           "text": "Latent Dimension 1"
          }
         },
         "yaxis": {
          "title": {
           "text": "Latent Dimension 2"
          }
         },
         "zaxis": {
          "title": {
           "text": "Latent Dimension 3"
          }
         }
        },
        "template": {
         "data": {
          "bar": [
           {
            "error_x": {
             "color": "#2a3f5f"
            },
            "error_y": {
             "color": "#2a3f5f"
            },
            "marker": {
             "line": {
              "color": "#E5ECF6",
              "width": 0.5
             },
             "pattern": {
              "fillmode": "overlay",
              "size": 10,
              "solidity": 0.2
             }
            },
            "type": "bar"
           }
          ],
          "barpolar": [
           {
            "marker": {
             "line": {
              "color": "#E5ECF6",
              "width": 0.5
             },
             "pattern": {
              "fillmode": "overlay",
              "size": 10,
              "solidity": 0.2
             }
            },
            "type": "barpolar"
           }
          ],
          "carpet": [
           {
            "aaxis": {
             "endlinecolor": "#2a3f5f",
             "gridcolor": "white",
             "linecolor": "white",
             "minorgridcolor": "white",
             "startlinecolor": "#2a3f5f"
            },
            "baxis": {
             "endlinecolor": "#2a3f5f",
             "gridcolor": "white",
             "linecolor": "white",
             "minorgridcolor": "white",
             "startlinecolor": "#2a3f5f"
            },
            "type": "carpet"
           }
          ],
          "choropleth": [
           {
            "colorbar": {
             "outlinewidth": 0,
             "ticks": ""
            },
            "type": "choropleth"
           }
          ],
          "contour": [
           {
            "colorbar": {
             "outlinewidth": 0,
             "ticks": ""
            },
            "colorscale": [
             [
              0,
              "#0d0887"
             ],
             [
              0.1111111111111111,
              "#46039f"
             ],
             [
              0.2222222222222222,
              "#7201a8"
             ],
             [
              0.3333333333333333,
              "#9c179e"
             ],
             [
              0.4444444444444444,
              "#bd3786"
             ],
             [
              0.5555555555555556,
              "#d8576b"
             ],
             [
              0.6666666666666666,
              "#ed7953"
             ],
             [
              0.7777777777777778,
              "#fb9f3a"
             ],
             [
              0.8888888888888888,
              "#fdca26"
             ],
             [
              1,
              "#f0f921"
             ]
            ],
            "type": "contour"
           }
          ],
          "contourcarpet": [
           {
            "colorbar": {
             "outlinewidth": 0,
             "ticks": ""
            },
            "type": "contourcarpet"
           }
          ],
          "heatmap": [
           {
            "colorbar": {
             "outlinewidth": 0,
             "ticks": ""
            },
            "colorscale": [
             [
              0,
              "#0d0887"
             ],
             [
              0.1111111111111111,
              "#46039f"
             ],
             [
              0.2222222222222222,
              "#7201a8"
             ],
             [
              0.3333333333333333,
              "#9c179e"
             ],
             [
              0.4444444444444444,
              "#bd3786"
             ],
             [
              0.5555555555555556,
              "#d8576b"
             ],
             [
              0.6666666666666666,
              "#ed7953"
             ],
             [
              0.7777777777777778,
              "#fb9f3a"
             ],
             [
              0.8888888888888888,
              "#fdca26"
             ],
             [
              1,
              "#f0f921"
             ]
            ],
            "type": "heatmap"
           }
          ],
          "histogram": [
           {
            "marker": {
             "pattern": {
              "fillmode": "overlay",
              "size": 10,
              "solidity": 0.2
             }
            },
            "type": "histogram"
           }
          ],
          "histogram2d": [
           {
            "colorbar": {
             "outlinewidth": 0,
             "ticks": ""
            },
            "colorscale": [
             [
              0,
              "#0d0887"
             ],
             [
              0.1111111111111111,
              "#46039f"
             ],
             [
              0.2222222222222222,
              "#7201a8"
             ],
             [
              0.3333333333333333,
              "#9c179e"
             ],
             [
              0.4444444444444444,
              "#bd3786"
             ],
             [
              0.5555555555555556,
              "#d8576b"
             ],
             [
              0.6666666666666666,
              "#ed7953"
             ],
             [
              0.7777777777777778,
              "#fb9f3a"
             ],
             [
              0.8888888888888888,
              "#fdca26"
             ],
             [
              1,
              "#f0f921"
             ]
            ],
            "type": "histogram2d"
           }
          ],
          "histogram2dcontour": [
           {
            "colorbar": {
             "outlinewidth": 0,
             "ticks": ""
            },
            "colorscale": [
             [
              0,
              "#0d0887"
             ],
             [
              0.1111111111111111,
              "#46039f"
             ],
             [
              0.2222222222222222,
              "#7201a8"
             ],
             [
              0.3333333333333333,
              "#9c179e"
             ],
             [
              0.4444444444444444,
              "#bd3786"
             ],
             [
              0.5555555555555556,
              "#d8576b"
             ],
             [
              0.6666666666666666,
              "#ed7953"
             ],
             [
              0.7777777777777778,
              "#fb9f3a"
             ],
             [
              0.8888888888888888,
              "#fdca26"
             ],
             [
              1,
              "#f0f921"
             ]
            ],
            "type": "histogram2dcontour"
           }
          ],
          "mesh3d": [
           {
            "colorbar": {
             "outlinewidth": 0,
             "ticks": ""
            },
            "type": "mesh3d"
           }
          ],
          "parcoords": [
           {
            "line": {
             "colorbar": {
              "outlinewidth": 0,
              "ticks": ""
             }
            },
            "type": "parcoords"
           }
          ],
          "pie": [
           {
            "automargin": true,
            "type": "pie"
           }
          ],
          "scatter": [
           {
            "fillpattern": {
             "fillmode": "overlay",
             "size": 10,
             "solidity": 0.2
            },
            "type": "scatter"
           }
          ],
          "scatter3d": [
           {
            "line": {
             "colorbar": {
              "outlinewidth": 0,
              "ticks": ""
             }
            },
            "marker": {
             "colorbar": {
              "outlinewidth": 0,
              "ticks": ""
             }
            },
            "type": "scatter3d"
           }
          ],
          "scattercarpet": [
           {
            "marker": {
             "colorbar": {
              "outlinewidth": 0,
              "ticks": ""
             }
            },
            "type": "scattercarpet"
           }
          ],
          "scattergeo": [
           {
            "marker": {
             "colorbar": {
              "outlinewidth": 0,
              "ticks": ""
             }
            },
            "type": "scattergeo"
           }
          ],
          "scattergl": [
           {
            "marker": {
             "colorbar": {
              "outlinewidth": 0,
              "ticks": ""
             }
            },
            "type": "scattergl"
           }
          ],
          "scattermap": [
           {
            "marker": {
             "colorbar": {
              "outlinewidth": 0,
              "ticks": ""
             }
            },
            "type": "scattermap"
           }
          ],
          "scattermapbox": [
           {
            "marker": {
             "colorbar": {
              "outlinewidth": 0,
              "ticks": ""
             }
            },
            "type": "scattermapbox"
           }
          ],
          "scatterpolar": [
           {
            "marker": {
             "colorbar": {
              "outlinewidth": 0,
              "ticks": ""
             }
            },
            "type": "scatterpolar"
           }
          ],
          "scatterpolargl": [
           {
            "marker": {
             "colorbar": {
              "outlinewidth": 0,
              "ticks": ""
             }
            },
            "type": "scatterpolargl"
           }
          ],
          "scatterternary": [
           {
            "marker": {
             "colorbar": {
              "outlinewidth": 0,
              "ticks": ""
             }
            },
            "type": "scatterternary"
           }
          ],
          "surface": [
           {
            "colorbar": {
             "outlinewidth": 0,
             "ticks": ""
            },
            "colorscale": [
             [
              0,
              "#0d0887"
             ],
             [
              0.1111111111111111,
              "#46039f"
             ],
             [
              0.2222222222222222,
              "#7201a8"
             ],
             [
              0.3333333333333333,
              "#9c179e"
             ],
             [
              0.4444444444444444,
              "#bd3786"
             ],
             [
              0.5555555555555556,
              "#d8576b"
             ],
             [
              0.6666666666666666,
              "#ed7953"
             ],
             [
              0.7777777777777778,
              "#fb9f3a"
             ],
             [
              0.8888888888888888,
              "#fdca26"
             ],
             [
              1,
              "#f0f921"
             ]
            ],
            "type": "surface"
           }
          ],
          "table": [
           {
            "cells": {
             "fill": {
              "color": "#EBF0F8"
             },
             "line": {
              "color": "white"
             }
            },
            "header": {
             "fill": {
              "color": "#C8D4E3"
             },
             "line": {
              "color": "white"
             }
            },
            "type": "table"
           }
          ]
         },
         "layout": {
          "annotationdefaults": {
           "arrowcolor": "#2a3f5f",
           "arrowhead": 0,
           "arrowwidth": 1
          },
          "autotypenumbers": "strict",
          "coloraxis": {
           "colorbar": {
            "outlinewidth": 0,
            "ticks": ""
           }
          },
          "colorscale": {
           "diverging": [
            [
             0,
             "#8e0152"
            ],
            [
             0.1,
             "#c51b7d"
            ],
            [
             0.2,
             "#de77ae"
            ],
            [
             0.3,
             "#f1b6da"
            ],
            [
             0.4,
             "#fde0ef"
            ],
            [
             0.5,
             "#f7f7f7"
            ],
            [
             0.6,
             "#e6f5d0"
            ],
            [
             0.7,
             "#b8e186"
            ],
            [
             0.8,
             "#7fbc41"
            ],
            [
             0.9,
             "#4d9221"
            ],
            [
             1,
             "#276419"
            ]
           ],
           "sequential": [
            [
             0,
             "#0d0887"
            ],
            [
             0.1111111111111111,
             "#46039f"
            ],
            [
             0.2222222222222222,
             "#7201a8"
            ],
            [
             0.3333333333333333,
             "#9c179e"
            ],
            [
             0.4444444444444444,
             "#bd3786"
            ],
            [
             0.5555555555555556,
             "#d8576b"
            ],
            [
             0.6666666666666666,
             "#ed7953"
            ],
            [
             0.7777777777777778,
             "#fb9f3a"
            ],
            [
             0.8888888888888888,
             "#fdca26"
            ],
            [
             1,
             "#f0f921"
            ]
           ],
           "sequentialminus": [
            [
             0,
             "#0d0887"
            ],
            [
             0.1111111111111111,
             "#46039f"
            ],
            [
             0.2222222222222222,
             "#7201a8"
            ],
            [
             0.3333333333333333,
             "#9c179e"
            ],
            [
             0.4444444444444444,
             "#bd3786"
            ],
            [
             0.5555555555555556,
             "#d8576b"
            ],
            [
             0.6666666666666666,
             "#ed7953"
            ],
            [
             0.7777777777777778,
             "#fb9f3a"
            ],
            [
             0.8888888888888888,
             "#fdca26"
            ],
            [
             1,
             "#f0f921"
            ]
           ]
          },
          "colorway": [
           "#636efa",
           "#EF553B",
           "#00cc96",
           "#ab63fa",
           "#FFA15A",
           "#19d3f3",
           "#FF6692",
           "#B6E880",
           "#FF97FF",
           "#FECB52"
          ],
          "font": {
           "color": "#2a3f5f"
          },
          "geo": {
           "bgcolor": "white",
           "lakecolor": "white",
           "landcolor": "#E5ECF6",
           "showlakes": true,
           "showland": true,
           "subunitcolor": "white"
          },
          "hoverlabel": {
           "align": "left"
          },
          "hovermode": "closest",
          "mapbox": {
           "style": "light"
          },
          "paper_bgcolor": "white",
          "plot_bgcolor": "#E5ECF6",
          "polar": {
           "angularaxis": {
            "gridcolor": "white",
            "linecolor": "white",
            "ticks": ""
           },
           "bgcolor": "#E5ECF6",
           "radialaxis": {
            "gridcolor": "white",
            "linecolor": "white",
            "ticks": ""
           }
          },
          "scene": {
           "xaxis": {
            "backgroundcolor": "#E5ECF6",
            "gridcolor": "white",
            "gridwidth": 2,
            "linecolor": "white",
            "showbackground": true,
            "ticks": "",
            "zerolinecolor": "white"
           },
           "yaxis": {
            "backgroundcolor": "#E5ECF6",
            "gridcolor": "white",
            "gridwidth": 2,
            "linecolor": "white",
            "showbackground": true,
            "ticks": "",
            "zerolinecolor": "white"
           },
           "zaxis": {
            "backgroundcolor": "#E5ECF6",
            "gridcolor": "white",
            "gridwidth": 2,
            "linecolor": "white",
            "showbackground": true,
            "ticks": "",
            "zerolinecolor": "white"
           }
          },
          "shapedefaults": {
           "line": {
            "color": "#2a3f5f"
           }
          },
          "ternary": {
           "aaxis": {
            "gridcolor": "white",
            "linecolor": "white",
            "ticks": ""
           },
           "baxis": {
            "gridcolor": "white",
            "linecolor": "white",
            "ticks": ""
           },
           "bgcolor": "#E5ECF6",
           "caxis": {
            "gridcolor": "white",
            "linecolor": "white",
            "ticks": ""
           }
          },
          "title": {
           "x": 0.05
          },
          "xaxis": {
           "automargin": true,
           "gridcolor": "white",
           "linecolor": "white",
           "ticks": "",
           "title": {
            "standoff": 15
           },
           "zerolinecolor": "white",
           "zerolinewidth": 2
          },
          "yaxis": {
           "automargin": true,
           "gridcolor": "white",
           "linecolor": "white",
           "ticks": "",
           "title": {
            "standoff": 15
           },
           "zerolinecolor": "white",
           "zerolinewidth": 2
          }
         }
        },
        "title": {
         "text": "3D Visualization of MNIST Latent Space (Text Labels)"
        },
        "width": 800
       }
      }
     },
     "metadata": {},
     "output_type": "display_data"
    }
   ],
   "source": [
    "import plotly.graph_objects as go\n",
    "import numpy as np\n",
    "\n",
    "# all_latents와 all_labels는 이전 코드에서 추출한 NumPy 배열이어야 합니다.\n",
    "# 예시)\n",
    "# all_latents.shape = (N, 3)\n",
    "# all_labels.shape = (N,)\n",
    "\n",
    "# 각 숫자(0~9)에 대한 색상 리스트 (Plotly 기본 색상 사용)\n",
    "colors = [\"#1f77b4\", \"#ff7f0e\", \"#2ca02c\", \"#d62728\", \"#9467bd\",\n",
    "          \"#8c564b\", \"#e377c2\", \"#7f7f7f\", \"#bcbd22\", \"#17becf\"]\n",
    "\n",
    "fig = go.Figure()\n",
    "\n",
    "for digit in np.unique(all_labels):\n",
    "    # 현재 digit에 해당하는 인덱스 찾기\n",
    "    indices = np.where(all_labels == digit)[0]\n",
    "    # 각 클래스에서 최대 50개의 샘플 선택 (샘플이 적으면 모두 선택)\n",
    "    sample_indices = np.random.choice(indices, size=min(50, len(indices)), replace=False)\n",
    "\n",
    "    fig.add_trace(go.Scatter3d(\n",
    "        x=all_latents[sample_indices, 0],\n",
    "        y=all_latents[sample_indices, 1],\n",
    "        z=all_latents[sample_indices, 2],\n",
    "        mode='text',  # 마커 없이 텍스트만 표시\n",
    "        text=[str(digit)] * len(sample_indices),\n",
    "        textposition='middle center',\n",
    "        textfont=dict(color=colors[int(digit)], size=12),\n",
    "        name=f\"Digit {digit}\"\n",
    "    ))\n",
    "\n",
    "fig.update_layout(\n",
    "    scene=dict(\n",
    "        xaxis_title='Latent Dimension 1',\n",
    "        yaxis_title='Latent Dimension 2',\n",
    "        zaxis_title='Latent Dimension 3'\n",
    "    ),\n",
    "    width=800,\n",
    "    margin=dict(r=20, l=10, b=10, t=10),\n",
    "    title=\"3D Visualization of MNIST Latent Space (Text Labels)\"\n",
    ")\n",
    "\n",
    "fig.show()\n"
   ]
  },
  {
   "cell_type": "code",
   "execution_count": null,
   "id": "da3be46b",
   "metadata": {},
   "outputs": [],
   "source": []
  }
 ],
 "metadata": {
  "kernelspec": {
   "display_name": "myvenv",
   "language": "python",
   "name": "python3"
  },
  "language_info": {
   "codemirror_mode": {
    "name": "ipython",
    "version": 3
   },
   "file_extension": ".py",
   "mimetype": "text/x-python",
   "name": "python",
   "nbconvert_exporter": "python",
   "pygments_lexer": "ipython3",
   "version": "3.9.6"
  }
 },
 "nbformat": 4,
 "nbformat_minor": 5
}
