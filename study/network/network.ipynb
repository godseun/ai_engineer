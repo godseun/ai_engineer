{
 "cells": [
  {
   "cell_type": "code",
   "execution_count": 1,
   "id": "649fad4e",
   "metadata": {},
   "outputs": [
    {
     "name": "stdout",
     "output_type": "stream",
     "text": [
      "Using torch.autograd.grad:\n",
      "Gradients : (tensor(3., dtype=torch.float16), tensor(2., dtype=torch.float16), tensor(4., dtype=torch.float16), tensor(1., dtype=torch.float16))\n",
      "Gradient w.r.t x1: 3.0\n",
      "Gradient w.r.t x2: 2.0\n",
      "Gradient w.r.t x3: 4.0\n",
      "Gradient w.r.t x4: 1.0\n"
     ]
    }
   ],
   "source": [
    "import torch\n",
    "import torch.optim as optim\n",
    "import torch.nn as nn\n",
    "\n",
    "from torch.autograd import grad\n",
    "\n",
    "\n",
    "x1 = torch.tensor(2, requires_grad=True, dtype=torch.float16)\n",
    "x2 = torch.tensor(3, requires_grad=True, dtype=torch.float16)\n",
    "x3 = torch.tensor(1, requires_grad=True, dtype=torch.float16)\n",
    "x4 = torch.tensor(4, requires_grad=True, dtype=torch.float16)\n",
    "\n",
    "z1 = x1 * x2\n",
    "z2 = x3 * x4\n",
    "f = z1 + z2\n",
    "\n",
    "df_dx = grad(outputs=f, inputs=[x1, x2, x3, x4])\n",
    "\n",
    "print('Using torch.autograd.grad:')\n",
    "print(f'Gradients : {df_dx}')\n",
    "print(f'Gradient w.r.t x1: {df_dx[0]}')\n",
    "print(f'Gradient w.r.t x2: {df_dx[1]}')\n",
    "print(f'Gradient w.r.t x3: {df_dx[2]}')\n",
    "print(f'Gradient w.r.t x4: {df_dx[3]}')"
   ]
  },
  {
   "cell_type": "code",
   "execution_count": 2,
   "id": "713a57d9",
   "metadata": {},
   "outputs": [
    {
     "name": "stdout",
     "output_type": "stream",
     "text": [
      "Using .backword():\n",
      "Gradient w.r.t x1: 3.0\n",
      "Gradient w.r.t x2: 2.0\n",
      "Gradient w.r.t x3: 4.0\n",
      "Gradient w.r.t x4: 1.0\n"
     ]
    }
   ],
   "source": [
    "x1 = torch.tensor(2, requires_grad=True, dtype=torch.float16)\n",
    "x2 = torch.tensor(3, requires_grad=True, dtype=torch.float16)\n",
    "x3 = torch.tensor(1, requires_grad=True, dtype=torch.float16)\n",
    "x4 = torch.tensor(4, requires_grad=True, dtype=torch.float16)\n",
    "\n",
    "opt = optim.SGD([x1, x2, x3, x4], lr=0.001)\n",
    "opt.zero_grad()\n",
    "\n",
    "z1 = x1 * x2\n",
    "z2 = x3 * x4\n",
    "f = z1 + z2\n",
    "\n",
    "f.backward()\n",
    "opt.step()\n",
    "\n",
    "print('Using .backword():')\n",
    "print(f'Gradient w.r.t x1: {x1.grad}')\n",
    "print(f'Gradient w.r.t x2: {x2.grad}')\n",
    "print(f'Gradient w.r.t x3: {x3.grad}')\n",
    "print(f'Gradient w.r.t x4: {x4.grad}')\n"
   ]
  },
  {
   "cell_type": "markdown",
   "id": "be0e68f3",
   "metadata": {},
   "source": [
    "\n",
    "\n",
    "**두 방법의 차이점**\n",
    "\n",
    "| 항목                        | `torch.autograd.grad`                            | `.backward()`                     |\n",
    "|-----------------------------|--------------------------------------------------|------------------------------------|\n",
    "| **기울기 계산 방식**         | 특정 입력 변수의 기울기 반환                    | 모든 `requires_grad=True` 변수의 기울기 저장 |\n",
    "| **결과 저장 위치**           | 반환값(튜플)로 제공                             | 각 텐서의 `.grad` 속성에 저장      |\n",
    "| **사용 편의성**              | 필요한 변수만 선택적으로 계산 가능               | 간단한 호출로 모든 변수 계산 가능  |\n",
    "| **주요 사용 사례**           | 선택적 변수 기울기 계산, 반환값 활용이 필요한 경우 | 대부분의 딥러닝 모델 학습 과정    |\n",
    "     \n",
    "        \n",
    "        \n",
    "\n",
    "**정리**\n",
    "- `torch.autograd.grad`는 특정 변수의 기울기만 필요하거나 반환값을 별도로 사용해야 할 때 적합합니다.\n",
    "- `.backward()`는 일반적으로 모든 기울기를 계산하고 저장해야 하는 학습 과정에서 자주 사용됩니다.\n",
    "- 두 방법 모두 PyTorch에서 기울기 계산의 핵심 기능을 제공하며, 용도에 따라 적절히 선택하여 사용할 수 있습니다."
   ]
  },
  {
   "cell_type": "code",
   "execution_count": 3,
   "id": "b098eb31",
   "metadata": {},
   "outputs": [
    {
     "name": "stdout",
     "output_type": "stream",
     "text": [
      "Using .backword():\n",
      "Gradient w.r.t x1: 3.0\n",
      "Gradient w.r.t x2: 2.0\n",
      "Gradient w.r.t x3: 4.0\n",
      "Gradient w.r.t x4: 1.0\n",
      "Using .backword():\n",
      "Gradient w.r.t x1: 3.0\n",
      "Gradient w.r.t x2: 2.0\n",
      "Gradient w.r.t x3: 4.0\n",
      "Gradient w.r.t x4: 1.0\n",
      "Using .backword():\n",
      "Gradient w.r.t x1: 3.0\n",
      "Gradient w.r.t x2: 2.0\n",
      "Gradient w.r.t x3: 4.0\n",
      "Gradient w.r.t x4: 1.0\n"
     ]
    }
   ],
   "source": [
    "x1 = torch.tensor(2, requires_grad=True, dtype=torch.float16)\n",
    "x2 = torch.tensor(3, requires_grad=True, dtype=torch.float16)\n",
    "x3 = torch.tensor(1, requires_grad=True, dtype=torch.float16)\n",
    "x4 = torch.tensor(4, requires_grad=True, dtype=torch.float16)\n",
    "\n",
    "opt = optim.SGD([x1, x2, x3, x4], lr=0.001)\n",
    "\n",
    "for i in range(3):\n",
    "    z1 = x1 * x2\n",
    "    z2 = x3 * x4\n",
    "    f = z1 + z2\n",
    "    opt.zero_grad()\n",
    "    \n",
    "    f.backward()\n",
    "    \n",
    "    print('Using .backword():')\n",
    "    print(f'Gradient w.r.t x1: {x1.grad}')\n",
    "    print(f'Gradient w.r.t x2: {x2.grad}')\n",
    "    print(f'Gradient w.r.t x3: {x3.grad}')\n",
    "    print(f'Gradient w.r.t x4: {x4.grad}')"
   ]
  },
  {
   "cell_type": "markdown",
   "id": "a45935cd",
   "metadata": {},
   "source": [
    "### `torch.nn` 모듈이란?\n",
    "\n",
    "`torch.nn`은 PyTorch에서 **신경망을 구축**하는 데 필요한 다양한 구성 요소와 기능을 제공하는 핵심 모듈입니다. 이 모듈은 딥러닝 모델을 정의하고 학습시키는 데 매우 유용한 계층(layer), 손실 함수(loss function), 활성화 함수(activation function), 그리고 기타 신경망 관련 도구들을 포함하고 있습니다.\n",
    "\n",
    "### 1. 주요 특징\n",
    "\n",
    "1. **신경망 구축과 학습 지원**\n",
    "    - 딥러닝 모델을 구축하고 학습하는 데 필요한 다양한 도구 제공\n",
    "2. **다양한 구성 요소**\n",
    "    - 신경망의 각 계층, 활성화 함수, 손실 함수, 정규화 기법 등을 손쉽게 사용 가능\n",
    "3. **모듈 상속으로 사용자 정의 모델 설계 가능**\n",
    "    - `torch.nn.Module`을 상속받아 **사용자 정의 모델**을 설계할 수 있음\n",
    "\n",
    "\n",
    "\n",
    "### 2. 모델 구성 요소\n",
    "\n",
    "다음은 설계할 모델의 구조입니다:\n",
    "\n",
    "| index | 0 | 1 | 2 |\n",
    "| --- | --- | --- | --- |\n",
    "| 레이어 타입 | Linear | Linear | Linear |\n",
    "| 입력 차원 | 8 | 4 | 6 |\n",
    "| 출력 차원 | 4 | 6 | 3 |\n",
    "| 활성화 함수 | ReLU | ReLU | - |\n",
    "\n",
    "\n",
    "\n",
    "### 3. 모델 정의 : `nn.Module` 상속\n",
    "\n",
    "모델 클래스를 정의할 때, 반드시 `torch.nn.Module`을 상속받아야 합니다.\n",
    "\n",
    "이로써 PyTorch의 다양한 기능을 활용할 수 있으며, 계층 구조를 손쉽게 설계할 수 있습니다."
   ]
  },
  {
   "cell_type": "code",
   "execution_count": 4,
   "id": "d23738e6",
   "metadata": {},
   "outputs": [],
   "source": [
    "class MyModel(nn.Module):\n",
    "\tdef __init__(self):\n",
    "\t\tsuper().__init__()\n",
    "\t\tself.linear0 = nn.Linear(8,4)\n",
    "\t\tself.linear1 = nn.Linear(4,6)\n",
    "\t\tself.linear2 = nn.Linear(6,3)\n",
    "\t\tself.relu = nn.ReLU()\n",
    "\n",
    "\tdef forward(self, x):\n",
    "\t\tx = self.relu(self.linear0(x))\n",
    "\t\tx = self.relu(self.linear1(x))\n",
    "\t\ty = self.linear2(x)\n",
    "\t\treturn y"
   ]
  },
  {
   "cell_type": "code",
   "execution_count": 5,
   "id": "dec7edad",
   "metadata": {},
   "outputs": [
    {
     "name": "stdout",
     "output_type": "stream",
     "text": [
      "Model output: tensor([[ 0.3277,  0.3590, -0.3175],\n",
      "        [ 0.3113,  0.4006, -0.3171]], grad_fn=<AddmmBackward0>)\n"
     ]
    }
   ],
   "source": [
    "model = MyModel()\n",
    "\n",
    "input_tensor = torch.rand(2,8) # Batch size of 2, input size of 8\n",
    "res = model(input_tensor)\n",
    "print('Model output:', res)"
   ]
  },
  {
   "cell_type": "code",
   "execution_count": 6,
   "id": "0402e8ff",
   "metadata": {},
   "outputs": [],
   "source": [
    "class MyModel2(nn.Module):\n",
    "\tdef __init__(self):\n",
    "\t\tsuper().__init__()\n",
    "\t\tself.block = MyModel() # MyModel이 서브모듈로 포함됨\n",
    "\t\tself.layer = nn.Linear(3, 4)\n",
    "\n",
    "\tdef forward(self, x):\n",
    "\t\tx = self.block(x)\n",
    "\t\ty = self.layer(x)\n",
    "\t\treturn y"
   ]
  },
  {
   "cell_type": "code",
   "execution_count": 7,
   "id": "24031184",
   "metadata": {},
   "outputs": [
    {
     "name": "stdout",
     "output_type": "stream",
     "text": [
      "Model2 output: tensor([[ 0.1993, -0.0629, -0.6687, -0.1754],\n",
      "        [ 0.2241, -0.0416, -0.6881, -0.1633]], grad_fn=<AddmmBackward0>)\n"
     ]
    }
   ],
   "source": [
    "model2 = MyModel2()\n",
    "input_tensor = torch.rand(2,8) # Batch size of 2, input size of 8\n",
    "res = model2(input_tensor)\n",
    "print('Model2 output:', res)"
   ]
  },
  {
   "cell_type": "code",
   "execution_count": 8,
   "id": "b1584a37",
   "metadata": {},
   "outputs": [
    {
     "name": "stdout",
     "output_type": "stream",
     "text": [
      "Sequential model output: tensor([[-0.1830, -0.1541,  0.3606],\n",
      "        [-0.1469, -0.1239,  0.4220]], grad_fn=<AddmmBackward0>)\n"
     ]
    }
   ],
   "source": [
    "model = nn.Sequential(\n",
    "\tnn.Linear(8, 4),\n",
    "\tnn.ReLU(),\n",
    "\tnn.Linear(4, 6),\n",
    "\tnn.ReLU(),\n",
    "\tnn.Linear(6, 3)\n",
    ")\n",
    "input_tensor = torch.rand(2, 8)  # Batch size of 2, input size of 8\n",
    "res = model(input_tensor)\n",
    "print('Sequential model output:', res)"
   ]
  },
  {
   "cell_type": "code",
   "execution_count": 9,
   "id": "15d93192",
   "metadata": {},
   "outputs": [],
   "source": [
    "class MyModelWithSequential(nn.Module):\n",
    "\tdef __init__(self):\n",
    "\t\tsuper().__init__()\n",
    "\t\tself.block = nn.Sequential(\n",
    "\t\t\tnn.Linear(8, 4),\n",
    "\t\t\tnn.ReLU(),\n",
    "\t\t\tnn.Linear(4, 6),\n",
    "\t\t\tnn.ReLU(),\n",
    "\t\t\tnn.Linear(6, 3)\n",
    "\t\t)\n",
    "\t\tself.layer = nn.Linear(3, 4)\n",
    "\n",
    "\tdef forward(self, x):\n",
    "\t\ty = self.layer(self.block(x))\n",
    "\t\treturn y"
   ]
  },
  {
   "cell_type": "code",
   "execution_count": 10,
   "id": "daa8627a",
   "metadata": {},
   "outputs": [
    {
     "name": "stdout",
     "output_type": "stream",
     "text": [
      "MyModelWithSequential output: tensor([[-0.1373,  0.0428, -0.4380, -0.4894],\n",
      "        [-0.1344,  0.0526, -0.4266, -0.4737]], grad_fn=<AddmmBackward0>)\n"
     ]
    }
   ],
   "source": [
    "model = MyModelWithSequential()\n",
    "input_tensor = torch.rand(2, 8)  # Batch size of 2, input size of 8\n",
    "res = model(input_tensor)\n",
    "print('MyModelWithSequential output:', res)"
   ]
  },
  {
   "cell_type": "code",
   "execution_count": 11,
   "id": "7304ae56",
   "metadata": {},
   "outputs": [],
   "source": [
    "class MyModel3(nn.Module):\n",
    "\tdef __init__(self):\n",
    "\t\tsuper().__init__()\n",
    "\t\tself.block = nn.Sequential(\n",
    "\t\t\tnn.Linear(1, 5),\n",
    "\t\t\tnn.ReLU(),\n",
    "\t\t\tnn.Linear(5, 3),\n",
    "\t\t\tnn.ReLU(),\n",
    "\t\t\tnn.Linear(3, 1)\n",
    "\t\t)\n",
    "\n",
    "\tdef forward(self, x):\n",
    "\t\ty = self.block(x)\n",
    "\t\treturn y"
   ]
  },
  {
   "cell_type": "code",
   "execution_count": 12,
   "id": "a65d2a15",
   "metadata": {},
   "outputs": [
    {
     "name": "stdout",
     "output_type": "stream",
     "text": [
      "MyModel3 output: tensor([[-0.4081],\n",
      "        [-0.3983]], grad_fn=<AddmmBackward0>)\n"
     ]
    }
   ],
   "source": [
    "model = MyModel3()\n",
    "input_tensor = torch.rand(2, 1)  # Batch size of 2, input size of 1\n",
    "res = model(input_tensor)\n",
    "print('MyModel3 output:', res)"
   ]
  },
  {
   "attachments": {
    "image.png": {
     "image/png": "[encoded data removed]"
    }
   },
   "cell_type": "markdown",
   "id": "8e65ebe4",
   "metadata": {},
   "source": [
    "![image.png](attachment:image.png)"
   ]
  },
  {
   "cell_type": "code",
   "execution_count": 13,
   "id": "3d8a0d6c",
   "metadata": {},
   "outputs": [],
   "source": [
    "class ComplexModel(nn.Module):\n",
    "\tdef __init__(self):\n",
    "\t\tsuper().__init__()\n",
    "\t\tself.linear0_0 = nn.Linear(4, 8)\n",
    "\t\tself.linear0_1 = nn.Linear(6, 4)\n",
    "\t\tself.linear1_0 = nn.Linear(14, 8)\n",
    "\t\tself.linear1_1 = nn.Linear(14, 2)\n",
    "\t\tself.relu = nn.ReLU()\n",
    "\n",
    "\n",
    "\tdef forward(self, input0, input1, input2):\n",
    "\t\th0_0 = self.relu(self.linear0_0(input0))\n",
    "\t\th0_1 = self.relu(self.linear0_1(input1))\n",
    "\n",
    "\t\th1 = torch.cat([h0_0, h0_1, input2], dim=1)\n",
    "\n",
    "\t\toutput0 = self.linear1_0(h1)\n",
    "\t\toutput1 = self.linear1_1(h1)\n",
    "\t\treturn output0, output1\n"
   ]
  },
  {
   "cell_type": "code",
   "execution_count": 14,
   "id": "aea365ac",
   "metadata": {},
   "outputs": [
    {
     "name": "stdout",
     "output_type": "stream",
     "text": [
      "Complex model outputs:\n",
      "Output 0: tensor([[ 0.2916,  0.0242, -0.0455, -0.0329, -0.2982,  0.2207,  0.0476,  0.0785],\n",
      "        [ 0.2916,  0.0242, -0.0455, -0.0329, -0.2982,  0.2207,  0.0476,  0.0785]],\n",
      "       grad_fn=<AddmmBackward0>)\n",
      "Output 1: tensor([[0.3872, 0.1422],\n",
      "        [0.3872, 0.1422]], grad_fn=<AddmmBackward0>)\n"
     ]
    }
   ],
   "source": [
    "model = ComplexModel()\n",
    "\n",
    "x0 = torch.ones(2,4)\n",
    "x1 = torch.ones(2,6)\n",
    "x2 = torch.ones(2,2)\n",
    "\n",
    "y0, y1 = model(x0, x1, x2)\n",
    "\n",
    "print('Complex model outputs:')\n",
    "print('Output 0:', y0)\n",
    "print('Output 1:', y1)"
   ]
  },
  {
   "attachments": {
    "image.png": {
     "image/png": "[encoded data removed]"
    }
   },
   "cell_type": "markdown",
   "id": "8f50c5dd",
   "metadata": {},
   "source": [
    "![image.png](attachment:image.png)"
   ]
  },
  {
   "cell_type": "code",
   "execution_count": 15,
   "id": "86d59469",
   "metadata": {},
   "outputs": [],
   "source": [
    "class ComplexModel2(nn.Module):\n",
    "\tdef __init__(self):\n",
    "\t\tsuper().__init__()\n",
    "\t\tself.linear0_0 = nn.Linear(10, 16)\n",
    "\t\tself.linear0_1 = nn.Linear(16, 1)\n",
    "\t\tself.linear1_0 = nn.Linear(5, 16)\n",
    "\t\tself.linear2_0 = nn.Linear(32, 32)\n",
    "\t\tself.linear3_0 = nn.Linear(32, 1)\n",
    "\t\tself.relu = nn.ReLU()\n",
    "\n",
    "\tdef forward(self, input0, input1):\n",
    "\t\tdense1 = self.relu(self.linear0_0(input0))\n",
    "\t\taux_output = self.linear0_1(dense1)\n",
    "\n",
    "\t\tdense2 = self.relu(self.linear1_0(input1))\n",
    "\n",
    "\t\tconcat = torch.cat([dense1, dense2], dim=1)\n",
    "\n",
    "\t\tdense3 =  self.relu(self.linear2_0(concat))\n",
    "\t\tdense4 =  self.relu(self.linear2_0(dense3))\n",
    "\t\tmain_output = self.linear3_0(dense4)\n",
    "\t\treturn aux_output, main_output"
   ]
  },
  {
   "cell_type": "code",
   "execution_count": 16,
   "id": "f8a69c4b",
   "metadata": {},
   "outputs": [
    {
     "name": "stdout",
     "output_type": "stream",
     "text": [
      "Complex model outputs:\n",
      "Output 0: tensor([[0.2832]], grad_fn=<AddmmBackward0>)\n",
      "Output 1: tensor([[0.0139]], grad_fn=<AddmmBackward0>)\n"
     ]
    }
   ],
   "source": [
    "model = ComplexModel2()\n",
    "\n",
    "x0 = torch.ones(1,10)\n",
    "x1 = torch.ones(1,5)\n",
    "\n",
    "y0, y1 = model(x0, x1)\n",
    "\n",
    "print('Complex model outputs:')\n",
    "print('Output 0:', y0)\n",
    "print('Output 1:', y1)"
   ]
  },
  {
   "cell_type": "code",
   "execution_count": 17,
   "id": "ea12cdd7",
   "metadata": {},
   "outputs": [
    {
     "name": "stdout",
     "output_type": "stream",
     "text": [
      "ComplexModel2(\n",
      "  (linear0_0): Linear(in_features=10, out_features=16, bias=True)\n",
      "  (linear0_1): Linear(in_features=16, out_features=1, bias=True)\n",
      "  (linear1_0): Linear(in_features=5, out_features=16, bias=True)\n",
      "  (linear2_0): Linear(in_features=32, out_features=32, bias=True)\n",
      "  (linear3_0): Linear(in_features=32, out_features=1, bias=True)\n",
      "  (relu): ReLU()\n",
      ")\n"
     ]
    }
   ],
   "source": [
    "print(model)"
   ]
  },
  {
   "cell_type": "code",
   "execution_count": 18,
   "id": "efc0f6c7",
   "metadata": {},
   "outputs": [
    {
     "name": "stdout",
     "output_type": "stream",
     "text": [
      "Parameter name: linear0_0.weight, Parameter value: Parameter containing:\n",
      "tensor([[ 0.0498, -0.2929, -0.0677,  0.2933, -0.1452, -0.1543,  0.2164,  0.1970,\n",
      "         -0.0921, -0.2390],\n",
      "        [ 0.0661, -0.0017,  0.0972,  0.2889,  0.2877, -0.1645, -0.2205, -0.1862,\n",
      "         -0.0674, -0.2559],\n",
      "        [ 0.0200, -0.0661,  0.3040, -0.2904,  0.2909,  0.2931, -0.1377,  0.1068,\n",
      "         -0.1065,  0.2557],\n",
      "        [ 0.2713,  0.2510, -0.3126,  0.0718,  0.0647,  0.0938,  0.2071, -0.2691,\n",
      "         -0.2839, -0.1912],\n",
      "        [-0.3057,  0.2287,  0.0959, -0.2817,  0.2572, -0.2629, -0.2557,  0.1333,\n",
      "         -0.2855, -0.2376],\n",
      "        [-0.0871, -0.1349, -0.0020,  0.1573, -0.2044, -0.0787, -0.2683,  0.0202,\n",
      "          0.0480,  0.2112],\n",
      "        [ 0.1279, -0.2238, -0.1919,  0.1586,  0.0952,  0.0310,  0.2514,  0.3126,\n",
      "          0.1047, -0.0320],\n",
      "        [ 0.1896,  0.1123, -0.2318, -0.2599,  0.2417, -0.1460,  0.2165,  0.1125,\n",
      "         -0.2776,  0.0986],\n",
      "        [-0.1340,  0.1384,  0.0347,  0.2985,  0.0115, -0.0766, -0.0982,  0.2899,\n",
      "          0.2579,  0.2882],\n",
      "        [ 0.2494,  0.0792, -0.3113, -0.2770, -0.1134, -0.0477,  0.2776,  0.2369,\n",
      "         -0.2611, -0.2642],\n",
      "        [ 0.1788, -0.0083,  0.1795,  0.2084,  0.0186,  0.0354,  0.2235,  0.1883,\n",
      "         -0.0286, -0.2036],\n",
      "        [-0.0294, -0.1883, -0.2607,  0.1953,  0.1233,  0.0565,  0.1385, -0.1318,\n",
      "          0.1217, -0.2493],\n",
      "        [-0.2136,  0.2221, -0.2455, -0.1375,  0.0663,  0.2772,  0.0505, -0.0558,\n",
      "          0.0296,  0.2749],\n",
      "        [ 0.1828,  0.3038, -0.0646, -0.1181,  0.0672, -0.0561, -0.2575, -0.1803,\n",
      "          0.2150,  0.2290],\n",
      "        [ 0.2908,  0.1235, -0.2246, -0.2194, -0.0919, -0.1142,  0.0749, -0.1104,\n",
      "          0.0686,  0.2101],\n",
      "        [ 0.0035,  0.3161, -0.1462, -0.0498,  0.2811,  0.2234, -0.1909, -0.2415,\n",
      "          0.2666,  0.0186]], requires_grad=True)\n",
      "Parameter name: linear0_0.bias, Parameter value: Parameter containing:\n",
      "tensor([-0.2125, -0.2240, -0.0093,  0.2650, -0.1839, -0.1036, -0.0024,  0.1105,\n",
      "         0.2786, -0.2050,  0.0433, -0.1461,  0.0949, -0.1139,  0.2560, -0.1350],\n",
      "       requires_grad=True)\n",
      "Parameter name: linear0_1.weight, Parameter value: Parameter containing:\n",
      "tensor([[ 0.1839,  0.1899,  0.0395, -0.1338,  0.1236, -0.0015,  0.2467,  0.1559,\n",
      "          0.0017, -0.1771,  0.0085,  0.2243, -0.0181,  0.1950, -0.0196,  0.1079]],\n",
      "       requires_grad=True)\n",
      "Parameter name: linear0_1.bias, Parameter value: Parameter containing:\n",
      "tensor([0.0227], requires_grad=True)\n",
      "Parameter name: linear1_0.weight, Parameter value: Parameter containing:\n",
      "tensor([[-6.4399e-02,  1.4523e-01,  2.9356e-01, -1.4005e-01, -5.7843e-02],\n",
      "        [-1.8149e-01,  3.5785e-01,  8.1761e-02, -2.0119e-01, -2.9536e-01],\n",
      "        [ 1.4657e-01, -4.0727e-01, -2.7777e-02, -8.3896e-02,  2.0674e-01],\n",
      "        [ 3.8069e-01, -3.1375e-01,  2.4972e-01,  3.4436e-01,  3.5089e-01],\n",
      "        [-4.2262e-01, -2.9927e-01,  7.5521e-02,  3.0972e-01, -2.8283e-01],\n",
      "        [-2.2791e-01,  7.8625e-02, -1.8677e-01, -1.1525e-01, -1.5161e-01],\n",
      "        [-1.8703e-01,  4.0805e-04, -3.7984e-01,  3.5090e-01,  1.9160e-01],\n",
      "        [-2.8985e-01, -2.0121e-01, -3.6395e-01,  4.4242e-01,  1.7787e-01],\n",
      "        [ 3.9371e-01, -3.5495e-01,  1.5247e-01, -2.5356e-01,  1.3766e-01],\n",
      "        [ 5.0526e-03,  2.5777e-01,  4.2154e-01, -4.3412e-01,  2.6740e-01],\n",
      "        [-2.5132e-01,  4.0260e-02,  3.0629e-01,  3.3666e-01, -2.2934e-01],\n",
      "        [ 3.8285e-01, -2.9596e-01,  2.5418e-01, -3.8865e-01, -1.8406e-01],\n",
      "        [-3.1846e-01,  3.7326e-01,  6.3583e-02,  2.3987e-01, -2.7034e-01],\n",
      "        [ 4.3052e-01,  3.2720e-01,  9.6914e-02, -2.2799e-01,  1.1077e-01],\n",
      "        [ 1.8889e-01,  3.7978e-01,  8.2146e-02,  4.3232e-01, -3.0226e-01],\n",
      "        [-2.6673e-01,  7.1152e-03,  2.5967e-01,  4.8528e-02, -3.7366e-01]],\n",
      "       requires_grad=True)\n",
      "Parameter name: linear1_0.bias, Parameter value: Parameter containing:\n",
      "tensor([-0.3183,  0.2488,  0.0765,  0.2360,  0.2098, -0.1732, -0.2881,  0.4194,\n",
      "         0.1841, -0.3414, -0.1686, -0.0466,  0.2240,  0.3480,  0.3671,  0.2359],\n",
      "       requires_grad=True)\n",
      "Parameter name: linear2_0.weight, Parameter value: Parameter containing:\n",
      "tensor([[ 0.0388,  0.1600, -0.0055,  ...,  0.0216,  0.1211,  0.1019],\n",
      "        [ 0.0428,  0.1059,  0.1290,  ...,  0.1394, -0.1362, -0.1587],\n",
      "        [-0.1486,  0.0482, -0.1171,  ..., -0.1720, -0.1665, -0.1058],\n",
      "        ...,\n",
      "        [-0.1222, -0.0535,  0.0623,  ...,  0.0132,  0.0770, -0.0309],\n",
      "        [-0.1385, -0.1043,  0.0953,  ..., -0.0194,  0.1349,  0.0784],\n",
      "        [-0.0368,  0.0723,  0.1021,  ..., -0.0276, -0.1573, -0.1710]],\n",
      "       requires_grad=True)\n",
      "Parameter name: linear2_0.bias, Parameter value: Parameter containing:\n",
      "tensor([-0.0542,  0.1612, -0.1544,  0.0734,  0.0328, -0.0171, -0.1672, -0.0981,\n",
      "         0.0956,  0.0340,  0.0202,  0.1183,  0.1751, -0.1337, -0.1042,  0.0063,\n",
      "         0.1688,  0.1042,  0.0877,  0.0838,  0.1021,  0.0905, -0.0151, -0.1711,\n",
      "        -0.0270, -0.1716, -0.1684,  0.1039,  0.1019, -0.0452, -0.0773, -0.0975],\n",
      "       requires_grad=True)\n",
      "Parameter name: linear3_0.weight, Parameter value: Parameter containing:\n",
      "tensor([[ 0.1448,  0.0186,  0.0753, -0.1758, -0.0148, -0.1061, -0.1461,  0.0213,\n",
      "          0.0752, -0.0371,  0.0335,  0.1667,  0.1026,  0.1582,  0.0343, -0.1323,\n",
      "          0.1514,  0.0578,  0.1305,  0.0427, -0.1100, -0.0580,  0.1564,  0.1356,\n",
      "          0.0762,  0.0532, -0.0137, -0.0022,  0.1677, -0.1294,  0.0144,  0.1030]],\n",
      "       requires_grad=True)\n",
      "Parameter name: linear3_0.bias, Parameter value: Parameter containing:\n",
      "tensor([-0.0666], requires_grad=True)\n"
     ]
    }
   ],
   "source": [
    "for named_param in model.named_parameters():\n",
    "    print(f'Parameter name: {named_param[0]}, Parameter value: {named_param[1]}')"
   ]
  },
  {
   "cell_type": "code",
   "execution_count": 19,
   "id": "acb3f5c9",
   "metadata": {},
   "outputs": [],
   "source": [
    "class MyModel2(nn.Module):\n",
    "\tdef __init__(self):\n",
    "\t\tsuper().__init__()\n",
    "\t\tself.block = MyModel()\n",
    "\t\tself.linear = nn.Linear(3, 4)\n",
    "\n",
    "\tdef forward(self, x):\n",
    "\t\tx = self.block(x)\n",
    "\t\treturn self.linear(x)\n",
    "\t\n",
    "model2 = MyModel2()"
   ]
  },
  {
   "cell_type": "code",
   "execution_count": 20,
   "id": "d97a5cd9",
   "metadata": {},
   "outputs": [
    {
     "name": "stdout",
     "output_type": "stream",
     "text": [
      "MyModel2(\n",
      "  (block): MyModel(\n",
      "    (linear0): Linear(in_features=8, out_features=4, bias=True)\n",
      "    (linear1): Linear(in_features=4, out_features=6, bias=True)\n",
      "    (linear2): Linear(in_features=6, out_features=3, bias=True)\n",
      "    (relu): ReLU()\n",
      "  )\n",
      "  (linear): Linear(in_features=3, out_features=4, bias=True)\n",
      ")\n"
     ]
    }
   ],
   "source": [
    "print(model2)"
   ]
  },
  {
   "cell_type": "code",
   "execution_count": 21,
   "id": "de4db0e4",
   "metadata": {},
   "outputs": [
    {
     "name": "stdout",
     "output_type": "stream",
     "text": [
      "('block', MyModel(\n",
      "  (linear0): Linear(in_features=8, out_features=4, bias=True)\n",
      "  (linear1): Linear(in_features=4, out_features=6, bias=True)\n",
      "  (linear2): Linear(in_features=6, out_features=3, bias=True)\n",
      "  (relu): ReLU()\n",
      "))\n",
      "('linear', Linear(in_features=3, out_features=4, bias=True))\n"
     ]
    }
   ],
   "source": [
    "for named_child in model2.named_children():\n",
    "    print(named_child)"
   ]
  },
  {
   "cell_type": "code",
   "execution_count": 22,
   "id": "820cf3c8",
   "metadata": {},
   "outputs": [
    {
     "name": "stdout",
     "output_type": "stream",
     "text": [
      "('block.linear0.weight', Parameter containing:\n",
      "tensor([[ 0.0841,  0.0979,  0.0441,  0.2172,  0.1863, -0.1444, -0.3079, -0.1424],\n",
      "        [ 0.2835,  0.2690, -0.1043, -0.1229, -0.3016, -0.2141, -0.2489,  0.0930],\n",
      "        [-0.1804, -0.0192,  0.0032, -0.2788, -0.3087,  0.0793,  0.0050,  0.1719],\n",
      "        [ 0.3093,  0.3287, -0.1478,  0.0904, -0.0662, -0.3463, -0.2529,  0.0079]],\n",
      "       requires_grad=True))\n",
      "('block.linear0.bias', Parameter containing:\n",
      "tensor([-0.1160, -0.2479, -0.2823,  0.2472], requires_grad=True))\n",
      "('block.linear1.weight', Parameter containing:\n",
      "tensor([[-0.4417,  0.4510, -0.0260,  0.1092],\n",
      "        [ 0.0731,  0.2244, -0.0378, -0.1418],\n",
      "        [ 0.2453,  0.2227, -0.4940,  0.2970],\n",
      "        [-0.1999, -0.1075,  0.4751, -0.2717],\n",
      "        [ 0.3096, -0.4388,  0.4208,  0.0597],\n",
      "        [-0.0131,  0.3744,  0.1961,  0.2743]], requires_grad=True))\n",
      "('block.linear1.bias', Parameter containing:\n",
      "tensor([ 0.0844,  0.0587,  0.4626,  0.0628, -0.4054, -0.3762],\n",
      "       requires_grad=True))\n",
      "('block.linear2.weight', Parameter containing:\n",
      "tensor([[ 0.2532, -0.3358, -0.0573,  0.0388,  0.0703, -0.3950],\n",
      "        [-0.3853, -0.1933,  0.2829,  0.2398,  0.1593,  0.0451],\n",
      "        [ 0.2207, -0.0017,  0.2065,  0.0318, -0.3679, -0.2608]],\n",
      "       requires_grad=True))\n",
      "('block.linear2.bias', Parameter containing:\n",
      "tensor([-0.1381,  0.1408,  0.1908], requires_grad=True))\n",
      "('linear.weight', Parameter containing:\n",
      "tensor([[ 0.0337, -0.0758,  0.3907],\n",
      "        [-0.5012,  0.5377,  0.3744],\n",
      "        [ 0.2885,  0.5011, -0.0587],\n",
      "        [ 0.1897,  0.5124,  0.5372]], requires_grad=True))\n",
      "('linear.bias', Parameter containing:\n",
      "tensor([ 0.3536,  0.0507, -0.1309,  0.1275], requires_grad=True))\n"
     ]
    }
   ],
   "source": [
    "for named_param in model2.named_parameters():\n",
    "    print(named_param)"
   ]
  },
  {
   "cell_type": "markdown",
   "id": "7254b056",
   "metadata": {},
   "source": [
    "California Housing 데이터는 입력 피처가 8가지이고 타깃은 주택 가격 1가지입니다. 따라서 California Housing 데이터로 집값 예측 문제를 푼다면 모델의 입력 차원과 출력 차원은 각각 8과 1이 되어야 합니다.\n",
    "\n",
    "이를 반영하여 아래 표에 모델 구조를 정리해 두었어요. 세 레이어는 순차적으로 이어집니다. 표에 나온 대로 `CaliforniaHousingModel` 클래스를 정의해 주세요.\n",
    "\n",
    "| index | 0 | 1 | 2 |\n",
    "| --- | --- | --- | --- |\n",
    "| 레이어 타입 | Linear | Linear | Linear |\n",
    "| 입력 차원 | 8 | 16 | 32 |\n",
    "| 출력 차원 | 16 | 32 | 1 |\n",
    "| 활성화 함수 | ReLU | ReLU | - |\n",
    "\n",
    "### 실습 결과\n",
    "\n",
    "코드 마지막 부분에서 `children()` 메소드 결과를 출력했을 때, 다음과 같이 `Linear` 레이어 3개와 `ReLU` 활성화 함수 1개가 나오면 됩니다."
   ]
  },
  {
   "cell_type": "code",
   "execution_count": 23,
   "id": "0c7e1bbd",
   "metadata": {},
   "outputs": [],
   "source": [
    "from sklearn import datasets\n",
    "import numpy as np\n",
    "\n",
    "cal_housing = datasets.fetch_california_housing()\n",
    "input_data = cal_housing.data.astype(np.float32)\n",
    "target_data = cal_housing.target.astype(np.float32)"
   ]
  },
  {
   "cell_type": "code",
   "execution_count": 24,
   "id": "98cfa5f9",
   "metadata": {},
   "outputs": [],
   "source": [
    "class MyModel(nn.Module):\n",
    "    def __init__(self):\n",
    "        super().__init__()\n",
    "        self.linear0 = nn.Linear(8, 4)\n",
    "        self.linear1 = nn.Linear(4, 6)\n",
    "        self.linear2 = nn.Linear(6, 3)\n",
    "        self.relu = nn.ReLU()\n",
    "\n",
    "    def forward(self, x):\n",
    "        x = self.relu(self.linear0(x))\n",
    "        x = self.relu(self.linear1(x))\n",
    "        y = self.linear2(x)\n",
    "        return y\n",
    "    \n",
    "model = MyModel().to(device='mps')"
   ]
  },
  {
   "cell_type": "code",
   "execution_count": 25,
   "id": "82805d2d",
   "metadata": {},
   "outputs": [
    {
     "name": "stdout",
     "output_type": "stream",
     "text": [
      "Parameter name: linear0.weight, Parameter device: mps:0\n",
      "Parameter name: linear0.bias, Parameter device: mps:0\n",
      "Parameter name: linear1.weight, Parameter device: mps:0\n",
      "Parameter name: linear1.bias, Parameter device: mps:0\n",
      "Parameter name: linear2.weight, Parameter device: mps:0\n",
      "Parameter name: linear2.bias, Parameter device: mps:0\n"
     ]
    }
   ],
   "source": [
    "for name, param in model.named_parameters():\n",
    "    print(f'Parameter name: {name}, Parameter device: {param.device}')"
   ]
  },
  {
   "cell_type": "code",
   "execution_count": 26,
   "id": "66599ff6",
   "metadata": {},
   "outputs": [],
   "source": [
    "import pandas as pd\n",
    "import numpy as np\n",
    "\n",
    "abalone_df = pd.read_csv(\n",
    "\t'https://storage.googleapis.com/download.tensorflow.org/data/abalone_train.csv',\n",
    "    names=['Length', 'Diameter', 'Height', 'Whole weight', 'Shucked weight', 'Viscera weight', 'Shell weight', 'Age' ]\n",
    ")\n",
    "\n",
    "input_data = abalone_df.drop(columns=['Age']).to_numpy().astype(np.float32)\n",
    "target_data = abalone_df['Age'].to_numpy().astype(np.float32)"
   ]
  },
  {
   "cell_type": "code",
   "execution_count": 27,
   "id": "05cb8a52",
   "metadata": {},
   "outputs": [],
   "source": [
    "from torch.utils.data import Dataset, DataLoader\n",
    "from sklearn.preprocessing import StandardScaler\n",
    "\n",
    "class AbaloneDataset(Dataset):\n",
    "\tdef __init__(self, input_data, target_data):\n",
    "\t\tsuper().__init__()\n",
    "\t\tself.input_data = input_data\n",
    "\t\tself.target_data = target_data\n",
    "    \n",
    "\n",
    "\tdef __len__(self):\n",
    "\t\treturn len(self.input_data)\n",
    "\t\n",
    "\tdef __getitem__(self, index):\n",
    "\t\tinput_tensor = torch.tensor(self.input_data[index], dtype=torch.float32)\n",
    "\t\ttarget_tensor = torch.tensor(self.target_data[index], dtype=torch.float32)\n",
    "\t\treturn input_tensor, target_tensor\n",
    "\t\n",
    "# 학습/검증/테스트 데이터 분할\n",
    "train_size = int(0.8 * len(abalone_df))\n",
    "val_size = int(0.1 * len(abalone_df))\n",
    "\n",
    "train_inputs = input_data[:train_size]\n",
    "train_targets = target_data[:train_size]\n",
    "\n",
    "val_inputs = input_data[train_size:train_size + val_size]\n",
    "val_targets = target_data[train_size:train_size + val_size]\n",
    "\n",
    "test_inputs = input_data[train_size + val_size:]\n",
    "test_targets = target_data[train_size + val_size:]\n",
    "\n",
    "# 표준화\n",
    "scaler = StandardScaler()\n",
    "scaler.fit(train_inputs)\n",
    "\n",
    "train_inputs_scaled = scaler.transform(train_inputs)\n",
    "val_inputs_scaled = scaler.transform(val_inputs)\n",
    "test_inputs_scaled = scaler.transform(test_inputs)\n",
    "\n",
    "# 데이터셋 생성\n",
    "train_dataset = AbaloneDataset(train_inputs_scaled, train_targets)\n",
    "val_dataset = AbaloneDataset(val_inputs_scaled, val_targets)\n",
    "test_dataset = AbaloneDataset(test_inputs_scaled, test_targets)\n",
    "\n",
    "# 데이터로더 생성\n",
    "train_loader = DataLoader(train_dataset, batch_size=32, shuffle=True, drop_last=True)\n",
    "val_loader = DataLoader(val_dataset, batch_size=32)\n",
    "test_loader = DataLoader(test_dataset, batch_size=32)\n"
   ]
  },
  {
   "cell_type": "code",
   "execution_count": 39,
   "id": "a8e18b10",
   "metadata": {},
   "outputs": [],
   "source": [
    "class AbaloneModel(nn.Module):\n",
    "\tdef __init__(self):\n",
    "\t\tsuper().__init__()\n",
    "\t\tself.fc1 = nn.Linear(7, 32)\n",
    "\t\tself.fc2 = nn.Linear(32, 16)\n",
    "\t\tself.fc3 = nn.Linear(16, 8)\n",
    "\t\tself.fc4 = nn.Linear(8, 1)\n",
    "\t\tself.dropout = nn.Dropout(0.5) # 얼마나 잘라내고 싶은지\n",
    "\t\tself.relu = nn.ReLU()\n",
    "\n",
    "\tdef forward(self, x):\n",
    "\t\tx = self.relu(self.fc1(x))\n",
    "\t\tx = self.relu(self.fc2(x))\n",
    "\t\tx = self.relu(self.fc3(x))\n",
    "\t\tx = self.dropout(x)\n",
    "\t\ty = self.fc4(x)\n",
    "\t\treturn y\n",
    "\n",
    "model = AbaloneModel().to(device='mps')"
   ]
  },
  {
   "cell_type": "code",
   "execution_count": 40,
   "id": "e9afa7e2",
   "metadata": {},
   "outputs": [
    {
     "name": "stdout",
     "output_type": "stream",
     "text": [
      "epoch 1/10,  val loss: 7.278515165502375\n",
      "step : 100 // train loss : 9.467910766601562\n",
      "epoch 2/10,  val loss: 6.164729183370417\n",
      "step : 200 // train loss : 4.882600784301758\n",
      "epoch 3/10,  val loss: 4.648028720508922\n",
      "step : 300 // train loss : 4.559596538543701\n",
      "epoch 4/10,  val loss: 4.355474797162143\n",
      "step : 400 // train loss : 6.763659477233887\n",
      "epoch 5/10,  val loss: 4.390997734936801\n",
      "epoch 6/10,  val loss: 4.311288833618164\n",
      "step : 500 // train loss : 5.366322040557861\n",
      "epoch 7/10,  val loss: 4.162986538626931\n",
      "step : 600 // train loss : 5.560821533203125\n",
      "epoch 8/10,  val loss: 4.326663190668279\n",
      "step : 700 // train loss : 6.856462478637695\n",
      "epoch 9/10,  val loss: 4.402270252054388\n",
      "step : 800 // train loss : 4.216874122619629\n",
      "epoch 10/10,  val loss: 4.345881722190163\n"
     ]
    }
   ],
   "source": [
    "lr = 0.001\n",
    "epochs = 10\n",
    "momentum = 0.9\n",
    "loss_fn = nn.MSELoss()\n",
    "optimizer = optim.SGD(model.parameters(), lr=lr, momentum=momentum)\n",
    "step = 0\n",
    "\n",
    "\n",
    "for epoch in range(epochs):\n",
    "\tmodel.train()\n",
    "\tfor train_batch in train_loader:\n",
    "\t\tx_train, y_train = train_batch[0].to(device='mps'), train_batch[1].to(device='mps')\n",
    "\t\t\n",
    "\t\tpred = model(x_train).squeeze()\n",
    "\t\tloss = loss_fn(pred, y_train)\n",
    "\t\t\n",
    "\t\tloss.backward()\n",
    "\t\toptimizer.step()\n",
    "\t\toptimizer.zero_grad()\n",
    "\n",
    "\t\tstep += 1\n",
    "\n",
    "\t\tif step % 100 == 0:\n",
    "\t\t\tprint(f'step : {step} // train loss : {loss.item()}')\n",
    "\n",
    "\n",
    "\tmodel.eval()\n",
    "\twith torch.no_grad():\n",
    "\t\tlosses = []\n",
    "\t\tfor val_batch in val_loader:\n",
    "\t\t\tx_val, y_val = val_batch[0].to(device='mps'), val_batch[1].to(device='mps')\n",
    "\t\t\tpred = model(x_val).squeeze()\n",
    "\n",
    "\t\t\tloss = loss_fn(pred, y_val)\n",
    "\t\t\tlosses.append(loss.item())\n",
    "\t\t\n",
    "\t\tavg_loss = sum(losses) / len(losses)\n",
    "\t\tprint(f'epoch {epoch+1}/{epochs},  val loss: {avg_loss}')\n",
    "        "
   ]
  },
  {
   "cell_type": "code",
   "execution_count": 41,
   "id": "f110b26f",
   "metadata": {},
   "outputs": [
    {
     "name": "stdout",
     "output_type": "stream",
     "text": [
      "Test loss: 6.1893157958984375\n"
     ]
    }
   ],
   "source": [
    "# 모델 평가\n",
    "model.eval()\n",
    "with torch.no_grad():\n",
    "\ttest_losses = []\n",
    "\tfor test_batch in test_loader:\n",
    "\t\tx_test, y_test = test_batch[0].to(device='mps'), test_batch[1].to(device='mps')\n",
    "\t\tpred = model(x_test).squeeze()\n",
    "\n",
    "\t\tloss = loss_fn(pred, y_test)\n",
    "\t\ttest_losses.append(loss.item())\n",
    "\t\n",
    "\tavg_test_loss = sum(test_losses) / len(test_losses)\n",
    "\tprint(f'Test loss: {avg_test_loss}')"
   ]
  },
  {
   "cell_type": "code",
   "execution_count": 31,
   "id": "47491441",
   "metadata": {},
   "outputs": [
    {
     "name": "stdout",
     "output_type": "stream",
     "text": [
      "val RMSE : 1.9999386712988279\n",
      "test RMSE : 2.409777653012504\n"
     ]
    }
   ],
   "source": [
    "# RMSE\n",
    "print(f'val RMSE : {np.sqrt(avg_loss)}')\n",
    "print(f'test RMSE : {np.sqrt(avg_test_loss)}')"
   ]
  },
  {
   "cell_type": "code",
   "execution_count": 32,
   "id": "5d2703c8",
   "metadata": {},
   "outputs": [
    {
     "name": "stdout",
     "output_type": "stream",
     "text": [
      "Test loss: 5.807028336958452\n"
     ]
    }
   ],
   "source": [
    "# 모델 평가\n",
    "model.eval()\n",
    "with torch.no_grad():\n",
    "\ttest_losses = []\n",
    "\tpreds = []\n",
    "\ttargets = []\n",
    "\tfor test_batch in test_loader:\n",
    "\t\tx_test, y_test = test_batch[0].to(device='mps'), test_batch[1].to(device='mps')\n",
    "\t\tpred = model(x_test).squeeze()\n",
    "\n",
    "\t\tloss = loss_fn(pred, y_test)\n",
    "\t\ttest_losses.append(loss.item())\n",
    "\n",
    "\t\tpreds.extend(pred.cpu().numpy())\n",
    "\t\ttargets.extend(y_test.cpu().numpy())\n",
    "\t\n",
    "\tavg_test_loss = sum(test_losses) / len(test_losses)\n",
    "\tprint(f'Test loss: {avg_test_loss}')"
   ]
  },
  {
   "cell_type": "code",
   "execution_count": 33,
   "id": "0962e98e",
   "metadata": {},
   "outputs": [
    {
     "data": {
      "image/png": "[encoded data removed]",
      "text/plain": [
       "<Figure size 500x500 with 1 Axes>"
      ]
     },
     "metadata": {},
     "output_type": "display_data"
    }
   ],
   "source": [
    "import matplotlib.pyplot as plt\n",
    "\n",
    "\n",
    "plt.figure(figsize=(5, 5)) \n",
    "plt.scatter(targets, preds, alpha=0.5)\n",
    "plt.plot([min(targets), max(targets)], [min(targets), max(targets)], color='tomato', linestyle='--')\n",
    "plt.xlabel('Actual Age')\n",
    "plt.ylabel('Predicted Age')\n",
    "plt.title('Actual vs Predicted Age')\n",
    "plt.grid()\n",
    "plt.show()"
   ]
  },
  {
   "cell_type": "code",
   "execution_count": 34,
   "id": "539b6709",
   "metadata": {},
   "outputs": [
    {
     "name": "stdout",
     "output_type": "stream",
     "text": [
      "fc1.weight : True\n",
      "fc1.bias : True\n",
      "fc2.weight : True\n",
      "fc2.bias : True\n",
      "fc3.weight : True\n",
      "fc3.bias : True\n",
      "fc4.weight : True\n",
      "fc4.bias : True\n"
     ]
    }
   ],
   "source": [
    "for name, param in model.named_parameters():\n",
    "    print(f'{name} : {param.requires_grad}')"
   ]
  },
  {
   "cell_type": "code",
   "execution_count": 35,
   "id": "02114a3c",
   "metadata": {},
   "outputs": [
    {
     "name": "stdout",
     "output_type": "stream",
     "text": [
      "tensor(3.)\n"
     ]
    }
   ],
   "source": [
    "inputs = torch.tensor([[2.0, 2.0, 2.0]])\n",
    "targets = torch.tensor([[0.0, 0.0, 1.0]])\n",
    "\n",
    "loss_fn = nn.MSELoss()\n",
    "\n",
    "loss = loss_fn(inputs, targets)\n",
    "\n",
    "print(loss)"
   ]
  },
  {
   "cell_type": "code",
   "execution_count": 42,
   "id": "7aa9c3ca",
   "metadata": {},
   "outputs": [
    {
     "name": "stdout",
     "output_type": "stream",
     "text": [
      "tensor(2.9626, device='mps:0', grad_fn=<MseLossBackward0>)\n",
      "tensor(3.2745, device='mps:0', grad_fn=<MseLossBackward0>)\n",
      "tensor(6.7786, device='mps:0', grad_fn=<MseLossBackward0>)\n",
      "tensor(6.1030, device='mps:0', grad_fn=<MseLossBackward0>)\n",
      "tensor(6.3023, device='mps:0', grad_fn=<MseLossBackward0>)\n",
      "tensor(6.8915, device='mps:0', grad_fn=<MseLossBackward0>)\n",
      "tensor(9.7731, device='mps:0', grad_fn=<MseLossBackward0>)\n",
      "tensor(5.0909, device='mps:0', grad_fn=<MseLossBackward0>)\n",
      "tensor(1.7310, device='mps:0', grad_fn=<MseLossBackward0>)\n",
      "tensor(2.8100, device='mps:0', grad_fn=<MseLossBackward0>)\n"
     ]
    }
   ],
   "source": [
    "epochs = 10\n",
    "for epoch in range(epochs):\n",
    "\tfor train_batch in train_loader:\n",
    "\t\tx_train, y_train = train_batch[0].to(device='mps'), train_batch[1].to(device='mps')\n",
    "\t\t\n",
    "\t\tpred = model(x_train).squeeze() # 차원이 1인 차원을 제거해줌\n",
    "\t\tloss = loss_fn(pred, y_train)\n",
    "\t\tprint(loss)\n",
    "\n",
    "\t\tbreak\n"
   ]
  },
  {
   "cell_type": "code",
   "execution_count": 56,
   "id": "87f7ebd6",
   "metadata": {},
   "outputs": [
    {
     "name": "stdout",
     "output_type": "stream",
     "text": [
      "tensor(3.)\n"
     ]
    }
   ],
   "source": [
    "inputs = torch.tensor([[2.0, 2.0, 2.0]])\n",
    "targets = torch.tensor([[0.0, 0.0, 1.0]])\n",
    "\n",
    "loss_fn = nn.MSELoss()\n",
    "loss = loss_fn(inputs, targets)\n",
    "print(loss)"
   ]
  },
  {
   "cell_type": "code",
   "execution_count": 72,
   "id": "981ee518",
   "metadata": {},
   "outputs": [
    {
     "name": "stdout",
     "output_type": "stream",
     "text": [
      "tensor(0.9965)\n"
     ]
    }
   ],
   "source": [
    "inputs = torch.randn(4, 3)\n",
    "targets = torch.tensor([1, 1, 2, 0])\n",
    "\n",
    "loss_fn = nn.CrossEntropyLoss()\n",
    "loss = loss_fn(inputs, targets)\n",
    "print(loss)"
   ]
  },
  {
   "cell_type": "code",
   "execution_count": 68,
   "id": "7600a623",
   "metadata": {},
   "outputs": [
    {
     "name": "stdout",
     "output_type": "stream",
     "text": [
      "tensor(0.5902)\n"
     ]
    }
   ],
   "source": [
    "inputs = torch.randn(4)\n",
    "targets = torch.tensor([1, 1, 0, 0], dtype=torch.float32)\n",
    "\n",
    "loss_fn = nn.BCEWithLogitsLoss()\n",
    "loss = loss_fn(inputs, targets.float())\n",
    "print(loss)"
   ]
  },
  {
   "cell_type": "code",
   "execution_count": 73,
   "id": "9ccd36d1",
   "metadata": {},
   "outputs": [
    {
     "name": "stdout",
     "output_type": "stream",
     "text": [
      "False\n",
      "True\n"
     ]
    }
   ],
   "source": [
    "x = torch.tensor([2.0], requires_grad=False)\n",
    "print(x.requires_grad)\n",
    "\n",
    "x.requires_grad_()\n",
    "print(x.requires_grad)"
   ]
  },
  {
   "cell_type": "code",
   "execution_count": 76,
   "id": "d1b50ec3",
   "metadata": {},
   "outputs": [
    {
     "name": "stdout",
     "output_type": "stream",
     "text": [
      "tensor([8.], grad_fn=<PowBackward0>)\n",
      "tensor([12.])\n"
     ]
    }
   ],
   "source": [
    "# 순전파\n",
    "x = torch.tensor([2.0], requires_grad=True)\n",
    "y = x ** 3\n",
    "print(y)\n",
    "\n",
    "# 역전파\n",
    "y.backward()\n",
    "print(x.grad)"
   ]
  },
  {
   "cell_type": "code",
   "execution_count": 77,
   "id": "48abcee6",
   "metadata": {},
   "outputs": [],
   "source": [
    "epochs = 1\n",
    "for epoch in range(epochs):\n",
    "\tfor train_batch in train_loader:\n",
    "\t\tx_train, y_train = train_batch[0].to(device='mps'), train_batch[1].to(device='mps')\n",
    "\t\t\n",
    "\t\tpred = model(x_train).squeeze()\n",
    "\t\tloss = loss_fn(pred, y_train)\n",
    "\t\tloss.backward()\n",
    "\t\tbreak\n",
    "\t"
   ]
  },
  {
   "cell_type": "code",
   "execution_count": 78,
   "id": "08bf7c4e",
   "metadata": {},
   "outputs": [
    {
     "name": "stdout",
     "output_type": "stream",
     "text": [
      "fc1.weight : True\n",
      "fc1.bias : True\n",
      "fc2.weight : True\n",
      "fc2.bias : True\n",
      "fc3.weight : True\n",
      "fc3.bias : True\n",
      "fc4.weight : True\n",
      "fc4.bias : True\n"
     ]
    }
   ],
   "source": [
    "for name, param in model.named_parameters():\n",
    "    print(f'{name} : {param.requires_grad}')"
   ]
  },
  {
   "cell_type": "code",
   "execution_count": 79,
   "id": "704168bb",
   "metadata": {},
   "outputs": [
    {
     "name": "stdout",
     "output_type": "stream",
     "text": [
      "fc1.weight : tensor([[-4.7284e-01, -6.9584e-01, -2.1698e+00,  9.2911e-01,  4.9281e+00,\n",
      "          3.1954e+00, -5.8247e+00],\n",
      "        [-1.1645e+01, -1.2785e+01, -8.7060e+00, -1.4657e+01, -8.1909e+00,\n",
      "         -1.3845e+01, -1.8841e+01],\n",
      "        [ 3.7834e+00,  3.3795e+00,  2.8578e+00,  4.7241e+00,  5.3704e+00,\n",
      "          5.2313e+00,  3.5616e+00],\n",
      "        [-5.6310e+00, -5.1731e+00, -3.2432e+00, -6.4201e+00, -6.9592e+00,\n",
      "         -6.4935e+00, -5.0665e+00],\n",
      "        [-1.5723e+00, -1.6019e+00, -1.6712e+00, -9.6036e-01, -6.6818e-01,\n",
      "         -9.5957e-01, -1.0948e+00],\n",
      "        [ 8.9655e+00,  1.6190e+00,  1.0682e+01,  4.2202e+00,  2.8850e+01,\n",
      "          6.5673e+00, -1.5866e+01],\n",
      "        [-4.8550e+01, -4.7975e+01, -4.1279e+01, -5.1134e+01, -4.7000e+01,\n",
      "         -4.3511e+01, -5.3185e+01],\n",
      "        [-1.6636e+01, -1.4203e+01, -1.4909e+01, -2.1501e+01, -1.9847e+01,\n",
      "         -1.9956e+01, -2.0989e+01],\n",
      "        [ 1.7748e+01,  1.9774e+01,  2.2571e+01,  8.6310e+00, -2.0866e+01,\n",
      "         -5.8748e+00,  5.3191e+01],\n",
      "        [-2.6732e+01, -1.8450e+01,  2.6908e-01, -5.7291e+01, -1.2902e+02,\n",
      "         -9.1384e+01,  5.5983e+01],\n",
      "        [-1.6482e+01, -1.3971e+01, -1.3246e+01, -2.2322e+01, -2.1035e+01,\n",
      "         -2.0256e+01, -2.1113e+01],\n",
      "        [ 0.0000e+00,  0.0000e+00,  0.0000e+00,  0.0000e+00,  0.0000e+00,\n",
      "          0.0000e+00,  0.0000e+00],\n",
      "        [ 2.4004e+00,  2.1904e+00,  2.0059e+00,  3.0857e+00,  3.5744e+00,\n",
      "          3.4239e+00,  2.1570e+00],\n",
      "        [ 2.3198e+00,  5.9227e-01, -8.7810e+00,  9.9307e+00,  4.3089e+01,\n",
      "          2.5496e+01, -3.8909e+01],\n",
      "        [-5.2345e+00, -5.1146e+00, -3.1828e+00, -6.2201e+00, -6.8260e+00,\n",
      "         -6.9083e+00, -4.5458e+00],\n",
      "        [-2.0389e+00, -1.3502e+00,  2.5076e+00, -6.6955e+00, -1.7732e+01,\n",
      "         -1.4124e+01,  1.3394e+01],\n",
      "        [ 5.4135e+01,  5.8697e+01,  6.6664e+01,  3.2543e+01, -5.2209e+01,\n",
      "         -9.5035e+00,  1.5736e+02],\n",
      "        [-5.3241e+00, -6.0355e+00, -1.0510e+01,  1.8960e-01,  1.3678e+01,\n",
      "          8.0142e+00, -2.2512e+01],\n",
      "        [-4.5007e+00, -3.7672e+00, -3.8218e+00, -6.2954e+00, -8.4647e+00,\n",
      "         -6.4778e+00, -3.7773e+00],\n",
      "        [-2.7200e+01, -2.6953e+01, -2.0193e+01, -2.7473e+01, -2.6598e+01,\n",
      "         -2.4449e+01, -2.9700e+01],\n",
      "        [ 7.8150e+00,  8.9878e+00,  8.2864e+00,  3.6372e+00, -8.7053e+00,\n",
      "         -3.7727e+00,  2.1762e+01],\n",
      "        [-3.3575e+01, -3.3308e+01, -4.6549e+01, -2.8467e+01,  2.3184e+01,\n",
      "         -2.8423e+00, -1.0202e+02],\n",
      "        [-1.5191e+01, -1.4468e+01, -8.3242e+00, -1.3612e+01, -1.1591e+01,\n",
      "         -9.0133e+00, -1.5424e+01],\n",
      "        [-8.7162e+00, -8.3876e+00, -7.0584e+00, -9.9413e+00, -1.0783e+01,\n",
      "         -1.0224e+01, -8.4464e+00],\n",
      "        [-2.9247e+01, -2.7954e+01, -3.2312e+01, -3.3355e+01, -1.9634e+01,\n",
      "         -2.6787e+01, -4.7376e+01],\n",
      "        [ 2.7058e+01,  2.7536e+01,  2.9854e+01,  2.1956e+01, -3.9096e+00,\n",
      "          7.1627e+00,  5.9955e+01],\n",
      "        [-8.9612e+00, -9.1439e+00, -7.8062e+00, -7.0200e+00, -6.6370e+00,\n",
      "         -6.7014e+00, -7.0395e+00],\n",
      "        [ 6.3825e+01,  6.7363e+01,  7.3996e+01,  4.6485e+01, -4.0210e+01,\n",
      "          4.7697e+00,  1.7016e+02],\n",
      "        [-1.7135e+01, -1.6639e+01, -1.4092e+01, -1.8303e+01, -1.7383e+01,\n",
      "         -1.5487e+01, -1.8515e+01],\n",
      "        [ 3.4198e+00,  3.7587e+00,  8.8057e+00,  1.6327e-01, -1.4700e+01,\n",
      "         -9.2739e+00,  2.4787e+01],\n",
      "        [ 2.9788e+00,  2.3572e+00,  2.1794e+00,  4.9802e+00,  5.9789e+00,\n",
      "          5.8347e+00,  3.2777e+00],\n",
      "        [-2.3084e+01, -2.2483e+01, -2.1257e+01, -2.2032e+01, -2.0335e+01,\n",
      "         -2.0753e+01, -2.2954e+01]], device='mps:0')\n",
      "\n",
      "fc1.bias : tensor([-8.9610e+00,  6.5796e+00,  2.6828e+00, -3.7927e+00,  5.8187e-02,\n",
      "         8.7934e+01,  6.2754e+01,  3.2509e+01,  5.0153e+01,  1.0158e+02,\n",
      "         3.4437e+01,  0.0000e+00,  1.7718e+00, -7.2619e+00, -4.0736e+00,\n",
      "         3.6982e+01,  1.1103e+02, -2.8109e+01, -2.6085e+00, -4.3796e+01,\n",
      "         9.0932e+00,  4.9212e+00,  2.4450e+01, -8.1114e+00,  5.8229e+01,\n",
      "         2.2627e+01,  4.3716e+00,  7.1062e+01,  2.1192e+01,  2.7602e+01,\n",
      "         5.4315e+00,  2.6935e+01], device='mps:0')\n",
      "\n",
      "fc2.weight : tensor([[ 0.0000e+00,  0.0000e+00,  0.0000e+00,  0.0000e+00,  0.0000e+00,\n",
      "          0.0000e+00,  0.0000e+00,  0.0000e+00,  0.0000e+00,  0.0000e+00,\n",
      "          0.0000e+00,  0.0000e+00,  0.0000e+00,  0.0000e+00,  0.0000e+00,\n",
      "          0.0000e+00,  0.0000e+00,  0.0000e+00,  0.0000e+00,  0.0000e+00,\n",
      "          0.0000e+00,  0.0000e+00,  0.0000e+00,  0.0000e+00,  0.0000e+00,\n",
      "          0.0000e+00,  0.0000e+00,  0.0000e+00,  0.0000e+00,  0.0000e+00,\n",
      "          0.0000e+00,  0.0000e+00],\n",
      "        [ 2.1155e+01, -3.8697e+00, -1.7836e+00, -1.7092e+00, -2.0532e-02,\n",
      "         -5.2734e+01, -8.1238e+00, -1.0442e+01,  3.7845e+01,  4.2707e+01,\n",
      "         -8.3785e+00,  0.0000e+00, -1.5887e+00, -4.8584e+00, -1.3680e+01,\n",
      "          6.4312e+00,  7.2822e+01,  6.2722e-01, -1.2136e+01, -1.8519e+01,\n",
      "          2.0813e+01, -6.0746e+00, -2.2079e+00, -1.3392e+01, -3.6225e+00,\n",
      "          4.7307e+01, -1.6862e-01,  1.0777e+02, -7.9874e+00,  1.7892e+01,\n",
      "         -1.0587e+00, -2.9185e+00],\n",
      "        [ 0.0000e+00,  0.0000e+00,  0.0000e+00,  0.0000e+00,  0.0000e+00,\n",
      "          0.0000e+00,  0.0000e+00,  0.0000e+00,  0.0000e+00,  0.0000e+00,\n",
      "          0.0000e+00,  0.0000e+00,  0.0000e+00,  0.0000e+00,  0.0000e+00,\n",
      "          0.0000e+00,  0.0000e+00,  0.0000e+00,  0.0000e+00,  0.0000e+00,\n",
      "          0.0000e+00,  0.0000e+00,  0.0000e+00,  0.0000e+00,  0.0000e+00,\n",
      "          0.0000e+00,  0.0000e+00,  0.0000e+00,  0.0000e+00,  0.0000e+00,\n",
      "          0.0000e+00,  0.0000e+00],\n",
      "        [ 4.1641e+01, -6.3121e+00,  0.0000e+00,  5.3473e-03, -6.6275e-02,\n",
      "         -1.2801e+01, -1.5921e+01, -1.9783e+01,  8.4716e+01,  1.2281e+02,\n",
      "         -1.5647e+01,  0.0000e+00, -7.1485e-02,  3.5862e+01, -1.4668e+00,\n",
      "          1.8503e+01,  1.4437e+02,  1.1516e+00,  1.3017e+00,  1.6645e+01,\n",
      "          4.2390e+01, -5.6878e+00, -2.5329e+00, -2.6314e+00,  4.4515e+00,\n",
      "          9.4731e+01, -3.5532e-01,  2.1614e+02, -1.5551e+01,  3.5430e+01,\n",
      "         -5.4039e-01, -5.8125e+00],\n",
      "        [-8.2224e+00,  6.7157e-01,  6.9318e-01,  6.6426e-01, -1.6198e-01,\n",
      "          1.5770e+01, -6.5175e+00, -2.9421e+00, -2.0433e+01, -1.6599e+01,\n",
      "         -1.1520e+00,  0.0000e+00,  5.0262e-01, -1.5124e+00,  5.2316e+00,\n",
      "         -1.1139e+01, -3.5125e+01, -5.7207e-01,  4.7166e+00,  6.8645e+00,\n",
      "         -9.8404e+00, -7.3352e+00, -8.2196e-01,  5.2045e+00, -1.1476e+01,\n",
      "         -2.0821e+01, -6.6001e-01, -4.7421e+01, -4.5336e+00, -1.3392e+01,\n",
      "         -4.8046e-01, -3.4176e+00],\n",
      "        [ 0.0000e+00,  0.0000e+00,  0.0000e+00,  0.0000e+00,  0.0000e+00,\n",
      "          0.0000e+00,  0.0000e+00,  0.0000e+00,  0.0000e+00,  0.0000e+00,\n",
      "          0.0000e+00,  0.0000e+00,  0.0000e+00,  0.0000e+00,  0.0000e+00,\n",
      "          0.0000e+00,  0.0000e+00,  0.0000e+00,  0.0000e+00,  0.0000e+00,\n",
      "          0.0000e+00,  0.0000e+00,  0.0000e+00,  0.0000e+00,  0.0000e+00,\n",
      "          0.0000e+00,  0.0000e+00,  0.0000e+00,  0.0000e+00,  0.0000e+00,\n",
      "          0.0000e+00,  0.0000e+00],\n",
      "        [ 1.1496e+01, -2.6133e+00,  0.0000e+00,  1.4763e-03, -1.3217e-01,\n",
      "         -6.6247e+00, -1.3475e+01, -1.2428e+01,  1.8278e+01,  3.3136e+01,\n",
      "         -8.8798e+00,  0.0000e+00, -9.5527e-02,  7.0724e+00, -4.0495e-01,\n",
      "         -2.6433e+00,  3.2890e+01,  1.5115e-01,  2.3666e-01,  3.7344e+00,\n",
      "          9.7909e+00, -1.0195e+01, -2.3110e+00, -7.6744e-01, -1.0094e+01,\n",
      "          2.3152e+01, -7.2434e-01,  5.3581e+01, -1.1841e+01,  3.3047e+00,\n",
      "         -8.8914e-01, -5.7875e+00],\n",
      "        [ 0.0000e+00,  0.0000e+00,  0.0000e+00,  0.0000e+00,  2.6150e-02,\n",
      "          0.0000e+00,  1.1667e+00,  6.6576e-01,  3.9559e-01,  0.0000e+00,\n",
      "          3.7039e-01,  0.0000e+00,  1.7684e-02,  8.3984e-03,  0.0000e+00,\n",
      "          6.6429e-01,  6.3110e-01,  5.1484e-02,  0.0000e+00,  0.0000e+00,\n",
      "          1.7381e-01,  7.5612e-01,  2.1344e-01,  0.0000e+00,  9.8621e-01,\n",
      "          1.5751e-01,  1.0907e-01,  4.1397e-01,  8.6440e-01,  6.4325e-01,\n",
      "          1.3462e-01,  5.9723e-01],\n",
      "        [ 5.3992e+00,  2.1448e-01,  0.0000e+00,  0.0000e+00,  2.1479e-01,\n",
      "          2.3473e+00,  1.0427e+01,  6.3519e+00,  1.6619e+01,  1.2747e+01,\n",
      "          3.7523e+00,  0.0000e+00,  1.4180e-01,  6.4747e+00,  1.4901e-01,\n",
      "          1.3386e+01,  2.5880e+01,  5.8913e-01, -3.2244e-01,  4.8591e-01,\n",
      "          7.0641e+00,  1.1626e+01,  1.8116e+00, -3.2563e-01,  1.6743e+01,\n",
      "          1.3997e+01,  8.8564e-01,  3.2149e+01,  7.8706e+00,  1.2867e+01,\n",
      "          1.0794e+00,  5.2825e+00],\n",
      "        [ 1.7156e+01, -3.6204e+00, -1.4476e+00, -1.3872e+00, -2.2872e-01,\n",
      "         -3.8508e+01, -1.7505e+01, -1.5930e+01,  2.7689e+01,  3.4622e+01,\n",
      "         -1.1377e+01,  0.0000e+00, -1.4331e+00, -2.2245e+00, -1.1102e+01,\n",
      "         -1.0933e+00,  5.1775e+01,  7.7918e-02, -9.8504e+00, -1.4118e+01,\n",
      "          1.4919e+01, -1.2124e+01, -3.7015e+00, -1.0868e+01, -1.2013e+01,\n",
      "          3.5977e+01, -9.8646e-01,  8.2500e+01, -1.5182e+01,  7.2651e+00,\n",
      "         -1.9155e+00, -7.6468e+00],\n",
      "        [ 0.0000e+00, -1.8291e-02,  1.5672e-01,  7.4548e-02,  0.0000e+00,\n",
      "          2.0372e+00, -7.2225e-03, -1.6694e-02, -5.0232e-01,  6.9960e-01,\n",
      "         -2.1420e-02,  0.0000e+00,  1.3637e-01,  4.4481e-01,  1.0006e+00,\n",
      "         -2.0477e-01, -6.6754e-01,  0.0000e+00,  8.9221e-01,  1.3714e+00,\n",
      "         -1.7232e-01, -2.1417e-01,  8.6707e-02,  1.0584e+00, -2.3251e-01,\n",
      "         -5.3480e-01,  0.0000e+00, -1.1331e+00,  0.0000e+00,  0.0000e+00,\n",
      "          6.2679e-02, -4.3204e-03],\n",
      "        [ 0.0000e+00,  9.9411e+00,  3.4098e+00,  3.2727e+00,  5.3860e-01,\n",
      "          1.3386e+02,  4.3223e+01,  3.9852e+01,  4.8290e+01,  4.3076e+01,\n",
      "          2.7917e+01,  0.0000e+00,  3.3755e+00,  7.7296e+01,  2.7115e+01,\n",
      "          5.8820e+01,  4.1403e+01,  1.1358e+00,  2.6982e+01,  5.6667e+01,\n",
      "          1.1319e+01,  6.5176e+01,  8.7049e+00,  2.5631e+01,  9.1520e+01,\n",
      "          2.0221e+01,  2.3230e+00,  4.3820e+01,  3.5892e+01,  3.3997e+01,\n",
      "          4.5148e+00,  1.8199e+01],\n",
      "        [ 0.0000e+00,  0.0000e+00,  0.0000e+00,  0.0000e+00,  0.0000e+00,\n",
      "          0.0000e+00,  0.0000e+00,  0.0000e+00,  0.0000e+00,  0.0000e+00,\n",
      "          0.0000e+00,  0.0000e+00,  0.0000e+00,  0.0000e+00,  0.0000e+00,\n",
      "          0.0000e+00,  0.0000e+00,  0.0000e+00,  0.0000e+00,  0.0000e+00,\n",
      "          0.0000e+00,  0.0000e+00,  0.0000e+00,  0.0000e+00,  0.0000e+00,\n",
      "          0.0000e+00,  0.0000e+00,  0.0000e+00,  0.0000e+00,  0.0000e+00,\n",
      "          0.0000e+00,  0.0000e+00],\n",
      "        [ 0.0000e+00,  0.0000e+00, -3.6998e-03, -1.5669e-02,  0.0000e+00,\n",
      "         -2.2651e-01,  0.0000e+00,  0.0000e+00,  1.3066e-04, -1.6163e-01,\n",
      "          0.0000e+00,  0.0000e+00,  0.0000e+00, -1.0108e-01, -1.1336e-01,\n",
      "          0.0000e+00,  2.8524e-05,  0.0000e+00, -1.2979e-01, -1.8620e-01,\n",
      "         -8.5692e-03,  0.0000e+00,  0.0000e+00, -9.5046e-02,  0.0000e+00,\n",
      "          0.0000e+00,  0.0000e+00,  2.8353e-04,  0.0000e+00,  0.0000e+00,\n",
      "         -1.2847e-02,  0.0000e+00],\n",
      "        [ 0.0000e+00,  4.2513e-01,  0.0000e+00,  0.0000e+00,  0.0000e+00,\n",
      "          4.4451e+00,  2.7364e-01,  5.6300e-01,  1.6598e+00,  1.4447e-01,\n",
      "          5.0255e-01,  0.0000e+00,  0.0000e+00,  2.6943e+00,  1.3397e-01,\n",
      "          1.9659e+00,  7.1665e-01,  0.0000e+00,  1.7678e-02,  5.8809e-01,\n",
      "          2.2093e-01,  2.2723e+00,  1.5915e-01,  1.7959e-02,  3.1967e+00,\n",
      "          4.8882e-01,  0.0000e+00,  9.7610e-01,  5.1694e-02,  4.7458e-01,\n",
      "          0.0000e+00,  3.5106e-02],\n",
      "        [ 1.4999e+01, -3.5108e+00,  0.0000e+00, -2.9153e-01, -2.2925e-01,\n",
      "         -2.0758e+01, -1.6715e+01, -1.5108e+01,  2.2224e+01,  3.8394e+01,\n",
      "         -1.0803e+01,  0.0000e+00, -1.6464e-01,  2.5025e+00, -2.7443e+00,\n",
      "         -2.9751e+00,  4.4051e+01,  1.0472e-02, -1.8215e+00, -1.6437e+00,\n",
      "          1.3102e+01, -1.2822e+01, -2.8708e+00, -2.9255e+00, -1.3951e+01,\n",
      "          3.0900e+01, -9.8460e-01,  7.0531e+01, -1.4359e+01,  5.4779e+00,\n",
      "         -1.2520e+00, -7.3568e+00]], device='mps:0')\n",
      "\n",
      "fc2.bias : tensor([ 0.0000e+00,  2.9027e+01,  0.0000e+00,  1.4660e+02, -2.5813e+01,\n",
      "         0.0000e+00,  2.7579e+01,  7.4213e-01,  3.2632e+01,  1.9736e+01,\n",
      "         1.0023e+00,  1.9882e+02,  0.0000e+00, -1.8604e-01,  6.4913e+00,\n",
      "         2.4734e+01], device='mps:0')\n",
      "\n",
      "fc3.weight : tensor([[ 0.0000e+00,  9.8968e+01,  0.0000e+00,  1.7450e+02, -4.2699e+00,\n",
      "          0.0000e+00,  6.1245e+01,  0.0000e+00,  2.0818e+01,  6.1378e+01,\n",
      "         -2.6419e+00, -4.1932e+01,  0.0000e+00, -4.4081e-02, -3.0557e+00,\n",
      "          8.2315e+01],\n",
      "        [ 0.0000e+00, -3.3292e-02,  0.0000e+00,  0.0000e+00, -3.6413e-02,\n",
      "          0.0000e+00,  0.0000e+00,  0.0000e+00,  0.0000e+00, -4.7657e-02,\n",
      "         -9.0574e-03, -3.2611e-02,  0.0000e+00, -2.9650e-04,  0.0000e+00,\n",
      "         -2.2698e-03],\n",
      "        [ 0.0000e+00,  0.0000e+00,  0.0000e+00,  0.0000e+00,  0.0000e+00,\n",
      "          0.0000e+00,  0.0000e+00,  0.0000e+00,  0.0000e+00,  0.0000e+00,\n",
      "          0.0000e+00,  0.0000e+00,  0.0000e+00,  0.0000e+00,  0.0000e+00,\n",
      "          0.0000e+00],\n",
      "        [ 0.0000e+00,  0.0000e+00,  0.0000e+00,  0.0000e+00,  0.0000e+00,\n",
      "          0.0000e+00,  0.0000e+00,  0.0000e+00,  0.0000e+00,  0.0000e+00,\n",
      "          0.0000e+00,  0.0000e+00,  0.0000e+00,  0.0000e+00,  0.0000e+00,\n",
      "          0.0000e+00],\n",
      "        [ 0.0000e+00,  1.0367e+02,  0.0000e+00,  1.8240e+02, -8.5828e+00,\n",
      "          0.0000e+00,  6.3669e+01,  0.0000e+00,  2.1491e+01,  6.4075e+01,\n",
      "         -2.8880e+00, -6.3543e+01,  0.0000e+00, -4.6280e-02, -4.6959e+00,\n",
      "          8.6184e+01],\n",
      "        [ 0.0000e+00,  9.3161e+01,  0.0000e+00,  1.6426e+02, -4.0193e+00,\n",
      "          0.0000e+00,  5.7651e+01,  0.0000e+00,  1.9597e+01,  5.7776e+01,\n",
      "         -2.4869e+00, -3.9471e+01,  0.0000e+00, -4.1495e-02, -2.8764e+00,\n",
      "          7.7485e+01],\n",
      "        [ 0.0000e+00,  7.9081e+00,  0.0000e+00,  2.4692e+01,  1.5158e+01,\n",
      "          0.0000e+00,  1.0357e+01,  1.4312e+00,  1.0650e+01,  1.0286e+01,\n",
      "          4.9457e-01,  1.4181e+02,  0.0000e+00,  0.0000e+00,  3.7819e+00,\n",
      "          9.2486e+00],\n",
      "        [ 0.0000e+00,  1.2187e+02,  0.0000e+00,  2.1488e+02, -5.2580e+00,\n",
      "          0.0000e+00,  7.5419e+01,  0.0000e+00,  2.5636e+01,  7.5582e+01,\n",
      "         -3.2533e+00, -5.1636e+01,  0.0000e+00, -5.4283e-02, -3.7628e+00,\n",
      "          1.0136e+02]], device='mps:0')\n",
      "\n",
      "fc3.bias : tensor([33.9052, -0.1664,  0.0000,  0.0000, 19.2869, 31.9156, 81.2879, 41.7517],\n",
      "       device='mps:0')\n",
      "\n",
      "fc4.weight : tensor([[340.7761,  -1.0261,   0.0000,   0.0000, 291.7965, 227.3573, -67.3997,\n",
      "         342.6486]], device='mps:0')\n",
      "\n",
      "fc4.bias : tensor([-3.0518e-05], device='mps:0')\n",
      "\n"
     ]
    }
   ],
   "source": [
    "for name, param in model.named_parameters():\n",
    "    print(f'{name} : {param.grad}\\n')\n",
    "    "
   ]
  },
  {
   "cell_type": "code",
   "execution_count": 81,
   "id": "9417e3e3",
   "metadata": {},
   "outputs": [
    {
     "name": "stdout",
     "output_type": "stream",
     "text": [
      "False\n",
      "True\n"
     ]
    }
   ],
   "source": [
    "x1 = torch.tensor([2.0])\n",
    "x2 = torch.tensor([2.0], requires_grad=True)\n",
    "\n",
    "print(x1.requires_grad)\n",
    "print(x2.requires_grad)"
   ]
  },
  {
   "cell_type": "code",
   "execution_count": 82,
   "id": "4ee145a2",
   "metadata": {},
   "outputs": [
    {
     "name": "stdout",
     "output_type": "stream",
     "text": [
      "tensor([8.], grad_fn=<PowBackward0>)\n",
      "tensor([8.])\n"
     ]
    }
   ],
   "source": [
    "x = torch.tensor([2.0], requires_grad=True)\n",
    "\n",
    "y1 = x ** 3\n",
    "print(y1)\n",
    "\n",
    "with torch.no_grad():\n",
    "    y2 = x ** 3\n",
    "    print(y2)\n"
   ]
  },
  {
   "cell_type": "code",
   "execution_count": null,
   "id": "542a429b",
   "metadata": {},
   "outputs": [],
   "source": []
  }
 ],
 "metadata": {
  "kernelspec": {
   "display_name": "myvenv",
   "language": "python",
   "name": "python3"
  },
  "language_info": {
   "codemirror_mode": {
    "name": "ipython",
    "version": 3
   },
   "file_extension": ".py",
   "mimetype": "text/x-python",
   "name": "python",
   "nbconvert_exporter": "python",
   "pygments_lexer": "ipython3",
   "version": "3.9.6"
  }
 },
 "nbformat": 4,
 "nbformat_minor": 5
}
