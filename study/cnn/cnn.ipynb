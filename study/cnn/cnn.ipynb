{
 "cells": [
  {
   "cell_type": "code",
   "execution_count": 12,
   "id": "d360da67",
   "metadata": {},
   "outputs": [],
   "source": [
    "import torch\n",
    "import torch.nn as nn # 신경망 계층·활성화·손실 함수 모듈\n",
    "import torch.optim as optim # SGD, Adam 등 최적화 알고리즘 모듈\n",
    "from torch.utils.data import DataLoader # 미니배치·셔플·병렬 로딩을 돕는 데이터 로더\n",
    "from torchvision import datasets, transforms  # 예제 데이터셋(MNIST 등)과 이미지 전처리 툴\n",
    "\n",
    "from PIL import Image, ImageOps # 이미지 모듈\n",
    "\n",
    "import numpy as np # 수치 연산을 위한 NumPy\n",
    "import matplotlib.pyplot as plt # 시각화 도구"
   ]
  },
  {
   "cell_type": "code",
   "execution_count": 13,
   "id": "b166bd52",
   "metadata": {},
   "outputs": [
    {
     "name": "stdout",
     "output_type": "stream",
     "text": [
      "지금 실행중인 하드웨어 장치 : mps\n"
     ]
    }
   ],
   "source": [
    "# window\n",
    "# device = torch.device('cuda' if torch.cuda.is_available() else 'cpu') # 내 장치가 GPU 인지 CPU 인지 확인\n",
    "\n",
    "# mac\n",
    "device = torch.device('mps' if torch.backends.mps.is_available() else 'cpu') # 내 장치가 GPU 인지 CPU 인지 확인\n",
    "\n",
    "print(f\"지금 실행중인 하드웨어 장치 : {device}\")"
   ]
  },
  {
   "cell_type": "code",
   "execution_count": 14,
   "id": "f573846c",
   "metadata": {},
   "outputs": [],
   "source": [
    "transform = transforms.Compose([\n",
    "    transforms.ToTensor(),         # PIL → FloatTensor (0~1)\n",
    "    transforms.Resize((28, 28)),  # 이미지 크기 조정\n",
    "    transforms.Normalize(mean=(0.5,), std=(0.5,))   # μ, σ = MNIST 통계\n",
    "])"
   ]
  },
  {
   "cell_type": "code",
   "execution_count": 15,
   "id": "61a47673",
   "metadata": {},
   "outputs": [],
   "source": [
    "# root 위치에 train dataset을 저장해라. 불러올때 transform을 적용해서 불러와라\n",
    "train_dataset = datasets.MNIST(root='.', train=True, download=True, transform=transform)\n",
    "# root 위치에 test dataset을 저장해라. 불러올때 transform을 적용해서 불러와라\n",
    "test_datset = datasets.MNIST(root='.', train=False, download=True, transform=transform)\n",
    "\n",
    "train_loader = DataLoader(train_dataset, batch_size=64, shuffle=True)\n",
    "test_loader = DataLoader(test_datset, batch_size=500, shuffle=False)"
   ]
  },
  {
   "cell_type": "code",
   "execution_count": null,
   "id": "aec5d920",
   "metadata": {},
   "outputs": [],
   "source": [
    "class SmallCNN(nn.Module):\n",
    "\tdef __init__(self):\n",
    "\t\tsuper(SmallCNN, self).__init__()\n",
    "\t\tself.conv1 = nn.Conv2d(in_channels=1, out_channels=32, kernel_size=3, padding=1) # 28 x 28 -> 28 x 28\n",
    "\t\tself.conv2 = nn.Conv2d(32, 64, kernel_size=3, padding=1) # 28 x 28 --> 28 x 28\n",
    "\t\tself.pool = nn.MaxPool2d(kernel_size=2, stride=2) # 28 x 28 x 64 --> 14 x 14 x 64\n",
    "\t\tself.fc1 = nn.Linear(64*14*14, 64)\n",
    "\t\tself.fc2 = nn.Linear(64, 10) # 10 = MNIST의 클래스 개수 (0~9)\n",
    "\n",
    "\tdef forward(self, x):\n",
    "\t\tx = torch.relu(self.conv1(x))\n",
    "\t\tx = torch.relu(self.conv2(x))\n",
    "\t\tx = self.pool(x)\n",
    "\t\tx = x.view(x.size(0),-1) # Flatten the tensor\n",
    "\t\tx = torch.relu(self.fc1(x))\n",
    "\t\tx = self.fc2(x)\n",
    "\t\treturn x\n"
   ]
  },
  {
   "cell_type": "code",
   "execution_count": 17,
   "id": "869cf273",
   "metadata": {},
   "outputs": [],
   "source": [
    "model = SmallCNN().to(device)  # 모델을 GPU로 이동\n",
    "criterion = nn.CrossEntropyLoss()\n",
    "optimizer = optim.SGD(model.parameters(), lr=0.01, momentum=0.9)"
   ]
  },
  {
   "cell_type": "code",
   "execution_count": 18,
   "id": "30d6df2e",
   "metadata": {},
   "outputs": [],
   "source": [
    "def train_one_epoch(epoch):\n",
    "\tmodel.train()\n",
    "\trunning_loss = 0.0\n",
    "\tfor x, y in train_loader: # (b,c,h,w)\n",
    "\t\tx, y = x.to(device), y.to(device) # 데이터를 GPU로 옮김\n",
    "\t\toptimizer.zero_grad() # 기울기 초기화\n",
    "\n",
    "\t\tlogits = model(x) # Logit(로짓) 함수는 0에서 1까지의 확률값과 -∞에서 ∞ 사이의 확률값을 표현해주는 함수\n",
    "\t\tloss = criterion(logits, y)\n",
    "\t\tloss.backward()\n",
    "\t\toptimizer.step()\n",
    "\n",
    "\t\trunning_loss += loss.item() * x.size(0)\n",
    "\n",
    "\tave_loss = running_loss / len(train_loader.dataset)\n",
    "\tprint(f\"Epoch {epoch} | 평균손실 = {ave_loss}\")\n",
    "\n",
    "\n",
    "@torch.no_grad() # 평가 시에는 기울기 계산을 하지 않음\n",
    "def evaluate():\n",
    "\tmodel.eval() # 평가 모드로 전환\n",
    "\tcorrect = 0\n",
    "\ttotal = 0\n",
    "\tfor x, y in test_loader:\n",
    "\t\tx, y = x.to(device), y.to(device)\n",
    "\n",
    "\t\tpred = model(x).argmax(dim=1) # 예측값\n",
    "\t\tcorrect += (pred == y).sum().item() # 정답과 예측값 비교\n",
    "\t\ttotal += y.size(0)\n",
    "\n",
    "\t# 전체 데이터셋에 대한 정확도 계산\n",
    "\taccuracy = correct / total * 100\n",
    "\tprint(f\"테스트 정확도 = {accuracy:.2f}%\")"
   ]
  },
  {
   "cell_type": "code",
   "execution_count": 19,
   "id": "961b505b",
   "metadata": {},
   "outputs": [
    {
     "name": "stdout",
     "output_type": "stream",
     "text": [
      "Epoch 0 | 평균손실 = 0.23675257961203655\n",
      "Epoch 1 | 평균손실 = 0.054511998914678894\n",
      "Epoch 2 | 평균손실 = 0.03665350314745058\n",
      "Epoch 3 | 평균손실 = 0.028620650107910237\n",
      "Epoch 4 | 평균손실 = 0.020981221137630443\n",
      "Epoch 5 | 평균손실 = 0.016876443104539066\n",
      "Epoch 6 | 평균손실 = 0.012443367032318686\n",
      "Epoch 7 | 평균손실 = 0.009220478794083465\n",
      "Epoch 8 | 평균손실 = 0.006985700474110975\n",
      "Epoch 9 | 평균손실 = 0.0045400650400028095\n"
     ]
    }
   ],
   "source": [
    "for epoch in range(10):\n",
    "\ttrain_one_epoch(epoch)"
   ]
  },
  {
   "cell_type": "code",
   "execution_count": 20,
   "id": "ce48c32c",
   "metadata": {},
   "outputs": [
    {
     "name": "stdout",
     "output_type": "stream",
     "text": [
      "테스트 정확도 = 98.84%\n"
     ]
    }
   ],
   "source": [
    "evaluate()  # 평가 함수 호출"
   ]
  },
  {
   "cell_type": "code",
   "execution_count": null,
   "id": "fe14f459",
   "metadata": {},
   "outputs": [
    {
     "data": {
      "image/png": "[encoded data removed]",
      "text/plain": [
       "<Figure size 600x600 with 16 Axes>"
      ]
     },
     "metadata": {},
     "output_type": "display_data"
    }
   ],
   "source": [
    "model.eval()  # 평가 모드로 전환\n",
    "samples, _= next(iter(test_loader))  # 테스트 데이터셋에서 첫 번째 배치 가져오기\n",
    "samples = samples[:16].to(device)  # GPU로 이동\n",
    "\n",
    "with torch.no_grad():\n",
    "\tpreds = model(samples).argmax(dim=1).cpu().numpy()  # 예측값을 CPU로 이동하고 NumPy 배열로 변환\n",
    "\n",
    "fig, axes = plt.subplots(4, 4, figsize=(6, 6))\n",
    "for ax, img, pred in zip(axes.flat, samples.cpu(), preds):\n",
    "\tax.imshow(img.squeeze(), cmap='gray')  # 이미지 표시\n",
    "\tax.set_title(f\"Pred: {pred}\")  # 예측값 표시\n",
    "\tax.axis('off')  # 축 제거\n",
    "\n",
    "plt.tight_layout()\n",
    "plt.show()  # 이미지 출력"
   ]
  },
  {
   "cell_type": "code",
   "execution_count": 22,
   "id": "4a6cc635",
   "metadata": {},
   "outputs": [
    {
     "data": {
      "image/png": "[encoded data removed]",
      "text/plain": [
       "<Figure size 640x480 with 1 Axes>"
      ]
     },
     "metadata": {},
     "output_type": "display_data"
    }
   ],
   "source": [
    "def predict_image(image_path):\n",
    "\t# 이미지 파일을 열고 흑백(L)으로 변환\n",
    "\timage = Image.open(image_path).convert(\"L\")\n",
    "\n",
    "\t# 색상 반전 (MNIST와 유사하게 만들기 위함)\n",
    "\timage = ImageOps.invert(image)\n",
    "\n",
    "\t# 28x28 크기로 리사이즈 (MNIST 입력 크기와 맞춤)\n",
    "\timage = image.resize((28, 28))\n",
    "\n",
    "\t# 시각화를 위한 numpy 배열로 변환 및 정규화\n",
    "\timg_array = np.array(image) / 255.0\n",
    "\timg_array = img_array.reshape(1, 28, 28, 1)\n",
    "\n",
    "\t# 모델 입력을 위한 전처리 (transform 적용 후 배치 차원 추가, device로 이동)\n",
    "\timage = transform(image).unsqueeze(0).to(device)\n",
    "\n",
    "\t# 모델을 평가 모드로 전환 후 예측 수행\n",
    "\tmodel.eval()\n",
    "\twith torch.no_grad():\n",
    "\t\toutput = model(image).to(device)\n",
    "\t\tprediction = torch.argmax(output, dim=1).cpu().item()\n",
    "\n",
    "\t# 예측 결과 시각화\n",
    "\tplt.imshow(img_array.squeeze(), cmap='gray')\n",
    "\tplt.title(\"Predicted: {}\".format(prediction))\n",
    "\tplt.axis('off')\n",
    "\tplt.show()\n",
    "\n",
    "predict_image('test.png')"
   ]
  }
 ],
 "metadata": {
  "kernelspec": {
   "display_name": "myvenv",
   "language": "python",
   "name": "python3"
  },
  "language_info": {
   "codemirror_mode": {
    "name": "ipython",
    "version": 3
   },
   "file_extension": ".py",
   "mimetype": "text/x-python",
   "name": "python",
   "nbconvert_exporter": "python",
   "pygments_lexer": "ipython3",
   "version": "3.9.6"
  }
 },
 "nbformat": 4,
 "nbformat_minor": 5
}
