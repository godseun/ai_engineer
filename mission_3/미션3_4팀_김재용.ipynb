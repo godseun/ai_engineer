{
  "cells": [
    {
      "cell_type": "markdown",
      "metadata": {
        "id": "OxLOcTskh8Fd"
      },
      "source": [
        "# <h1><center>CodeIT AI Engineer 3기 Mission 3</center></h1>\n"
      ]
    },
    {
      "cell_type": "markdown",
      "metadata": {
        "id": "MipctZ5dh-_4"
      },
      "source": [
        "\n",
        "### 문제\n",
        "여러분이 자전거 대여 시스템의 운영 담당자라고 상상해 보세요.\n",
        "<br />\n",
        "여러분의 목표는 자전거 대여 패턴을 분석하여 자전거 배치 및 운영 전략을 최적화하고, 대여 수요를 정확히 예측하는 것입니다. 이를 통해 대여 시스템의 효율성을 높이고 사용자 만족도를 증가시키는 방법을 찾는 것이 이번 미션의 핵심입니다.\n",
        "\n",
        "\n",
        "이번 미션의 최종 목표는 RMSLE (Root Mean Squared Logarithmic Error)를 최대한 낮추는 것입니다. 다양한 머신러닝 모델과 전략을 실험하여 가장 정확한 수요 예측 모델을 개발하고, 그 결과를 보고서에 담아 보세요!\n",
        "\n",
        "<br />\n",
        "\n",
        "---\n",
        "\n"
      ]
    },
    {
      "cell_type": "markdown",
      "metadata": {
        "id": "wOctZaFdiBQn"
      },
      "source": [
        "\n",
        "### 목표\n",
        "\n",
        "자전거 대여의 수요 예측을 통해 시스템의 효율성을 향상시키고, 사용자 만족도를 끌어올릴 방법을 찾기위해 자전거 대여 패턴을 분석하여 자전거 배치 및 운영 전략을 최적화 해보자.\n",
        "\n",
        "<br />\n",
        "\n",
        "---\n"
      ]
    },
    {
      "cell_type": "markdown",
      "metadata": {
        "id": "blzBbRNDiCzz"
      },
      "source": [
        "\n",
        "### 데이터 SET\n",
        "<br />\n",
        "\n",
        "|컬럼명|컬럼타입|설명|\n",
        "|---|---|---|\n",
        "|datetime|datetime|자전거 대여 기록의 날짜 및 시간. 예시: 2011-01-01 00:00:00|\n",
        "|season|int|계절 (1: 봄, 2: 여름, 3: 가을, 4: 겨울)|\n",
        "|holiday|int|공휴일 여부 (0: 평일, 1: 공휴일)|\n",
        "|workingday|int|근무일 여부 (0: 주말/공휴일, 1: 근무일)|\n",
        "|weather|int|날씨 상황 (1: 맑음, 2: 구름낌/안개, 3: 약간의 비/눈, 4: 폭우/폭설)|\n",
        "|temp|float|실측 온도 (섭씨)|\n",
        "|atemp|float|체감 온도 (섭씨)|\n",
        "|humidity|int|습도 (%)|\n",
        "|windspeed|float|풍속 (m/s)|\n",
        "|casual|int|등록되지 않은 사용자의 대여 수|\n",
        "|registered|int|등록된 사용자의 대여 수|\n",
        "|count|int|총 대여 수 (종속 변수)|\n",
        "\n",
        "\n",
        "- train.csv 파일에는 count 컬럼이 포함되어 있으며, 예측 대상인 종속 변수입니다.\n",
        "- test.csv 파일에는 casual, registered, count 컬럼이 포함되어 있지 않습니다.\n",
        "casual과 registered는 자전거 대여 수요를 예측하는데 참고하실만한 자료이며, count는 두 컬럼간의 합입니다."
      ]
    },
    {
      "cell_type": "code",
      "execution_count": 1,
      "metadata": {
        "colab": {
          "base_uri": "https://localhost:8080/"
        },
        "id": "mW1qFbyuh317",
        "outputId": "9d2245aa-88f9-4dcd-dd8f-a71924d98e62"
      },
      "outputs": [],
      "source": [
        "import pandas as pd\n",
        "import matplotlib.pyplot as plt\n",
        "import seaborn as sns\n",
        "import numpy as np\n",
        "import warnings\n",
        "warnings.filterwarnings('ignore')\n",
        "\n",
        "from matplotlib import rc  ### 이 줄과\n",
        "rc('font', family='AppleGothic') \t\t\t## 이 두 줄을 \n",
        "plt.rcParams['axes.unicode_minus'] = False  ## 추가해줍니다. \n",
        "pd.set_option('future.no_silent_downcasting', True)"
      ]
    },
    {
      "cell_type": "code",
      "execution_count": 2,
      "metadata": {
        "id": "L8sE_2QdiKpY"
      },
      "outputs": [],
      "source": [
        "# read dataset\n",
        "train_df = pd.read_csv(\"./train.csv\")\n",
        "test_df = pd.read_csv(\"./test.csv\")"
      ]
    },
    {
      "cell_type": "markdown",
      "metadata": {
        "id": "T0RoibuQiNlA"
      },
      "source": [
        "## 1. 데이터 탐색"
      ]
    },
    {
      "cell_type": "markdown",
      "metadata": {
        "id": "RdUXcUMhiR7W"
      },
      "source": [
        "### 데이터 확인"
      ]
    },
    {
      "cell_type": "code",
      "execution_count": 3,
      "metadata": {
        "colab": {
          "base_uri": "https://localhost:8080/",
          "height": 417
        },
        "id": "uzPtL_w2iUea",
        "outputId": "1df844a8-da35-435f-b38e-e4f508b765dd"
      },
      "outputs": [
        {
          "name": "stdout",
          "output_type": "stream",
          "text": [
            "(10886, 12)\n"
          ]
        },
        {
          "data": {
            "text/html": [
              "<div>\n",
              "<style scoped>\n",
              "    .dataframe tbody tr th:only-of-type {\n",
              "        vertical-align: middle;\n",
              "    }\n",
              "\n",
              "    .dataframe tbody tr th {\n",
              "        vertical-align: top;\n",
              "    }\n",
              "\n",
              "    .dataframe thead th {\n",
              "        text-align: right;\n",
              "    }\n",
              "</style>\n",
              "<table border=\"1\" class=\"dataframe\">\n",
              "  <thead>\n",
              "    <tr style=\"text-align: right;\">\n",
              "      <th></th>\n",
              "      <th>datetime</th>\n",
              "      <th>season</th>\n",
              "      <th>holiday</th>\n",
              "      <th>workingday</th>\n",
              "      <th>weather</th>\n",
              "      <th>temp</th>\n",
              "      <th>atemp</th>\n",
              "      <th>humidity</th>\n",
              "      <th>windspeed</th>\n",
              "      <th>casual</th>\n",
              "      <th>registered</th>\n",
              "      <th>count</th>\n",
              "    </tr>\n",
              "  </thead>\n",
              "  <tbody>\n",
              "    <tr>\n",
              "      <th>0</th>\n",
              "      <td>2011-01-01 00:00:00</td>\n",
              "      <td>1</td>\n",
              "      <td>0</td>\n",
              "      <td>0</td>\n",
              "      <td>1</td>\n",
              "      <td>9.84</td>\n",
              "      <td>14.395</td>\n",
              "      <td>81</td>\n",
              "      <td>0.0</td>\n",
              "      <td>3</td>\n",
              "      <td>13</td>\n",
              "      <td>16</td>\n",
              "    </tr>\n",
              "    <tr>\n",
              "      <th>1</th>\n",
              "      <td>2011-01-01 01:00:00</td>\n",
              "      <td>1</td>\n",
              "      <td>0</td>\n",
              "      <td>0</td>\n",
              "      <td>1</td>\n",
              "      <td>9.02</td>\n",
              "      <td>13.635</td>\n",
              "      <td>80</td>\n",
              "      <td>0.0</td>\n",
              "      <td>8</td>\n",
              "      <td>32</td>\n",
              "      <td>40</td>\n",
              "    </tr>\n",
              "    <tr>\n",
              "      <th>2</th>\n",
              "      <td>2011-01-01 02:00:00</td>\n",
              "      <td>1</td>\n",
              "      <td>0</td>\n",
              "      <td>0</td>\n",
              "      <td>1</td>\n",
              "      <td>9.02</td>\n",
              "      <td>13.635</td>\n",
              "      <td>80</td>\n",
              "      <td>0.0</td>\n",
              "      <td>5</td>\n",
              "      <td>27</td>\n",
              "      <td>32</td>\n",
              "    </tr>\n",
              "    <tr>\n",
              "      <th>3</th>\n",
              "      <td>2011-01-01 03:00:00</td>\n",
              "      <td>1</td>\n",
              "      <td>0</td>\n",
              "      <td>0</td>\n",
              "      <td>1</td>\n",
              "      <td>9.84</td>\n",
              "      <td>14.395</td>\n",
              "      <td>75</td>\n",
              "      <td>0.0</td>\n",
              "      <td>3</td>\n",
              "      <td>10</td>\n",
              "      <td>13</td>\n",
              "    </tr>\n",
              "    <tr>\n",
              "      <th>4</th>\n",
              "      <td>2011-01-01 04:00:00</td>\n",
              "      <td>1</td>\n",
              "      <td>0</td>\n",
              "      <td>0</td>\n",
              "      <td>1</td>\n",
              "      <td>9.84</td>\n",
              "      <td>14.395</td>\n",
              "      <td>75</td>\n",
              "      <td>0.0</td>\n",
              "      <td>0</td>\n",
              "      <td>1</td>\n",
              "      <td>1</td>\n",
              "    </tr>\n",
              "  </tbody>\n",
              "</table>\n",
              "</div>"
            ],
            "text/plain": [
              "              datetime  season  holiday  workingday  weather  temp   atemp  \\\n",
              "0  2011-01-01 00:00:00       1        0           0        1  9.84  14.395   \n",
              "1  2011-01-01 01:00:00       1        0           0        1  9.02  13.635   \n",
              "2  2011-01-01 02:00:00       1        0           0        1  9.02  13.635   \n",
              "3  2011-01-01 03:00:00       1        0           0        1  9.84  14.395   \n",
              "4  2011-01-01 04:00:00       1        0           0        1  9.84  14.395   \n",
              "\n",
              "   humidity  windspeed  casual  registered  count  \n",
              "0        81        0.0       3          13     16  \n",
              "1        80        0.0       8          32     40  \n",
              "2        80        0.0       5          27     32  \n",
              "3        75        0.0       3          10     13  \n",
              "4        75        0.0       0           1      1  "
            ]
          },
          "execution_count": 3,
          "metadata": {},
          "output_type": "execute_result"
        }
      ],
      "source": [
        "print(train_df.shape)\n",
        "train_df.head()"
      ]
    },
    {
      "cell_type": "code",
      "execution_count": 4,
      "metadata": {
        "colab": {
          "base_uri": "https://localhost:8080/"
        },
        "id": "5cIdf18yibiz",
        "outputId": "a03ecdda-9824-4846-eb83-17042466e26f"
      },
      "outputs": [
        {
          "name": "stdout",
          "output_type": "stream",
          "text": [
            "<class 'pandas.core.frame.DataFrame'>\n",
            "RangeIndex: 10886 entries, 0 to 10885\n",
            "Data columns (total 12 columns):\n",
            " #   Column      Non-Null Count  Dtype  \n",
            "---  ------      --------------  -----  \n",
            " 0   datetime    10886 non-null  object \n",
            " 1   season      10886 non-null  int64  \n",
            " 2   holiday     10886 non-null  int64  \n",
            " 3   workingday  10886 non-null  int64  \n",
            " 4   weather     10886 non-null  int64  \n",
            " 5   temp        10886 non-null  float64\n",
            " 6   atemp       10886 non-null  float64\n",
            " 7   humidity    10886 non-null  int64  \n",
            " 8   windspeed   10886 non-null  float64\n",
            " 9   casual      10886 non-null  int64  \n",
            " 10  registered  10886 non-null  int64  \n",
            " 11  count       10886 non-null  int64  \n",
            "dtypes: float64(3), int64(8), object(1)\n",
            "memory usage: 1020.7+ KB\n"
          ]
        }
      ],
      "source": [
        "train_df.info()"
      ]
    },
    {
      "cell_type": "code",
      "execution_count": 5,
      "metadata": {
        "colab": {
          "base_uri": "https://localhost:8080/",
          "height": 320
        },
        "id": "wNMEH5f6icya",
        "outputId": "dc5ae39a-c814-4ee9-e663-e5900238efee"
      },
      "outputs": [
        {
          "data": {
            "text/html": [
              "<div>\n",
              "<style scoped>\n",
              "    .dataframe tbody tr th:only-of-type {\n",
              "        vertical-align: middle;\n",
              "    }\n",
              "\n",
              "    .dataframe tbody tr th {\n",
              "        vertical-align: top;\n",
              "    }\n",
              "\n",
              "    .dataframe thead th {\n",
              "        text-align: right;\n",
              "    }\n",
              "</style>\n",
              "<table border=\"1\" class=\"dataframe\">\n",
              "  <thead>\n",
              "    <tr style=\"text-align: right;\">\n",
              "      <th></th>\n",
              "      <th>season</th>\n",
              "      <th>holiday</th>\n",
              "      <th>workingday</th>\n",
              "      <th>weather</th>\n",
              "      <th>temp</th>\n",
              "      <th>atemp</th>\n",
              "      <th>humidity</th>\n",
              "      <th>windspeed</th>\n",
              "      <th>casual</th>\n",
              "      <th>registered</th>\n",
              "      <th>count</th>\n",
              "    </tr>\n",
              "  </thead>\n",
              "  <tbody>\n",
              "    <tr>\n",
              "      <th>count</th>\n",
              "      <td>10886.000000</td>\n",
              "      <td>10886.000000</td>\n",
              "      <td>10886.000000</td>\n",
              "      <td>10886.000000</td>\n",
              "      <td>10886.00000</td>\n",
              "      <td>10886.000000</td>\n",
              "      <td>10886.000000</td>\n",
              "      <td>10886.000000</td>\n",
              "      <td>10886.000000</td>\n",
              "      <td>10886.000000</td>\n",
              "      <td>10886.000000</td>\n",
              "    </tr>\n",
              "    <tr>\n",
              "      <th>mean</th>\n",
              "      <td>2.506614</td>\n",
              "      <td>0.028569</td>\n",
              "      <td>0.680875</td>\n",
              "      <td>1.418427</td>\n",
              "      <td>20.23086</td>\n",
              "      <td>23.655084</td>\n",
              "      <td>61.886460</td>\n",
              "      <td>12.799395</td>\n",
              "      <td>36.021955</td>\n",
              "      <td>155.552177</td>\n",
              "      <td>191.574132</td>\n",
              "    </tr>\n",
              "    <tr>\n",
              "      <th>std</th>\n",
              "      <td>1.116174</td>\n",
              "      <td>0.166599</td>\n",
              "      <td>0.466159</td>\n",
              "      <td>0.633839</td>\n",
              "      <td>7.79159</td>\n",
              "      <td>8.474601</td>\n",
              "      <td>19.245033</td>\n",
              "      <td>8.164537</td>\n",
              "      <td>49.960477</td>\n",
              "      <td>151.039033</td>\n",
              "      <td>181.144454</td>\n",
              "    </tr>\n",
              "    <tr>\n",
              "      <th>min</th>\n",
              "      <td>1.000000</td>\n",
              "      <td>0.000000</td>\n",
              "      <td>0.000000</td>\n",
              "      <td>1.000000</td>\n",
              "      <td>0.82000</td>\n",
              "      <td>0.760000</td>\n",
              "      <td>0.000000</td>\n",
              "      <td>0.000000</td>\n",
              "      <td>0.000000</td>\n",
              "      <td>0.000000</td>\n",
              "      <td>1.000000</td>\n",
              "    </tr>\n",
              "    <tr>\n",
              "      <th>25%</th>\n",
              "      <td>2.000000</td>\n",
              "      <td>0.000000</td>\n",
              "      <td>0.000000</td>\n",
              "      <td>1.000000</td>\n",
              "      <td>13.94000</td>\n",
              "      <td>16.665000</td>\n",
              "      <td>47.000000</td>\n",
              "      <td>7.001500</td>\n",
              "      <td>4.000000</td>\n",
              "      <td>36.000000</td>\n",
              "      <td>42.000000</td>\n",
              "    </tr>\n",
              "    <tr>\n",
              "      <th>50%</th>\n",
              "      <td>3.000000</td>\n",
              "      <td>0.000000</td>\n",
              "      <td>1.000000</td>\n",
              "      <td>1.000000</td>\n",
              "      <td>20.50000</td>\n",
              "      <td>24.240000</td>\n",
              "      <td>62.000000</td>\n",
              "      <td>12.998000</td>\n",
              "      <td>17.000000</td>\n",
              "      <td>118.000000</td>\n",
              "      <td>145.000000</td>\n",
              "    </tr>\n",
              "    <tr>\n",
              "      <th>75%</th>\n",
              "      <td>4.000000</td>\n",
              "      <td>0.000000</td>\n",
              "      <td>1.000000</td>\n",
              "      <td>2.000000</td>\n",
              "      <td>26.24000</td>\n",
              "      <td>31.060000</td>\n",
              "      <td>77.000000</td>\n",
              "      <td>16.997900</td>\n",
              "      <td>49.000000</td>\n",
              "      <td>222.000000</td>\n",
              "      <td>284.000000</td>\n",
              "    </tr>\n",
              "    <tr>\n",
              "      <th>max</th>\n",
              "      <td>4.000000</td>\n",
              "      <td>1.000000</td>\n",
              "      <td>1.000000</td>\n",
              "      <td>4.000000</td>\n",
              "      <td>41.00000</td>\n",
              "      <td>45.455000</td>\n",
              "      <td>100.000000</td>\n",
              "      <td>56.996900</td>\n",
              "      <td>367.000000</td>\n",
              "      <td>886.000000</td>\n",
              "      <td>977.000000</td>\n",
              "    </tr>\n",
              "  </tbody>\n",
              "</table>\n",
              "</div>"
            ],
            "text/plain": [
              "             season       holiday    workingday       weather         temp  \\\n",
              "count  10886.000000  10886.000000  10886.000000  10886.000000  10886.00000   \n",
              "mean       2.506614      0.028569      0.680875      1.418427     20.23086   \n",
              "std        1.116174      0.166599      0.466159      0.633839      7.79159   \n",
              "min        1.000000      0.000000      0.000000      1.000000      0.82000   \n",
              "25%        2.000000      0.000000      0.000000      1.000000     13.94000   \n",
              "50%        3.000000      0.000000      1.000000      1.000000     20.50000   \n",
              "75%        4.000000      0.000000      1.000000      2.000000     26.24000   \n",
              "max        4.000000      1.000000      1.000000      4.000000     41.00000   \n",
              "\n",
              "              atemp      humidity     windspeed        casual    registered  \\\n",
              "count  10886.000000  10886.000000  10886.000000  10886.000000  10886.000000   \n",
              "mean      23.655084     61.886460     12.799395     36.021955    155.552177   \n",
              "std        8.474601     19.245033      8.164537     49.960477    151.039033   \n",
              "min        0.760000      0.000000      0.000000      0.000000      0.000000   \n",
              "25%       16.665000     47.000000      7.001500      4.000000     36.000000   \n",
              "50%       24.240000     62.000000     12.998000     17.000000    118.000000   \n",
              "75%       31.060000     77.000000     16.997900     49.000000    222.000000   \n",
              "max       45.455000    100.000000     56.996900    367.000000    886.000000   \n",
              "\n",
              "              count  \n",
              "count  10886.000000  \n",
              "mean     191.574132  \n",
              "std      181.144454  \n",
              "min        1.000000  \n",
              "25%       42.000000  \n",
              "50%      145.000000  \n",
              "75%      284.000000  \n",
              "max      977.000000  "
            ]
          },
          "execution_count": 5,
          "metadata": {},
          "output_type": "execute_result"
        }
      ],
      "source": [
        "train_df.describe()"
      ]
    },
    {
      "cell_type": "code",
      "execution_count": 6,
      "metadata": {
        "colab": {
          "base_uri": "https://localhost:8080/",
          "height": 320
        },
        "id": "W49w_eg2ieQ_",
        "outputId": "ed83053f-6194-4f39-d9a3-d004779ad486"
      },
      "outputs": [
        {
          "data": {
            "text/html": [
              "<div>\n",
              "<style scoped>\n",
              "    .dataframe tbody tr th:only-of-type {\n",
              "        vertical-align: middle;\n",
              "    }\n",
              "\n",
              "    .dataframe tbody tr th {\n",
              "        vertical-align: top;\n",
              "    }\n",
              "\n",
              "    .dataframe thead th {\n",
              "        text-align: right;\n",
              "    }\n",
              "</style>\n",
              "<table border=\"1\" class=\"dataframe\">\n",
              "  <thead>\n",
              "    <tr style=\"text-align: right;\">\n",
              "      <th></th>\n",
              "      <th>season</th>\n",
              "      <th>holiday</th>\n",
              "      <th>workingday</th>\n",
              "      <th>weather</th>\n",
              "      <th>temp</th>\n",
              "      <th>atemp</th>\n",
              "      <th>humidity</th>\n",
              "      <th>windspeed</th>\n",
              "    </tr>\n",
              "  </thead>\n",
              "  <tbody>\n",
              "    <tr>\n",
              "      <th>count</th>\n",
              "      <td>6493.000000</td>\n",
              "      <td>6493.000000</td>\n",
              "      <td>6493.000000</td>\n",
              "      <td>6493.000000</td>\n",
              "      <td>6493.000000</td>\n",
              "      <td>6493.000000</td>\n",
              "      <td>6493.000000</td>\n",
              "      <td>6493.000000</td>\n",
              "    </tr>\n",
              "    <tr>\n",
              "      <th>mean</th>\n",
              "      <td>2.493300</td>\n",
              "      <td>0.029108</td>\n",
              "      <td>0.685815</td>\n",
              "      <td>1.436778</td>\n",
              "      <td>20.620607</td>\n",
              "      <td>24.012865</td>\n",
              "      <td>64.125212</td>\n",
              "      <td>12.631157</td>\n",
              "    </tr>\n",
              "    <tr>\n",
              "      <th>std</th>\n",
              "      <td>1.091258</td>\n",
              "      <td>0.168123</td>\n",
              "      <td>0.464226</td>\n",
              "      <td>0.648390</td>\n",
              "      <td>8.059583</td>\n",
              "      <td>8.782741</td>\n",
              "      <td>19.293391</td>\n",
              "      <td>8.250151</td>\n",
              "    </tr>\n",
              "    <tr>\n",
              "      <th>min</th>\n",
              "      <td>1.000000</td>\n",
              "      <td>0.000000</td>\n",
              "      <td>0.000000</td>\n",
              "      <td>1.000000</td>\n",
              "      <td>0.820000</td>\n",
              "      <td>0.000000</td>\n",
              "      <td>16.000000</td>\n",
              "      <td>0.000000</td>\n",
              "    </tr>\n",
              "    <tr>\n",
              "      <th>25%</th>\n",
              "      <td>2.000000</td>\n",
              "      <td>0.000000</td>\n",
              "      <td>0.000000</td>\n",
              "      <td>1.000000</td>\n",
              "      <td>13.940000</td>\n",
              "      <td>16.665000</td>\n",
              "      <td>49.000000</td>\n",
              "      <td>7.001500</td>\n",
              "    </tr>\n",
              "    <tr>\n",
              "      <th>50%</th>\n",
              "      <td>3.000000</td>\n",
              "      <td>0.000000</td>\n",
              "      <td>1.000000</td>\n",
              "      <td>1.000000</td>\n",
              "      <td>21.320000</td>\n",
              "      <td>25.000000</td>\n",
              "      <td>65.000000</td>\n",
              "      <td>11.001400</td>\n",
              "    </tr>\n",
              "    <tr>\n",
              "      <th>75%</th>\n",
              "      <td>3.000000</td>\n",
              "      <td>0.000000</td>\n",
              "      <td>1.000000</td>\n",
              "      <td>2.000000</td>\n",
              "      <td>27.060000</td>\n",
              "      <td>31.060000</td>\n",
              "      <td>81.000000</td>\n",
              "      <td>16.997900</td>\n",
              "    </tr>\n",
              "    <tr>\n",
              "      <th>max</th>\n",
              "      <td>4.000000</td>\n",
              "      <td>1.000000</td>\n",
              "      <td>1.000000</td>\n",
              "      <td>4.000000</td>\n",
              "      <td>40.180000</td>\n",
              "      <td>50.000000</td>\n",
              "      <td>100.000000</td>\n",
              "      <td>55.998600</td>\n",
              "    </tr>\n",
              "  </tbody>\n",
              "</table>\n",
              "</div>"
            ],
            "text/plain": [
              "            season      holiday   workingday      weather         temp  \\\n",
              "count  6493.000000  6493.000000  6493.000000  6493.000000  6493.000000   \n",
              "mean      2.493300     0.029108     0.685815     1.436778    20.620607   \n",
              "std       1.091258     0.168123     0.464226     0.648390     8.059583   \n",
              "min       1.000000     0.000000     0.000000     1.000000     0.820000   \n",
              "25%       2.000000     0.000000     0.000000     1.000000    13.940000   \n",
              "50%       3.000000     0.000000     1.000000     1.000000    21.320000   \n",
              "75%       3.000000     0.000000     1.000000     2.000000    27.060000   \n",
              "max       4.000000     1.000000     1.000000     4.000000    40.180000   \n",
              "\n",
              "             atemp     humidity    windspeed  \n",
              "count  6493.000000  6493.000000  6493.000000  \n",
              "mean     24.012865    64.125212    12.631157  \n",
              "std       8.782741    19.293391     8.250151  \n",
              "min       0.000000    16.000000     0.000000  \n",
              "25%      16.665000    49.000000     7.001500  \n",
              "50%      25.000000    65.000000    11.001400  \n",
              "75%      31.060000    81.000000    16.997900  \n",
              "max      50.000000   100.000000    55.998600  "
            ]
          },
          "execution_count": 6,
          "metadata": {},
          "output_type": "execute_result"
        }
      ],
      "source": [
        "test_df.describe()"
      ]
    },
    {
      "cell_type": "markdown",
      "metadata": {
        "id": "Ws-JbI7jifh7"
      },
      "source": [
        "### 데이터 1차 확인 결과\n",
        "\n",
        "- train: 전체 10886행 12열의 구조\n",
        "- test: 전체 6493행 8열의 구조\n",
        "\n",
        "---\n",
        "\n",
        "\n",
        "- 행 한줄 한줄이 시간단위로 기록 된 구조로 확인됨\n",
        "- 실측 온도와 체감 온도는 0도 밑으로 존재 하지 않음\n"
      ]
    },
    {
      "cell_type": "markdown",
      "metadata": {
        "id": "_c73ylajigkp"
      },
      "source": [
        "## 데이터 전처리"
      ]
    },
    {
      "cell_type": "code",
      "execution_count": 7,
      "metadata": {
        "colab": {
          "base_uri": "https://localhost:8080/"
        },
        "id": "2vynxosijtIF",
        "outputId": "bca08387-6680-4e34-c4f8-885e35a31684"
      },
      "outputs": [
        {
          "name": "stdout",
          "output_type": "stream",
          "text": [
            "0\n",
            "0\n"
          ]
        }
      ],
      "source": [
        "# 중복값 확인\n",
        "print(train_df.duplicated().sum())\n",
        "print(test_df.duplicated().sum())"
      ]
    },
    {
      "cell_type": "code",
      "execution_count": 8,
      "metadata": {
        "id": "JrsDwPOPiiiP"
      },
      "outputs": [],
      "source": [
        "original_columns = test_df.columns.tolist()\n",
        "\n",
        "# datetime 파싱 및 피처 생성\n",
        "train_df['datetime'] = pd.to_datetime(train_df['datetime'])\n",
        "test_df['datetime'] = pd.to_datetime(test_df['datetime'])\n",
        "\n",
        "# 공통 피처 생성\n",
        "for df in [train_df, test_df]:\n",
        "    df['hour'] = df['datetime'].dt.hour\n",
        "    df['dayofweek'] = df['datetime'].dt.dayofweek\n",
        "    df['month'] = df['datetime'].dt.month\n",
        "    df['year'] = df['datetime'].dt.year\n",
        "    df['is_weekend'] = df['dayofweek'].isin([5, 6]).astype(int) # 주말\n"
      ]
    },
    {
      "cell_type": "code",
      "execution_count": 9,
      "metadata": {
        "colab": {
          "base_uri": "https://localhost:8080/"
        },
        "id": "P6eaOcdBimio",
        "outputId": "868c1fc8-f3ea-41b4-aece-c5836dc5c0fc"
      },
      "outputs": [
        {
          "name": "stdout",
          "output_type": "stream",
          "text": [
            "train_data 총 수: 10886 주말 수: 3163\n",
            "test_data 총 수: 6493 주말 수: 1851\n"
          ]
        }
      ],
      "source": [
        "print('train_data 총 수:', len(train_df.index), '주말 수:', len(train_df[train_df['is_weekend'] == 1].index))\n",
        "print('test_data 총 수:', len(test_df.index), '주말 수:', len(test_df[test_df['is_weekend'] == 1].index))"
      ]
    },
    {
      "cell_type": "code",
      "execution_count": 10,
      "metadata": {
        "colab": {
          "base_uri": "https://localhost:8080/",
          "height": 791
        },
        "id": "Ek0FBzeMZZXj",
        "outputId": "54a32664-36cb-4288-95e9-0b9dfee4ca88"
      },
      "outputs": [
        {
          "data": {
            "text/html": [
              "<div>\n",
              "<style scoped>\n",
              "    .dataframe tbody tr th:only-of-type {\n",
              "        vertical-align: middle;\n",
              "    }\n",
              "\n",
              "    .dataframe tbody tr th {\n",
              "        vertical-align: top;\n",
              "    }\n",
              "\n",
              "    .dataframe thead th {\n",
              "        text-align: right;\n",
              "    }\n",
              "</style>\n",
              "<table border=\"1\" class=\"dataframe\">\n",
              "  <thead>\n",
              "    <tr style=\"text-align: right;\">\n",
              "      <th></th>\n",
              "      <th>datetime</th>\n",
              "      <th>season</th>\n",
              "      <th>holiday</th>\n",
              "      <th>workingday</th>\n",
              "      <th>weather</th>\n",
              "      <th>temp</th>\n",
              "      <th>atemp</th>\n",
              "      <th>humidity</th>\n",
              "      <th>windspeed</th>\n",
              "      <th>casual</th>\n",
              "      <th>registered</th>\n",
              "      <th>count</th>\n",
              "      <th>hour</th>\n",
              "      <th>dayofweek</th>\n",
              "      <th>month</th>\n",
              "      <th>year</th>\n",
              "      <th>is_weekend</th>\n",
              "    </tr>\n",
              "  </thead>\n",
              "  <tbody>\n",
              "    <tr>\n",
              "      <th>0</th>\n",
              "      <td>2011-01-01 00:00:00</td>\n",
              "      <td>1</td>\n",
              "      <td>0</td>\n",
              "      <td>0</td>\n",
              "      <td>1</td>\n",
              "      <td>9.84</td>\n",
              "      <td>14.395</td>\n",
              "      <td>81</td>\n",
              "      <td>0.0000</td>\n",
              "      <td>3</td>\n",
              "      <td>13</td>\n",
              "      <td>16</td>\n",
              "      <td>0</td>\n",
              "      <td>5</td>\n",
              "      <td>1</td>\n",
              "      <td>2011</td>\n",
              "      <td>1</td>\n",
              "    </tr>\n",
              "    <tr>\n",
              "      <th>1</th>\n",
              "      <td>2011-01-01 01:00:00</td>\n",
              "      <td>1</td>\n",
              "      <td>0</td>\n",
              "      <td>0</td>\n",
              "      <td>1</td>\n",
              "      <td>9.02</td>\n",
              "      <td>13.635</td>\n",
              "      <td>80</td>\n",
              "      <td>0.0000</td>\n",
              "      <td>8</td>\n",
              "      <td>32</td>\n",
              "      <td>40</td>\n",
              "      <td>1</td>\n",
              "      <td>5</td>\n",
              "      <td>1</td>\n",
              "      <td>2011</td>\n",
              "      <td>1</td>\n",
              "    </tr>\n",
              "    <tr>\n",
              "      <th>2</th>\n",
              "      <td>2011-01-01 02:00:00</td>\n",
              "      <td>1</td>\n",
              "      <td>0</td>\n",
              "      <td>0</td>\n",
              "      <td>1</td>\n",
              "      <td>9.02</td>\n",
              "      <td>13.635</td>\n",
              "      <td>80</td>\n",
              "      <td>0.0000</td>\n",
              "      <td>5</td>\n",
              "      <td>27</td>\n",
              "      <td>32</td>\n",
              "      <td>2</td>\n",
              "      <td>5</td>\n",
              "      <td>1</td>\n",
              "      <td>2011</td>\n",
              "      <td>1</td>\n",
              "    </tr>\n",
              "    <tr>\n",
              "      <th>3</th>\n",
              "      <td>2011-01-01 03:00:00</td>\n",
              "      <td>1</td>\n",
              "      <td>0</td>\n",
              "      <td>0</td>\n",
              "      <td>1</td>\n",
              "      <td>9.84</td>\n",
              "      <td>14.395</td>\n",
              "      <td>75</td>\n",
              "      <td>0.0000</td>\n",
              "      <td>3</td>\n",
              "      <td>10</td>\n",
              "      <td>13</td>\n",
              "      <td>3</td>\n",
              "      <td>5</td>\n",
              "      <td>1</td>\n",
              "      <td>2011</td>\n",
              "      <td>1</td>\n",
              "    </tr>\n",
              "    <tr>\n",
              "      <th>4</th>\n",
              "      <td>2011-01-01 04:00:00</td>\n",
              "      <td>1</td>\n",
              "      <td>0</td>\n",
              "      <td>0</td>\n",
              "      <td>1</td>\n",
              "      <td>9.84</td>\n",
              "      <td>14.395</td>\n",
              "      <td>75</td>\n",
              "      <td>0.0000</td>\n",
              "      <td>0</td>\n",
              "      <td>1</td>\n",
              "      <td>1</td>\n",
              "      <td>4</td>\n",
              "      <td>5</td>\n",
              "      <td>1</td>\n",
              "      <td>2011</td>\n",
              "      <td>1</td>\n",
              "    </tr>\n",
              "    <tr>\n",
              "      <th>...</th>\n",
              "      <td>...</td>\n",
              "      <td>...</td>\n",
              "      <td>...</td>\n",
              "      <td>...</td>\n",
              "      <td>...</td>\n",
              "      <td>...</td>\n",
              "      <td>...</td>\n",
              "      <td>...</td>\n",
              "      <td>...</td>\n",
              "      <td>...</td>\n",
              "      <td>...</td>\n",
              "      <td>...</td>\n",
              "      <td>...</td>\n",
              "      <td>...</td>\n",
              "      <td>...</td>\n",
              "      <td>...</td>\n",
              "      <td>...</td>\n",
              "    </tr>\n",
              "    <tr>\n",
              "      <th>10809</th>\n",
              "      <td>2012-12-16 19:00:00</td>\n",
              "      <td>4</td>\n",
              "      <td>0</td>\n",
              "      <td>0</td>\n",
              "      <td>1</td>\n",
              "      <td>14.76</td>\n",
              "      <td>17.425</td>\n",
              "      <td>93</td>\n",
              "      <td>8.9981</td>\n",
              "      <td>10</td>\n",
              "      <td>99</td>\n",
              "      <td>109</td>\n",
              "      <td>19</td>\n",
              "      <td>6</td>\n",
              "      <td>12</td>\n",
              "      <td>2012</td>\n",
              "      <td>1</td>\n",
              "    </tr>\n",
              "    <tr>\n",
              "      <th>10810</th>\n",
              "      <td>2012-12-16 20:00:00</td>\n",
              "      <td>4</td>\n",
              "      <td>0</td>\n",
              "      <td>0</td>\n",
              "      <td>2</td>\n",
              "      <td>15.58</td>\n",
              "      <td>19.695</td>\n",
              "      <td>82</td>\n",
              "      <td>0.0000</td>\n",
              "      <td>14</td>\n",
              "      <td>108</td>\n",
              "      <td>122</td>\n",
              "      <td>20</td>\n",
              "      <td>6</td>\n",
              "      <td>12</td>\n",
              "      <td>2012</td>\n",
              "      <td>1</td>\n",
              "    </tr>\n",
              "    <tr>\n",
              "      <th>10811</th>\n",
              "      <td>2012-12-16 21:00:00</td>\n",
              "      <td>4</td>\n",
              "      <td>0</td>\n",
              "      <td>0</td>\n",
              "      <td>2</td>\n",
              "      <td>14.76</td>\n",
              "      <td>18.940</td>\n",
              "      <td>93</td>\n",
              "      <td>0.0000</td>\n",
              "      <td>14</td>\n",
              "      <td>92</td>\n",
              "      <td>106</td>\n",
              "      <td>21</td>\n",
              "      <td>6</td>\n",
              "      <td>12</td>\n",
              "      <td>2012</td>\n",
              "      <td>1</td>\n",
              "    </tr>\n",
              "    <tr>\n",
              "      <th>10812</th>\n",
              "      <td>2012-12-16 22:00:00</td>\n",
              "      <td>4</td>\n",
              "      <td>0</td>\n",
              "      <td>0</td>\n",
              "      <td>2</td>\n",
              "      <td>16.40</td>\n",
              "      <td>20.455</td>\n",
              "      <td>82</td>\n",
              "      <td>12.9980</td>\n",
              "      <td>6</td>\n",
              "      <td>83</td>\n",
              "      <td>89</td>\n",
              "      <td>22</td>\n",
              "      <td>6</td>\n",
              "      <td>12</td>\n",
              "      <td>2012</td>\n",
              "      <td>1</td>\n",
              "    </tr>\n",
              "    <tr>\n",
              "      <th>10813</th>\n",
              "      <td>2012-12-16 23:00:00</td>\n",
              "      <td>4</td>\n",
              "      <td>0</td>\n",
              "      <td>0</td>\n",
              "      <td>2</td>\n",
              "      <td>14.76</td>\n",
              "      <td>17.425</td>\n",
              "      <td>93</td>\n",
              "      <td>8.9981</td>\n",
              "      <td>4</td>\n",
              "      <td>29</td>\n",
              "      <td>33</td>\n",
              "      <td>23</td>\n",
              "      <td>6</td>\n",
              "      <td>12</td>\n",
              "      <td>2012</td>\n",
              "      <td>1</td>\n",
              "    </tr>\n",
              "  </tbody>\n",
              "</table>\n",
              "<p>3163 rows × 17 columns</p>\n",
              "</div>"
            ],
            "text/plain": [
              "                 datetime  season  holiday  workingday  weather   temp  \\\n",
              "0     2011-01-01 00:00:00       1        0           0        1   9.84   \n",
              "1     2011-01-01 01:00:00       1        0           0        1   9.02   \n",
              "2     2011-01-01 02:00:00       1        0           0        1   9.02   \n",
              "3     2011-01-01 03:00:00       1        0           0        1   9.84   \n",
              "4     2011-01-01 04:00:00       1        0           0        1   9.84   \n",
              "...                   ...     ...      ...         ...      ...    ...   \n",
              "10809 2012-12-16 19:00:00       4        0           0        1  14.76   \n",
              "10810 2012-12-16 20:00:00       4        0           0        2  15.58   \n",
              "10811 2012-12-16 21:00:00       4        0           0        2  14.76   \n",
              "10812 2012-12-16 22:00:00       4        0           0        2  16.40   \n",
              "10813 2012-12-16 23:00:00       4        0           0        2  14.76   \n",
              "\n",
              "        atemp  humidity  windspeed  casual  registered  count  hour  \\\n",
              "0      14.395        81     0.0000       3          13     16     0   \n",
              "1      13.635        80     0.0000       8          32     40     1   \n",
              "2      13.635        80     0.0000       5          27     32     2   \n",
              "3      14.395        75     0.0000       3          10     13     3   \n",
              "4      14.395        75     0.0000       0           1      1     4   \n",
              "...       ...       ...        ...     ...         ...    ...   ...   \n",
              "10809  17.425        93     8.9981      10          99    109    19   \n",
              "10810  19.695        82     0.0000      14         108    122    20   \n",
              "10811  18.940        93     0.0000      14          92    106    21   \n",
              "10812  20.455        82    12.9980       6          83     89    22   \n",
              "10813  17.425        93     8.9981       4          29     33    23   \n",
              "\n",
              "       dayofweek  month  year  is_weekend  \n",
              "0              5      1  2011           1  \n",
              "1              5      1  2011           1  \n",
              "2              5      1  2011           1  \n",
              "3              5      1  2011           1  \n",
              "4              5      1  2011           1  \n",
              "...          ...    ...   ...         ...  \n",
              "10809          6     12  2012           1  \n",
              "10810          6     12  2012           1  \n",
              "10811          6     12  2012           1  \n",
              "10812          6     12  2012           1  \n",
              "10813          6     12  2012           1  \n",
              "\n",
              "[3163 rows x 17 columns]"
            ]
          },
          "execution_count": 10,
          "metadata": {},
          "output_type": "execute_result"
        }
      ],
      "source": [
        "train_df[(train_df['is_weekend'] == 1)]"
      ]
    },
    {
      "cell_type": "code",
      "execution_count": 11,
      "metadata": {
        "colab": {
          "base_uri": "https://localhost:8080/"
        },
        "id": "teQCXCiSioy2",
        "outputId": "cbe2672d-1ec9-4bf0-a27f-a717bd690363"
      },
      "outputs": [
        {
          "name": "stdout",
          "output_type": "stream",
          "text": [
            "holiday:                   datetime  season  holiday  workingday  weather   temp  \\\n",
            "0     2011-01-01 00:00:00       1        0           0        1   9.84   \n",
            "1     2011-01-01 01:00:00       1        0           0        1   9.02   \n",
            "2     2011-01-01 02:00:00       1        0           0        1   9.02   \n",
            "3     2011-01-01 03:00:00       1        0           0        1   9.84   \n",
            "4     2011-01-01 04:00:00       1        0           0        1   9.84   \n",
            "...                   ...     ...      ...         ...      ...    ...   \n",
            "10809 2012-12-16 19:00:00       4        0           0        1  14.76   \n",
            "10810 2012-12-16 20:00:00       4        0           0        2  15.58   \n",
            "10811 2012-12-16 21:00:00       4        0           0        2  14.76   \n",
            "10812 2012-12-16 22:00:00       4        0           0        2  16.40   \n",
            "10813 2012-12-16 23:00:00       4        0           0        2  14.76   \n",
            "\n",
            "        atemp  humidity  windspeed  casual  registered  count  hour  \\\n",
            "0      14.395        81     0.0000       3          13     16     0   \n",
            "1      13.635        80     0.0000       8          32     40     1   \n",
            "2      13.635        80     0.0000       5          27     32     2   \n",
            "3      14.395        75     0.0000       3          10     13     3   \n",
            "4      14.395        75     0.0000       0           1      1     4   \n",
            "...       ...       ...        ...     ...         ...    ...   ...   \n",
            "10809  17.425        93     8.9981      10          99    109    19   \n",
            "10810  19.695        82     0.0000      14         108    122    20   \n",
            "10811  18.940        93     0.0000      14          92    106    21   \n",
            "10812  20.455        82    12.9980       6          83     89    22   \n",
            "10813  17.425        93     8.9981       4          29     33    23   \n",
            "\n",
            "       dayofweek  month  year  is_weekend  \n",
            "0              5      1  2011           1  \n",
            "1              5      1  2011           1  \n",
            "2              5      1  2011           1  \n",
            "3              5      1  2011           1  \n",
            "4              5      1  2011           1  \n",
            "...          ...    ...   ...         ...  \n",
            "10809          6     12  2012           1  \n",
            "10810          6     12  2012           1  \n",
            "10811          6     12  2012           1  \n",
            "10812          6     12  2012           1  \n",
            "10813          6     12  2012           1  \n",
            "\n",
            "[3163 rows x 17 columns]\n",
            "\n",
            "workingday:  Empty DataFrame\n",
            "Columns: [datetime, season, holiday, workingday, weather, temp, atemp, humidity, windspeed, casual, registered, count, hour, dayofweek, month, year, is_weekend]\n",
            "Index: []\n",
            "holiday:                  datetime  season  holiday  workingday  weather   temp   atemp  \\\n",
            "48   2011-01-22 00:00:00       1        0           0        1   1.64   1.515   \n",
            "49   2011-01-22 01:00:00       1        0           0        2   1.64   0.000   \n",
            "50   2011-01-22 02:00:00       1        0           0        2   1.64   1.515   \n",
            "51   2011-01-22 03:00:00       1        0           0        2   1.64   1.515   \n",
            "52   2011-01-22 04:00:00       1        0           0        2   0.82   0.760   \n",
            "...                  ...     ...      ...         ...      ...    ...     ...   \n",
            "6464 2012-12-30 19:00:00       1        0           0        1  13.94  18.180   \n",
            "6465 2012-12-30 20:00:00       1        0           0        1   9.02   9.850   \n",
            "6466 2012-12-30 21:00:00       1        0           0        1   8.20  10.605   \n",
            "6467 2012-12-30 22:00:00       1        0           0        1   8.20   9.850   \n",
            "6468 2012-12-30 23:00:00       1        0           0        1   8.20   9.850   \n",
            "\n",
            "      humidity  windspeed  hour  dayofweek  month  year  is_weekend  \n",
            "48          45    16.9979     0          5      1  2011           1  \n",
            "49          41    26.0027     1          5      1  2011           1  \n",
            "50          41    16.9979     2          5      1  2011           1  \n",
            "51          41    19.0012     3          5      1  2011           1  \n",
            "52          48    19.9995     4          5      1  2011           1  \n",
            "...        ...        ...   ...        ...    ...   ...         ...  \n",
            "6464        61     0.0000    19          6     12  2012           1  \n",
            "6465        47    22.0028    20          6     12  2012           1  \n",
            "6466        51    11.0014    21          6     12  2012           1  \n",
            "6467        55    12.9980    22          6     12  2012           1  \n",
            "6468        51    15.0013    23          6     12  2012           1  \n",
            "\n",
            "[1851 rows x 14 columns]\n",
            "\n",
            "workingday:  Empty DataFrame\n",
            "Columns: [datetime, season, holiday, workingday, weather, temp, atemp, humidity, windspeed, hour, dayofweek, month, year, is_weekend]\n",
            "Index: []\n"
          ]
        }
      ],
      "source": [
        "## holiday, workingday 유효성 검사\n",
        "print('holiday: ', train_df[(train_df['is_weekend'] == 1) & (train_df['holiday'] == 0)], end='\\n\\n') # 토,일 인 데이터와 holiday의 공휴일 비교\n",
        "print('workingday: ', train_df[(train_df['is_weekend'] == 1) & (train_df['workingday'] == 1)]) # 토,일 인 데이터와 workingday의 주말/공휴일 비교\n",
        "\n",
        "print('holiday: ', test_df[(test_df['is_weekend'] == 1) & (test_df['holiday'] == 0)], end='\\n\\n') # 토,일 인 데이터와 holiday의 공휴일 비교\n",
        "print('workingday: ', test_df[(test_df['is_weekend'] == 1) & (test_df['workingday'] == 1)]) # 토,일 인 데이터와 workingday의 주말/공휴일 비교"
      ]
    },
    {
      "cell_type": "code",
      "execution_count": 12,
      "metadata": {
        "colab": {
          "base_uri": "https://localhost:8080/",
          "height": 221
        },
        "id": "RNMWnp6oHfHV",
        "outputId": "98115c83-9fb1-4773-a1ac-247ae16ae242"
      },
      "outputs": [
        {
          "data": {
            "image/png": "[encoded data removed]",
            "text/plain": [
              "<Figure size 1200x300 with 4 Axes>"
            ]
          },
          "metadata": {},
          "output_type": "display_data"
        }
      ],
      "source": [
        "# 이상치 시각화\n",
        "num_cols = ['temp', 'atemp', 'humidity', 'windspeed']\n",
        "\n",
        "plt.figure(figsize=(12, 3))\n",
        "\n",
        "cnt = 1\n",
        "for i, col in enumerate(num_cols):\n",
        "    plt.subplot(1, 4, cnt)\n",
        "    sns.boxplot(data=train_df, x=col)\n",
        "    plt.title(f'Box Plot of {col}')\n",
        "\n",
        "    cnt += 1\n",
        "\n",
        "plt.tight_layout()\n",
        "plt.show()\n"
      ]
    },
    {
      "cell_type": "code",
      "execution_count": 13,
      "metadata": {
        "colab": {
          "base_uri": "https://localhost:8080/"
        },
        "id": "nVulIULuX7TE",
        "outputId": "498a82d8-adfb-4c5d-f64a-31390568a42e"
      },
      "outputs": [
        {
          "name": "stdout",
          "output_type": "stream",
          "text": [
            "22\n",
            "0\n"
          ]
        }
      ],
      "source": [
        "# 습도가 0인 데이터는 이상치로 판단해 제거함\n",
        "print(train_df[train_df['humidity'] == 0]['humidity'].count())\n",
        "print(test_df[test_df['humidity'] == 0]['humidity'].count())\n",
        "\n",
        "train_df.drop(train_df[train_df['humidity'] == 0].index, inplace=True)"
      ]
    },
    {
      "cell_type": "code",
      "execution_count": 14,
      "metadata": {
        "colab": {
          "base_uri": "https://localhost:8080/"
        },
        "id": "PdlN_5hTZY9a",
        "outputId": "66a6c838-f0a0-4cbb-ca9b-96cb926ee0e4"
      },
      "outputs": [
        {
          "name": "stdout",
          "output_type": "stream",
          "text": [
            "40\n",
            "23\n"
          ]
        }
      ],
      "source": [
        "# 풍속이 20만 넘어도 폭풍, 태풍수준인데 러프하게 40이상은 이상치로 판단\n",
        "print(train_df[train_df['windspeed'] > 40]['windspeed'].count())\n",
        "print(test_df[test_df['windspeed'] > 40]['windspeed'].count())\n",
        "\n",
        "train_df.drop(train_df[train_df['windspeed'] > 40].index, inplace=True)\n",
        "test_df.drop(test_df[test_df['windspeed'] > 40].index, inplace=True)"
      ]
    },
    {
      "cell_type": "code",
      "execution_count": 15,
      "metadata": {
        "colab": {
          "base_uri": "https://localhost:8080/"
        },
        "id": "51rUThLWxW9l",
        "outputId": "d7815e82-c3f2-4c6a-be30-5fd1706fef72"
      },
      "outputs": [
        {
          "name": "stdout",
          "output_type": "stream",
          "text": [
            "                datetime   temp   atemp  temp_diff\n",
            "8303 2012-07-07 08:00:00  33.62  41.665      8.045\n",
            "3301 2011-08-07 11:00:00  33.62  41.665      8.045\n",
            "3300 2011-08-07 10:00:00  32.80  40.150      7.350\n",
            "2423 2011-06-08 21:00:00  32.80  40.150      7.350\n",
            "3139 2011-07-19 17:00:00  32.80  40.150      7.350\n",
            "...                  ...    ...     ...        ...\n",
            "5132 2011-12-07 22:00:00   9.84   9.850      0.010\n",
            "603  2011-02-08 07:00:00   9.84   9.850      0.010\n",
            "608  2011-02-08 12:00:00   9.84   9.850      0.010\n",
            "609  2011-02-08 13:00:00   9.84   9.850      0.010\n",
            "5138 2011-12-08 04:00:00   9.84   9.850      0.010\n",
            "\n",
            "[10800 rows x 4 columns]\n",
            "                datetime   temp   atemp  temp_diff\n",
            "1605 2011-07-21 21:00:00  33.62  44.695     11.075\n",
            "1603 2011-07-21 19:00:00  35.26  46.210     10.950\n",
            "1623 2011-07-22 15:00:00  38.54  49.240     10.700\n",
            "1621 2011-07-22 13:00:00  38.54  49.240     10.700\n",
            "1622 2011-07-22 14:00:00  39.36  50.000     10.640\n",
            "...                  ...    ...     ...        ...\n",
            "6453 2012-12-30 08:00:00   9.84   9.850      0.010\n",
            "6371 2012-12-26 22:00:00   9.84   9.850      0.010\n",
            "6374 2012-12-27 01:00:00   9.84   9.850      0.010\n",
            "6375 2012-12-27 02:00:00   9.84   9.850      0.010\n",
            "3651 2012-02-25 22:00:00   9.84   9.850      0.010\n",
            "\n",
            "[6470 rows x 4 columns]\n"
          ]
        }
      ],
      "source": [
        "# test 데이터는 온도차가 고르게 분포되어있으나,\n",
        "# train 데이터에는 12.08.17 실측온도에 이상치가 존재함. 제거\n",
        "\n",
        "# 실측온도와 체감온도 차이 계산\n",
        "train_df['temp_diff'] = abs(train_df['temp'] - train_df['atemp'])\n",
        "test_df['temp_diff'] = abs(test_df['temp'] - test_df['atemp'])\n",
        "\n",
        "train_df.drop(train_df[train_df['temp_diff'] > 13].index, inplace=True)\n",
        "\n",
        "# 차이가 큰 순서로 정렬\n",
        "train_temp_diff = train_df[['datetime', 'temp', 'atemp', 'temp_diff']].sort_values(by='temp_diff', ascending=False)\n",
        "test_temp_diff = test_df[['datetime', 'temp', 'atemp', 'temp_diff']].sort_values(by='temp_diff', ascending=False)\n",
        "\n",
        "print(train_temp_diff)\n",
        "print(test_temp_diff)"
      ]
    },
    {
      "cell_type": "code",
      "execution_count": 16,
      "metadata": {
        "colab": {
          "base_uri": "https://localhost:8080/",
          "height": 291
        },
        "id": "nLJoohlaxSu9",
        "outputId": "831fcfb1-b88c-472c-a42c-5cb85ae5f990"
      },
      "outputs": [
        {
          "data": {
            "image/png": "[encoded data removed]",
            "text/plain": [
              "<Figure size 1200x400 with 2 Axes>"
            ]
          },
          "metadata": {},
          "output_type": "display_data"
        }
      ],
      "source": [
        "# 실측 온도 구간별 registered/casual 평균\n",
        "train_df['temp_bin'] = (train_df['temp'] // 2) * 2\n",
        "temp_reg_cas = train_df.groupby('temp_bin')[['registered', 'casual']].mean().reset_index().melt(id_vars='temp_bin', var_name='유형', value_name='평균 대여 수')\n",
        "\n",
        "# 체감 온도 구간별 registered/casual 평균\n",
        "train_df['atemp_bin'] = (train_df['atemp'] // 2) * 2\n",
        "atemp_reg_cas = train_df.groupby('atemp_bin')[['registered', 'casual']].mean().reset_index().melt(id_vars='atemp_bin', var_name='유형', value_name='평균 대여 수')\n",
        "\n",
        "\n",
        "# 시각화\n",
        "fig, axes = plt.subplots(1, 2, figsize=(12, 4))\n",
        "\n",
        "sns.barplot(data=temp_reg_cas, x='temp_bin', y='평균 대여 수', hue='유형', ax=axes[0])\n",
        "axes[0].set_title('실측 온도에 따른 자전거 등록 평균', fontsize=14)\n",
        "axes[0].set_ylabel('평균 대여 수 (registered)', fontsize=12)\n",
        "axes[0].set_xticks(range(0, 25, 5))\n",
        "axes[0].grid(True)\n",
        "\n",
        "sns.barplot(data=atemp_reg_cas, x='atemp_bin', y='평균 대여 수', hue='유형', ax=axes[1])\n",
        "axes[1].set_title('체감 온도에 따른 자전거 등록 평균', fontsize=14)\n",
        "axes[1].set_ylabel('평균 대여 수 (registered)', fontsize=12)\n",
        "axes[1].set_xticks(range(0, 25, 5))\n",
        "axes[1].grid(True)\n",
        "\n",
        "plt.tight_layout()\n",
        "plt.show()\n",
        "\n",
        "train_df.drop(columns=['temp_bin', 'atemp_bin'], inplace=True)"
      ]
    },
    {
      "cell_type": "code",
      "execution_count": 17,
      "metadata": {
        "colab": {
          "base_uri": "https://localhost:8080/",
          "height": 221
        },
        "id": "EfiA3oq7Dh0r",
        "outputId": "167e3219-1f77-4436-9c71-ff9afa7735a7"
      },
      "outputs": [
        {
          "data": {
            "image/png": "[encoded data removed]",
            "text/plain": [
              "<Figure size 1200x300 with 2 Axes>"
            ]
          },
          "metadata": {},
          "output_type": "display_data"
        }
      ],
      "source": [
        "temp_registered = train_df.groupby(['is_weekend', 'temp'])['registered'].mean().reset_index()\n",
        "temp_registered['구분'] = temp_registered['is_weekend'].map({0: '평일', 1: '주말'})\n",
        "\n",
        "atemp_registered = train_df.groupby(['is_weekend', 'atemp'])['registered'].mean().reset_index()\n",
        "atemp_registered['구분'] = atemp_registered['is_weekend'].map({0: '평일(체감)', 1: '주말(체감)'})\n",
        "\n",
        "\n",
        "# 시각화\n",
        "plt.figure(figsize=(12, 3))\n",
        "plt.subplot(1, 2, 1)\n",
        "sns.lineplot(data=temp_registered[temp_registered['is_weekend'] == 0], x='temp', y='registered', hue='구분', palette='Blues_d')\n",
        "sns.lineplot(data=atemp_registered[atemp_registered['is_weekend'] == 0], x='atemp', y='registered', hue='구분', palette='Oranges_d')\n",
        "plt.title('온도에 따른 자전거 등록 평균 (평일)', fontsize=14)\n",
        "plt.xlabel('')\n",
        "plt.ylabel('평균 대여 수 (registered)', fontsize=12)\n",
        "plt.grid(True)\n",
        "plt.legend()\n",
        "\n",
        "# 시각화\n",
        "plt.subplot(1, 2, 2)\n",
        "sns.lineplot(data=temp_registered[temp_registered['is_weekend'] != 0], x='temp', y='registered', hue='구분', palette='Blues_d')\n",
        "sns.lineplot(data=atemp_registered[atemp_registered['is_weekend'] != 0], x='atemp', y='registered', hue='구분', palette='Oranges_d')\n",
        "plt.title('온도에 따른 자전거 등록 평균 (주말)', fontsize=14)\n",
        "plt.xlabel('')\n",
        "plt.ylabel('평균 대여 수 (registered)', fontsize=12)\n",
        "plt.grid(True)\n",
        "plt.legend()\n",
        "plt.tight_layout()\n",
        "plt.show()"
      ]
    },
    {
      "cell_type": "code",
      "execution_count": 18,
      "metadata": {
        "colab": {
          "base_uri": "https://localhost:8080/",
          "height": 407
        },
        "id": "5VU8GrSmbks7",
        "outputId": "65a41688-9d15-4ffb-ffa7-75b393a677ae"
      },
      "outputs": [
        {
          "data": {
            "image/png": "[encoded data removed]",
            "text/plain": [
              "<Figure size 800x400 with 1 Axes>"
            ]
          },
          "metadata": {},
          "output_type": "display_data"
        }
      ],
      "source": [
        "# month\n",
        "\n",
        "# 월별 registered/casual 평균\n",
        "month_reg_cas = train_df.groupby('month')[['registered', 'casual']].mean().reset_index().melt(id_vars='month', var_name='유형', value_name='평균 대여 수')\n",
        "\n",
        "\n",
        "plt.figure(figsize=(8, 4))\n",
        "sns.barplot(data=month_reg_cas, x='month', y='평균 대여 수', hue='유형')\n",
        "plt.tight_layout()\n",
        "plt.show()"
      ]
    },
    {
      "cell_type": "code",
      "execution_count": 19,
      "metadata": {
        "colab": {
          "base_uri": "https://localhost:8080/",
          "height": 407
        },
        "id": "emjm1YTTx-pb",
        "outputId": "4f8e5b1a-8386-4c63-e243-b983abdb5407"
      },
      "outputs": [
        {
          "data": {
            "image/png": "[encoded data removed]",
            "text/plain": [
              "<Figure size 800x400 with 1 Axes>"
            ]
          },
          "metadata": {},
          "output_type": "display_data"
        }
      ],
      "source": [
        "humidity_registered = train_df.groupby(['humidity'])[['registered', 'casual']].mean().reset_index()\n",
        "\n",
        "plt.figure(figsize=(8, 4))\n",
        "sns.barplot(data=humidity_registered, x='humidity', y='registered', label=\"registered\")\n",
        "sns.barplot(data=humidity_registered, x='humidity', y='casual', label=\"casual\")\n",
        "plt.title('습도에 따른 자전거 등록 평균', fontsize=14)\n",
        "plt.xlabel('')\n",
        "plt.ylabel('평균 대여 수 (registered)', fontsize=12)\n",
        "plt.xticks(range(0, 100, 10))\n",
        "plt.grid(True)\n",
        "plt.legend()\n",
        "plt.tight_layout()\n",
        "plt.show()"
      ]
    },
    {
      "cell_type": "code",
      "execution_count": 20,
      "metadata": {
        "colab": {
          "base_uri": "https://localhost:8080/",
          "height": 407
        },
        "id": "_3Hp8jzDtrHk",
        "outputId": "5c50e11d-f11a-4f62-9ac8-93c828925e8a"
      },
      "outputs": [
        {
          "data": {
            "image/png": "[encoded data removed]",
            "text/plain": [
              "<Figure size 800x400 with 1 Axes>"
            ]
          },
          "metadata": {},
          "output_type": "display_data"
        }
      ],
      "source": [
        "# 주말/평일 + 시간대별 평균 대여 수요\n",
        "windspeed_registered = train_df.groupby(['windspeed'])[['registered', 'casual']].mean().reset_index()\n",
        "\n",
        "# 시각화\n",
        "plt.figure(figsize=(8, 4))\n",
        "sns.barplot(data=windspeed_registered, x='windspeed', y='registered', label=\"registered\")\n",
        "sns.barplot(data=windspeed_registered, x='windspeed', y='casual', label=\"casual\")\n",
        "plt.title('바람세기에 따른 자전거 등록 평균', fontsize=14)\n",
        "plt.xlabel('')\n",
        "plt.ylabel('평균 대여 수 (registered)', fontsize=12)\n",
        "plt.xticks(range(0, 25, 5))\n",
        "plt.grid(True)\n",
        "plt.legend()\n",
        "plt.tight_layout()\n",
        "plt.show()"
      ]
    },
    {
      "cell_type": "code",
      "execution_count": 21,
      "metadata": {
        "colab": {
          "base_uri": "https://localhost:8080/",
          "height": 407
        },
        "id": "r7SZXv1ziqZu",
        "outputId": "a0beaecd-c2ed-45eb-c6b0-8f3ce7a9bf13"
      },
      "outputs": [
        {
          "data": {
            "image/png": "[encoded data removed]",
            "text/plain": [
              "<Figure size 800x400 with 1 Axes>"
            ]
          },
          "metadata": {},
          "output_type": "display_data"
        }
      ],
      "source": [
        "# 주말/평일 + 시간대별 평균 대여 수요\n",
        "hour_weekend_count = train_df.groupby(['is_weekend', 'hour'])['count'].mean().reset_index()\n",
        "hour_weekend_count['구분'] = hour_weekend_count['is_weekend'].map({0: '평일', 1: '주말'})\n",
        "\n",
        "# 시각화\n",
        "plt.figure(figsize=(8, 4))\n",
        "sns.lineplot(data=hour_weekend_count, x='hour', y='count', hue='구분', marker='o')\n",
        "plt.title('주말 vs 평일 시간대별 평균 자전거 대여 수요', fontsize=14)\n",
        "plt.xlabel('시간대 (Hour)', fontsize=12)\n",
        "plt.ylabel('평균 대여 수 (count)', fontsize=12)\n",
        "plt.grid(True)\n",
        "plt.xticks(range(0, 24))\n",
        "plt.legend(title='구분')\n",
        "plt.tight_layout()\n",
        "plt.show()"
      ]
    },
    {
      "cell_type": "code",
      "execution_count": 22,
      "metadata": {
        "colab": {
          "base_uri": "https://localhost:8080/",
          "height": 347
        },
        "id": "VPhbEieYirza",
        "outputId": "0c78b330-f9f7-4b44-b734-906bb1c6378d"
      },
      "outputs": [
        {
          "data": {
            "image/png": "[encoded data removed]",
            "text/plain": [
              "<Figure size 1000x400 with 2 Axes>"
            ]
          },
          "metadata": {},
          "output_type": "display_data"
        }
      ],
      "source": [
        "# 요일별 평균 대여량\n",
        "dayofweek_count = train_df.groupby('dayofweek')['count'].mean().reset_index()\n",
        "dayofweek_count.columns = ['요일', '평균 대여 수']\n",
        "\n",
        "# 주말/평일별 평균 대여량\n",
        "weekend_count = train_df.groupby('is_weekend')['count'].mean().reset_index()\n",
        "weekend_count['구분'] = weekend_count['is_weekend'].map({0: '평일', 1: '주말'})\n",
        "weekend_count = weekend_count[['구분', 'count']]\n",
        "weekend_count.columns = ['구분', '평균 대여 수']\n",
        "\n",
        "fig, axes = plt.subplots(1, 2, figsize=(10, 4))\n",
        "\n",
        "# 요일별 평균 대여 수\n",
        "sns.barplot(data=dayofweek_count, x='요일', y='평균 대여 수', ax=axes[0], palette='Blues_d')\n",
        "axes[0].set_title('요일별 평균 자전거 대여 수', fontsize=10)\n",
        "axes[0].set_xticklabels(['월', '화', '수', '목', '금', '토', '일'])\n",
        "axes[0].set_xlabel('요일', fontsize=10)\n",
        "axes[0].set_ylabel('평균 대여 수 (count)', fontsize=10)\n",
        "\n",
        "# 주말/평일 평균 대여 수\n",
        "sns.barplot(data=weekend_count, x='구분', y='평균 대여 수', ax=axes[1], palette='Oranges_d')\n",
        "axes[1].set_title('주말 vs 평일 평균 자전거 대여 수', fontsize=10)\n",
        "axes[1].set_xlabel('구분', fontsize=10)\n",
        "axes[1].set_ylabel('평균 대여 수 (count)', fontsize=10)\n",
        "\n",
        "plt.tight_layout()\n",
        "plt.show()"
      ]
    },
    {
      "cell_type": "markdown",
      "metadata": {
        "id": "hkOLkQLkk7-S"
      },
      "source": [
        "### 데이터 2차 확인 결과\n",
        "\n",
        "- holiday 열 설명이 실 데이터와는 반대로 확인이 됩니다.\n",
        "- 기온이 낮을수록 전반적인 대여량이 감소하는것이 확인됩니다.\n",
        "- 주중에는 출퇴근 시간대에 대여량이 증가합니다.\n",
        "- 주말에는 출퇴근 피크는 없으나 대여량이 10시부터 증가해 12~15시 정점도달 후 점진적으로 감소합니다.\n",
        "\n"
      ]
    },
    {
      "cell_type": "markdown",
      "metadata": {
        "id": "78rovokw1x5x"
      },
      "source": [
        "## 모델링"
      ]
    },
    {
      "cell_type": "code",
      "execution_count": 23,
      "metadata": {
        "colab": {
          "base_uri": "https://localhost:8080/",
          "height": 400
        },
        "id": "5wMjZXpo0jLc",
        "outputId": "1ba532f5-47cd-4903-cda6-4cc404611545"
      },
      "outputs": [
        {
          "data": {
            "text/html": [
              "<div>\n",
              "<style scoped>\n",
              "    .dataframe tbody tr th:only-of-type {\n",
              "        vertical-align: middle;\n",
              "    }\n",
              "\n",
              "    .dataframe tbody tr th {\n",
              "        vertical-align: top;\n",
              "    }\n",
              "\n",
              "    .dataframe thead th {\n",
              "        text-align: right;\n",
              "    }\n",
              "</style>\n",
              "<table border=\"1\" class=\"dataframe\">\n",
              "  <thead>\n",
              "    <tr style=\"text-align: right;\">\n",
              "      <th></th>\n",
              "      <th>datetime</th>\n",
              "      <th>season</th>\n",
              "      <th>holiday</th>\n",
              "      <th>workingday</th>\n",
              "      <th>weather</th>\n",
              "      <th>temp</th>\n",
              "      <th>atemp</th>\n",
              "      <th>humidity</th>\n",
              "      <th>windspeed</th>\n",
              "      <th>hour</th>\n",
              "      <th>dayofweek</th>\n",
              "      <th>month</th>\n",
              "      <th>year</th>\n",
              "      <th>is_weekend</th>\n",
              "      <th>temp_diff</th>\n",
              "    </tr>\n",
              "  </thead>\n",
              "  <tbody>\n",
              "    <tr>\n",
              "      <th>0</th>\n",
              "      <td>2011-01-20 00:00:00</td>\n",
              "      <td>1</td>\n",
              "      <td>0</td>\n",
              "      <td>1</td>\n",
              "      <td>1</td>\n",
              "      <td>10.66</td>\n",
              "      <td>11.365</td>\n",
              "      <td>56</td>\n",
              "      <td>26.0027</td>\n",
              "      <td>0</td>\n",
              "      <td>3</td>\n",
              "      <td>1</td>\n",
              "      <td>2011</td>\n",
              "      <td>0</td>\n",
              "      <td>0.705</td>\n",
              "    </tr>\n",
              "    <tr>\n",
              "      <th>1</th>\n",
              "      <td>2011-01-20 01:00:00</td>\n",
              "      <td>1</td>\n",
              "      <td>0</td>\n",
              "      <td>1</td>\n",
              "      <td>1</td>\n",
              "      <td>10.66</td>\n",
              "      <td>13.635</td>\n",
              "      <td>56</td>\n",
              "      <td>0.0000</td>\n",
              "      <td>1</td>\n",
              "      <td>3</td>\n",
              "      <td>1</td>\n",
              "      <td>2011</td>\n",
              "      <td>0</td>\n",
              "      <td>2.975</td>\n",
              "    </tr>\n",
              "    <tr>\n",
              "      <th>2</th>\n",
              "      <td>2011-01-20 02:00:00</td>\n",
              "      <td>1</td>\n",
              "      <td>0</td>\n",
              "      <td>1</td>\n",
              "      <td>1</td>\n",
              "      <td>10.66</td>\n",
              "      <td>13.635</td>\n",
              "      <td>56</td>\n",
              "      <td>0.0000</td>\n",
              "      <td>2</td>\n",
              "      <td>3</td>\n",
              "      <td>1</td>\n",
              "      <td>2011</td>\n",
              "      <td>0</td>\n",
              "      <td>2.975</td>\n",
              "    </tr>\n",
              "    <tr>\n",
              "      <th>3</th>\n",
              "      <td>2011-01-20 03:00:00</td>\n",
              "      <td>1</td>\n",
              "      <td>0</td>\n",
              "      <td>1</td>\n",
              "      <td>1</td>\n",
              "      <td>10.66</td>\n",
              "      <td>12.880</td>\n",
              "      <td>56</td>\n",
              "      <td>11.0014</td>\n",
              "      <td>3</td>\n",
              "      <td>3</td>\n",
              "      <td>1</td>\n",
              "      <td>2011</td>\n",
              "      <td>0</td>\n",
              "      <td>2.220</td>\n",
              "    </tr>\n",
              "    <tr>\n",
              "      <th>4</th>\n",
              "      <td>2011-01-20 04:00:00</td>\n",
              "      <td>1</td>\n",
              "      <td>0</td>\n",
              "      <td>1</td>\n",
              "      <td>1</td>\n",
              "      <td>10.66</td>\n",
              "      <td>12.880</td>\n",
              "      <td>56</td>\n",
              "      <td>11.0014</td>\n",
              "      <td>4</td>\n",
              "      <td>3</td>\n",
              "      <td>1</td>\n",
              "      <td>2011</td>\n",
              "      <td>0</td>\n",
              "      <td>2.220</td>\n",
              "    </tr>\n",
              "  </tbody>\n",
              "</table>\n",
              "</div>"
            ],
            "text/plain": [
              "             datetime  season  holiday  workingday  weather   temp   atemp  \\\n",
              "0 2011-01-20 00:00:00       1        0           1        1  10.66  11.365   \n",
              "1 2011-01-20 01:00:00       1        0           1        1  10.66  13.635   \n",
              "2 2011-01-20 02:00:00       1        0           1        1  10.66  13.635   \n",
              "3 2011-01-20 03:00:00       1        0           1        1  10.66  12.880   \n",
              "4 2011-01-20 04:00:00       1        0           1        1  10.66  12.880   \n",
              "\n",
              "   humidity  windspeed  hour  dayofweek  month  year  is_weekend  temp_diff  \n",
              "0        56    26.0027     0          3      1  2011           0      0.705  \n",
              "1        56     0.0000     1          3      1  2011           0      2.975  \n",
              "2        56     0.0000     2          3      1  2011           0      2.975  \n",
              "3        56    11.0014     3          3      1  2011           0      2.220  \n",
              "4        56    11.0014     4          3      1  2011           0      2.220  "
            ]
          },
          "execution_count": 23,
          "metadata": {},
          "output_type": "execute_result"
        }
      ],
      "source": [
        "test_df.head()"
      ]
    },
    {
      "cell_type": "code",
      "execution_count": 24,
      "metadata": {
        "colab": {
          "base_uri": "https://localhost:8080/",
          "height": 400
        },
        "id": "iWHJ4SdR3LXM",
        "outputId": "72379747-bef4-4815-97cf-a70e871a9acb"
      },
      "outputs": [
        {
          "data": {
            "text/html": [
              "<div>\n",
              "<style scoped>\n",
              "    .dataframe tbody tr th:only-of-type {\n",
              "        vertical-align: middle;\n",
              "    }\n",
              "\n",
              "    .dataframe tbody tr th {\n",
              "        vertical-align: top;\n",
              "    }\n",
              "\n",
              "    .dataframe thead th {\n",
              "        text-align: right;\n",
              "    }\n",
              "</style>\n",
              "<table border=\"1\" class=\"dataframe\">\n",
              "  <thead>\n",
              "    <tr style=\"text-align: right;\">\n",
              "      <th></th>\n",
              "      <th>datetime</th>\n",
              "      <th>season</th>\n",
              "      <th>holiday</th>\n",
              "      <th>workingday</th>\n",
              "      <th>weather</th>\n",
              "      <th>temp</th>\n",
              "      <th>atemp</th>\n",
              "      <th>humidity</th>\n",
              "      <th>windspeed</th>\n",
              "      <th>casual</th>\n",
              "      <th>registered</th>\n",
              "      <th>count</th>\n",
              "      <th>hour</th>\n",
              "      <th>dayofweek</th>\n",
              "      <th>month</th>\n",
              "      <th>year</th>\n",
              "      <th>is_weekend</th>\n",
              "      <th>temp_diff</th>\n",
              "    </tr>\n",
              "  </thead>\n",
              "  <tbody>\n",
              "    <tr>\n",
              "      <th>0</th>\n",
              "      <td>2011-01-01 00:00:00</td>\n",
              "      <td>1</td>\n",
              "      <td>0</td>\n",
              "      <td>0</td>\n",
              "      <td>1</td>\n",
              "      <td>9.84</td>\n",
              "      <td>14.395</td>\n",
              "      <td>81</td>\n",
              "      <td>0.0</td>\n",
              "      <td>3</td>\n",
              "      <td>13</td>\n",
              "      <td>16</td>\n",
              "      <td>0</td>\n",
              "      <td>5</td>\n",
              "      <td>1</td>\n",
              "      <td>2011</td>\n",
              "      <td>1</td>\n",
              "      <td>4.555</td>\n",
              "    </tr>\n",
              "    <tr>\n",
              "      <th>1</th>\n",
              "      <td>2011-01-01 01:00:00</td>\n",
              "      <td>1</td>\n",
              "      <td>0</td>\n",
              "      <td>0</td>\n",
              "      <td>1</td>\n",
              "      <td>9.02</td>\n",
              "      <td>13.635</td>\n",
              "      <td>80</td>\n",
              "      <td>0.0</td>\n",
              "      <td>8</td>\n",
              "      <td>32</td>\n",
              "      <td>40</td>\n",
              "      <td>1</td>\n",
              "      <td>5</td>\n",
              "      <td>1</td>\n",
              "      <td>2011</td>\n",
              "      <td>1</td>\n",
              "      <td>4.615</td>\n",
              "    </tr>\n",
              "    <tr>\n",
              "      <th>2</th>\n",
              "      <td>2011-01-01 02:00:00</td>\n",
              "      <td>1</td>\n",
              "      <td>0</td>\n",
              "      <td>0</td>\n",
              "      <td>1</td>\n",
              "      <td>9.02</td>\n",
              "      <td>13.635</td>\n",
              "      <td>80</td>\n",
              "      <td>0.0</td>\n",
              "      <td>5</td>\n",
              "      <td>27</td>\n",
              "      <td>32</td>\n",
              "      <td>2</td>\n",
              "      <td>5</td>\n",
              "      <td>1</td>\n",
              "      <td>2011</td>\n",
              "      <td>1</td>\n",
              "      <td>4.615</td>\n",
              "    </tr>\n",
              "    <tr>\n",
              "      <th>3</th>\n",
              "      <td>2011-01-01 03:00:00</td>\n",
              "      <td>1</td>\n",
              "      <td>0</td>\n",
              "      <td>0</td>\n",
              "      <td>1</td>\n",
              "      <td>9.84</td>\n",
              "      <td>14.395</td>\n",
              "      <td>75</td>\n",
              "      <td>0.0</td>\n",
              "      <td>3</td>\n",
              "      <td>10</td>\n",
              "      <td>13</td>\n",
              "      <td>3</td>\n",
              "      <td>5</td>\n",
              "      <td>1</td>\n",
              "      <td>2011</td>\n",
              "      <td>1</td>\n",
              "      <td>4.555</td>\n",
              "    </tr>\n",
              "    <tr>\n",
              "      <th>4</th>\n",
              "      <td>2011-01-01 04:00:00</td>\n",
              "      <td>1</td>\n",
              "      <td>0</td>\n",
              "      <td>0</td>\n",
              "      <td>1</td>\n",
              "      <td>9.84</td>\n",
              "      <td>14.395</td>\n",
              "      <td>75</td>\n",
              "      <td>0.0</td>\n",
              "      <td>0</td>\n",
              "      <td>1</td>\n",
              "      <td>1</td>\n",
              "      <td>4</td>\n",
              "      <td>5</td>\n",
              "      <td>1</td>\n",
              "      <td>2011</td>\n",
              "      <td>1</td>\n",
              "      <td>4.555</td>\n",
              "    </tr>\n",
              "  </tbody>\n",
              "</table>\n",
              "</div>"
            ],
            "text/plain": [
              "             datetime  season  holiday  workingday  weather  temp   atemp  \\\n",
              "0 2011-01-01 00:00:00       1        0           0        1  9.84  14.395   \n",
              "1 2011-01-01 01:00:00       1        0           0        1  9.02  13.635   \n",
              "2 2011-01-01 02:00:00       1        0           0        1  9.02  13.635   \n",
              "3 2011-01-01 03:00:00       1        0           0        1  9.84  14.395   \n",
              "4 2011-01-01 04:00:00       1        0           0        1  9.84  14.395   \n",
              "\n",
              "   humidity  windspeed  casual  registered  count  hour  dayofweek  month  \\\n",
              "0        81        0.0       3          13     16     0          5      1   \n",
              "1        80        0.0       8          32     40     1          5      1   \n",
              "2        80        0.0       5          27     32     2          5      1   \n",
              "3        75        0.0       3          10     13     3          5      1   \n",
              "4        75        0.0       0           1      1     4          5      1   \n",
              "\n",
              "   year  is_weekend  temp_diff  \n",
              "0  2011           1      4.555  \n",
              "1  2011           1      4.615  \n",
              "2  2011           1      4.615  \n",
              "3  2011           1      4.555  \n",
              "4  2011           1      4.555  "
            ]
          },
          "execution_count": 24,
          "metadata": {},
          "output_type": "execute_result"
        }
      ],
      "source": [
        "train_df.head()"
      ]
    },
    {
      "cell_type": "code",
      "execution_count": 25,
      "metadata": {
        "id": "YqsLyv113tpb"
      },
      "outputs": [],
      "source": [
        "from sklearn.preprocessing import PolynomialFeatures\n",
        "from sklearn.model_selection import train_test_split, cross_val_score\n",
        "from sklearn.linear_model import LinearRegression, Ridge, Lasso, ElasticNet\n",
        "from sklearn.metrics import mean_absolute_error, mean_squared_error, r2_score, make_scorer, mean_squared_log_error\n",
        "from sklearn.pipeline import make_pipeline"
      ]
    },
    {
      "cell_type": "code",
      "execution_count": 26,
      "metadata": {},
      "outputs": [],
      "source": [
        "def rmsle(y_true, y_pred):\n",
        "    y_pred = np.maximum(y_pred, 0)  # 음수 방지\n",
        "    return np.sqrt(mean_squared_log_error(y_true, y_pred))\n",
        "\n",
        "# 훈련용 데이터 재정의\n",
        "\n",
        "# 요일/시간대/월 기준 그룹핑 → 평균 대여량 구함\n",
        "peak_profile = train_df.groupby(['is_weekend', 'hour', 'month'])['count'].mean().reset_index()\n",
        "peak_profile = peak_profile.rename(columns={'count': 'peak_weight'})\n",
        "if 'peak_weight' not in train_df.columns:\n",
        "    train_df = train_df.merge(peak_profile, on=['is_weekend', 'hour', 'month'], how='left')\n",
        "\n",
        "train_df['weather_severe'] = (train_df['weather'] > 2).astype(int)\n",
        "train_df['hour_squared'] = train_df['hour'] ** 2\n",
        "train_df['env_score'] = (\n",
        "    -0.5 * (train_df['atemp'] - 20)**2           # 체감온도: 20도 중심\n",
        "    - 0.2 * (train_df['humidity'] - 50)**2       # 습도: 50% 중심\n",
        "    - 1.5 * (train_df['windspeed'] - 3)**2       # 바람: 2.5 m/s 중심\n",
        ")\n",
        "\n",
        "# 테스트 데이터 동일한 전처리\n",
        "test_df = test_df.merge(peak_profile, on=['is_weekend', 'hour', 'month'], how='left')\n",
        "test_df['weather_severe'] = (test_df['weather'] > 2).astype(int)\n",
        "test_df['hour_squared'] = test_df['hour'] ** 2\n",
        "test_df['env_score'] = (\n",
        "    -0.5 * (test_df['atemp'] - 20)**2           # 체감온도: 20도 중심\n",
        "    - 0.2 * (test_df['humidity'] - 50)**2       # 습도: 50% 중심\n",
        "    - 1.5 * (test_df['windspeed'] - 3)**2       # 바람: 2.5 m/s 중심\n",
        ")\n",
        "\n",
        "features = train_df.columns.tolist()\n",
        "features.remove('registered')\n",
        "features.remove('casual')\n",
        "features.remove('count')\n",
        "features.remove('datetime')\n",
        "features.remove('workingday')\n",
        "features.remove('holiday')\n",
        "features.remove('year')\n",
        "features.remove('weather')\n",
        "features.remove('season')\n",
        "features.remove('dayofweek')"
      ]
    },
    {
      "cell_type": "code",
      "execution_count": 27,
      "metadata": {},
      "outputs": [
        {
          "name": "stdout",
          "output_type": "stream",
          "text": [
            "alpha=0.1, 평균 RMSE=105.6933\n",
            "alpha=1, 평균 RMSE=105.6869\n",
            "alpha=10, 평균 RMSE=105.6457\n",
            "alpha=100, 평균 RMSE=105.5180\n",
            "alpha=300, 평균 RMSE=105.4508\n",
            "alpha=500, 평균 RMSE=105.4467\n",
            "alpha=1000, 평균 RMSE=105.4605\n"
          ]
        }
      ],
      "source": [
        "X = train_df[features]\n",
        "y = train_df['count']\n",
        "\n",
        "# Ridge alpha 찾기\n",
        "alphas = [0.1, 1, 10, 100, 300, 500, 1000]\n",
        "for a in alphas:\n",
        "    model = Ridge(alpha=a)\n",
        "    score = cross_val_score(model, X, y, scoring='neg_root_mean_squared_error', cv=5)\n",
        "    print(f\"alpha={a}, 평균 RMSE={-score.mean():.4f}\")"
      ]
    },
    {
      "cell_type": "code",
      "execution_count": 28,
      "metadata": {},
      "outputs": [
        {
          "name": "stdout",
          "output_type": "stream",
          "text": [
            "✅ 교차 검증 결과:\n",
            "   Fold        R2       RMSE     RMSLE\n",
            "0     1  0.827875  74.639380  0.750054\n",
            "1     2  0.828919  74.619390  0.719308\n",
            "2     3  0.839886  72.422729  0.701989\n",
            "3     4  0.841274  71.037183  0.742180\n",
            "4     5  0.827653  74.042528  0.732625\n",
            "평균   평균  0.833121  73.352242  0.729231\n",
            "\n",
            "✅ 훈련 데이터 성능:\n",
            "RMSE: 77.34812233110057\n",
            "RMSLE: 0.7121364889852556\n",
            "R²: 0.8290076694954469\n"
          ]
        }
      ],
      "source": [
        "def 모델_테스트(X, y):\n",
        "    X_train, X_test, y_train, y_test = train_test_split(X, y, test_size=0.2)\n",
        "\n",
        "    # 다항 회귀 파이프라인 (2차)\n",
        "    poly_model = make_pipeline(PolynomialFeatures(degree=2, include_bias=False), Ridge(alpha=300))\n",
        "\n",
        "    # 교차 검증 (5-Fold)\n",
        "    r2_scores = cross_val_score(poly_model, X_train, y_train, scoring='r2', cv=5)\n",
        "    rmse_scores = cross_val_score(poly_model, X_train, y_train, scoring='neg_root_mean_squared_error', cv=5)\n",
        "\n",
        "    rmsle_scores = cross_val_score(poly_model, X_train, y_train, scoring=make_scorer(rmsle, greater_is_better=False), cv=5)\n",
        "\n",
        "    # 결과 정리\n",
        "    cv_df = pd.DataFrame({\n",
        "        'Fold': list(range(1, 6)),\n",
        "        'R2': r2_scores,\n",
        "        'RMSE': -rmse_scores,\n",
        "        'RMSLE': -rmsle_scores\n",
        "    })\n",
        "    cv_df.loc['평균'] = ['평균', cv_df['R2'].mean(), cv_df['RMSE'].mean(), cv_df['RMSLE'].mean()]\n",
        "    print(\"✅ 교차 검증 결과:\")\n",
        "    print(cv_df, end='\\n\\n')\n",
        "\n",
        "\n",
        "    # 훈련셋 평가\n",
        "    poly_model.fit(X_train, y_train)\n",
        "    y_train_pred = poly_model.predict(X_test)\n",
        "\n",
        "    print(\"✅ 훈련 데이터 성능:\")\n",
        "    print(\"RMSE:\", np.sqrt(mean_squared_error(y_test, y_train_pred)))\n",
        "    print(\"RMSLE:\", rmsle(y_test, y_train_pred))\n",
        "    print(\"R²:\", r2_score(y_test, y_train_pred))\n",
        "\n",
        "모델_테스트(X, y)\n"
      ]
    },
    {
      "cell_type": "code",
      "execution_count": 29,
      "metadata": {},
      "outputs": [],
      "source": [
        "# 피처 정의\n",
        "X_train_final = train_df[features]\n",
        "y_train_final = train_df['count']\n",
        "\n",
        "X_test_final = test_df[features]\n",
        "\n",
        "# 최종 모델 정의 및 학습\n",
        "final_model = make_pipeline(\n",
        "    PolynomialFeatures(degree=2, include_bias=False),\n",
        "    Ridge(alpha=50)\n",
        ")\n",
        "final_model.fit(X_train_final, y_train_final)\n",
        "\n",
        "# 예측 및 제출 파일 생성\n",
        "preds = final_model.predict(X_test_final)\n",
        "preds = np.maximum(preds, 0).round()\n",
        "\n",
        "submission = test_df[original_columns].copy()\n",
        "submission['count'] = preds\n",
        "\n",
        "submission_path = \"./submission.csv\"\n",
        "submission.to_csv(submission_path, index=False)"
      ]
    },
    {
      "cell_type": "code",
      "execution_count": null,
      "metadata": {},
      "outputs": [],
      "source": []
    }
  ],
  "metadata": {
    "colab": {
      "provenance": []
    },
    "kernelspec": {
      "display_name": "myvenv",
      "language": "python",
      "name": "python3"
    },
    "language_info": {
      "codemirror_mode": {
        "name": "ipython",
        "version": 3
      },
      "file_extension": ".py",
      "mimetype": "text/x-python",
      "name": "python",
      "nbconvert_exporter": "python",
      "pygments_lexer": "ipython3",
      "version": "3.9.6"
    }
  },
  "nbformat": 4,
  "nbformat_minor": 0
}
